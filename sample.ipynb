{
 "cells": [
  {
   "cell_type": "code",
   "outputs": [
    {
     "name": "stdout",
     "output_type": "stream",
     "text": [
      "Hello, world!\n"
     ]
    }
   ],
   "source": [
    "print('Hello, world!')"
   ],
   "metadata": {
    "collapsed": false,
    "ExecuteTime": {
     "end_time": "2024-04-18T19:46:28.341054Z",
     "start_time": "2024-04-18T19:46:28.304958900Z"
    }
   },
   "id": "5aee68769114f9cf",
   "execution_count": 1
  },
  {
   "cell_type": "code",
   "outputs": [],
   "source": [
    "import pandas as pd\n",
    "import datetime as dt\n",
    "import seaborn as sns\n",
    "import matplotlib.pyplot as plt\n",
    "from scipy.stats import *\n",
    "import warnings\n",
    "from add_drive_cost import *\n",
    "\n",
    "warnings.filterwarnings(\"ignore\")\n",
    "\n",
    "\n",
    "rd = pd.read_csv('rides.csv', sep=',', skipinitialspace=True)\n",
    "wt = pd.read_csv('weather.csv', sep=',', skipinitialspace=True)\n",
    "rd.columns = [i.lower().replace(' ', '_') for i in rd.columns]\n",
    "wt.columns = [i.lower().replace(' ', '_') for i in wt.columns]\n",
    "rd.end_date = pd.to_datetime(rd.end_date.astype(str).apply(lambda x: dt.datetime.strptime(x, '%Y-%m-%d %H:%M:%S') if len(x) == 19 else pd.NA))\n",
    "rd.start_date = pd.to_datetime(rd.start_date.astype(str).apply(lambda x: dt.datetime.strptime(x, '%Y-%m-%d %H:%M:%S') if len(x) == 19 else pd.NA))\n",
    "wt.datetime = wt.datetime.astype(str).apply(lambda x: dt.datetime.strptime(x.replace(' ', 'T'), '%Y-%m-%dT%H:%M:%S') if len(x) == 19 else pd.NA)\n",
    "rd.drop_duplicates(subset=['id'], keep='first', inplace=True)"
   ],
   "metadata": {
    "collapsed": true,
    "ExecuteTime": {
     "end_time": "2024-04-18T19:48:32.220239100Z",
     "start_time": "2024-04-18T19:46:40.648Z"
    }
   },
   "id": "initial_id",
   "execution_count": 2
  },
  {
   "cell_type": "code",
   "outputs": [],
   "source": [
    "for i in rd.columns[4:8]:\n",
    "    rd.loc[:, i] = rd[i].astype(str).apply(lambda x: x.lower().replace(' ', '_'))"
   ],
   "metadata": {
    "collapsed": false
   },
   "id": "ce2af55ac730ac9c",
   "execution_count": null
  },
  {
   "cell_type": "markdown",
   "source": [
    "# Предобработка данных, очистка от выбросов и заполнение пропусков\n",
    "#### Для начала найдём средние значения времени поездки, скорости, расстояния и т.п. для дальнейшего заполнения пропусков"
   ],
   "metadata": {
    "collapsed": false
   },
   "id": "c029655a111825f7"
  },
  {
   "cell_type": "code",
   "outputs": [],
   "source": [
    "rd1 = rd.copy()"
   ],
   "metadata": {
    "collapsed": false
   },
   "id": "5cbac10c253c4886",
   "execution_count": null
  },
  {
   "cell_type": "code",
   "outputs": [],
   "source": [
    "rd1['duration_sec'] = (rd1['end_date'] - rd1['start_date']).dt.total_seconds()\n",
    "rd1['duration_sec'] = rd1.duration_sec.where(rd1.duration_sec <= 1000000, pd.NA).dropna()"
   ],
   "metadata": {
    "collapsed": false
   },
   "id": "75a66611c23000d9",
   "execution_count": null
  },
  {
   "cell_type": "code",
   "outputs": [],
   "source": [
    "rd1['speed'] = (rd1.loc[:, 'distance'] / rd1.loc[:, 'duration_sec']).astype(float)\n",
    "rd1['speed'] = rd1['speed'].where(rd1['speed'] <= 1000, pd.NA).dropna()  # находим скорость и ограничиваем экстремальные выбросы\n",
    "\n",
    "fig, axes = plt.subplots(2, 1, figsize=(12, 6))\n",
    "sns.violinplot(rd1.speed, orient='h', ax=axes[0])\n",
    "sns.boxplot(rd1.speed, orient='h', ax=axes[1])\n",
    "plt.xlabel('speed - Средняя скорость поездки')\n",
    "print(rd1.speed.quantile(0.25) - 1.5 * (rd1.speed.quantile(0.75) - rd1.speed.quantile(0.25)))\n",
    "print(min(rd1.speed), max(rd1.speed))\n",
    "rd1"
   ],
   "metadata": {
    "collapsed": false
   },
   "id": "eaa5d74af7ddf62e",
   "execution_count": null
  },
  {
   "cell_type": "code",
   "outputs": [],
   "source": [
    "fig, axes = plt.subplots(3, 1, figsize=(12, 6))\n",
    "rd1.loc[:, 'speed_var'] = rd1.speed.apply(lambda x: 'low' if x <= 0.9336 else 'normal')\n",
    "sns.kdeplot(data=rd1, x='duration_sec', hue='speed_var', ax=axes[0])\n",
    "sns.kdeplot(data=rd1, x='distance', hue='speed_var', ax=axes[1])\n",
    "sns.kdeplot(data=rd1[rd1['speed'] >= 1], x='distance', ax=axes[2])\n",
    "max(rd1.speed)"
   ],
   "metadata": {
    "collapsed": false
   },
   "id": "709917272b9d9cf2",
   "execution_count": null
  },
  {
   "cell_type": "markdown",
   "source": [
    "#### 5.31 м/с = 19.116 км/ч - вполне реальная величина скорости для самокатов, это намного ниже максимальной скорости большинства электросамокатов, а вот скорости, очень близкие к нулю - подозрительны, однако могут объясняться слишком большой продолжительностью поездки"
   ],
   "metadata": {
    "collapsed": false
   },
   "id": "afefdac18cc531f2"
  },
  {
   "cell_type": "code",
   "outputs": [],
   "source": [
    "sns.scatterplot(data=rd1, x='duration_sec', y='speed')"
   ],
   "metadata": {
    "collapsed": false
   },
   "id": "daf5220408a51d92",
   "execution_count": null
  },
  {
   "cell_type": "code",
   "outputs": [],
   "source": [
    "sns.scatterplot(data=rd1, x='distance', y='duration_sec')"
   ],
   "metadata": {
    "collapsed": false
   },
   "id": "f26887e09773c32",
   "execution_count": null
  },
  {
   "cell_type": "code",
   "outputs": [],
   "source": [
    "rd1[rd1['speed_var'] == 'low']"
   ],
   "metadata": {
    "collapsed": false
   },
   "id": "1c77179cd9cc1695",
   "execution_count": null
  },
  {
   "cell_type": "code",
   "outputs": [],
   "source": [
    "rd1['go'] = rd1.loc[:, 'end_location'] + rd1.loc[:, 'end_district'] + rd1.loc[:, 'end_location'] + rd1.loc[:, 'end_district']\n",
    "rd1['time_quantile'] = pd.qcut(rd1['duration_sec'], q=10, labels=range(1, 11))\n",
    "mask = rd1['speed'] < 0.9336\n",
    "\n",
    "rd1.loc[mask, 'speed'] = rd1.groupby(['go', 'time_quantile'])['speed'].transform('mean')\n",
    "\n",
    "rd1['speed'] = rd1['speed'].fillna(rd1.groupby(['go', 'time_quantile'])['speed'].transform('mean'))\n",
    "\n",
    "rd1['speed'] = rd1['speed'].fillna(rd1.groupby('go')['speed'].transform('mean'))  # Заполняем значения для поездок, у которых нет большого кол-ва квантилей\n",
    "\n",
    "rd1.loc[:, 'speed_var'] = rd1.speed.apply(lambda x: 'low' if x <= 0.9336 else 'normal')\n",
    "sns.scatterplot(data=rd1, x='duration_sec', y='speed')\n",
    "rd1[rd1['speed_var'] == 'low']"
   ],
   "metadata": {
    "collapsed": false
   },
   "id": "473138c7581dc708",
   "execution_count": null
  },
  {
   "cell_type": "markdown",
   "source": [
    "#### ..."
   ],
   "metadata": {
    "collapsed": false
   },
   "id": "5af2face31b6c67f"
  },
  {
   "cell_type": "code",
   "outputs": [],
   "source": [
    "sns.kdeplot(data=rd1[rd1['distance'] < 100000], x='distance')"
   ],
   "metadata": {
    "collapsed": false
   },
   "id": "1fc7fde999862946",
   "execution_count": null
  },
  {
   "cell_type": "markdown",
   "source": [
    "#### Скорее всего, поездки состоялись, но на определённых отрезках расстояние фиксируется неправильно, поэтому для заполнения пропусков в расстоянии мы будем использовать средние значения скорости по пунктам поездки (если будем использовать для заполнения общую среднюю скорость, то получим неправильные значения времени для отрезков с низкой скоростью)."
   ],
   "metadata": {
    "collapsed": false
   },
   "id": "2477a3729062dd21"
  },
  {
   "cell_type": "code",
   "outputs": [],
   "source": [
    "sns.violinplot(rd1.duration_sec)\n",
    "min(rd1.duration_sec.where(rd1.duration_sec >= 0).dropna())"
   ],
   "metadata": {
    "collapsed": false
   },
   "id": "6a84f1b2f4f7f0d0",
   "execution_count": null
  },
  {
   "cell_type": "code",
   "outputs": [],
   "source": [
    "import numpy as np\n",
    "\n",
    "# Calculate duration_sec based on speed if it is missing\n",
    "rd1['duration_sec'] = rd1['duration_sec'].fillna(rd1['distance'] / rd1['speed'])\n",
    "rd1['distance'] = rd1['distance'].fillna(rd1.speed * rd1.duration_sec)\n",
    "\n",
    "# Fill in end_date based on start_date and duration_sec\n",
    "rd1['end_date'] = rd1['start_date'] + pd.to_timedelta(rd1['duration_sec'], unit='s')"
   ],
   "metadata": {
    "collapsed": false
   },
   "id": "3017f426b64abea5",
   "execution_count": null
  },
  {
   "cell_type": "code",
   "outputs": [],
   "source": [
    "rd1"
   ],
   "metadata": {
    "collapsed": false
   },
   "id": "b02b0f909c4ed331",
   "execution_count": null
  },
  {
   "cell_type": "code",
   "outputs": [],
   "source": [
    "rd1.info()"
   ],
   "metadata": {
    "collapsed": false
   },
   "id": "4602c1bd39c8e8c4",
   "execution_count": null
  },
  {
   "cell_type": "code",
   "outputs": [],
   "source": [
    "rd1['distance_diff'] = rd1.distance - (rd1.speed * rd1.duration_sec)\n",
    "rd1"
   ],
   "metadata": {
    "collapsed": false
   },
   "id": "eb0f2b2ec784ae12",
   "execution_count": null
  },
  {
   "cell_type": "code",
   "outputs": [],
   "source": [
    "rd1.where(rd1.distance_diff > 10).dropna()"
   ],
   "metadata": {
    "collapsed": false
   },
   "id": "f62b2ef1796b9ae2",
   "execution_count": null
  },
  {
   "cell_type": "code",
   "outputs": [],
   "source": [
    "rd1.where(rd1.distance_diff > 10).dropna().distance_diff.min()"
   ],
   "metadata": {
    "collapsed": false
   },
   "id": "94dc11b4b0fade7f",
   "execution_count": null
  },
  {
   "cell_type": "markdown",
   "source": [
    "#### Видно, что самое маленькое отклонение зафиксированной дистанции и дистанции, которая посчитана через скорость и время - больше 1000км (а также самая минимальная дистанция в этой таблице - 1019км), а значит зафиксированные дистанции неверны"
   ],
   "metadata": {
    "collapsed": false
   },
   "id": "b2cac42b44e3c78f"
  },
  {
   "cell_type": "code",
   "outputs": [],
   "source": [
    "mask = (rd1.distance_diff > 10) | (rd1.distance > 1000000)\n",
    "rd1.loc[mask, 'distance'] = rd1.loc[mask, 'speed'] * rd1.loc[mask, 'duration_sec']\n",
    "rd1"
   ],
   "metadata": {
    "collapsed": false
   },
   "id": "681664043a861839",
   "execution_count": null
  },
  {
   "cell_type": "code",
   "outputs": [],
   "source": [
    "rd1['distance_diff'] = rd1.distance - (rd1.speed * rd1.duration_sec)\n",
    "print(rd1.where(rd1.distance_diff > 10).dropna())"
   ],
   "metadata": {
    "collapsed": false
   },
   "id": "687cfee7f27c54b",
   "execution_count": null
  },
  {
   "cell_type": "code",
   "outputs": [],
   "source": [
    "sns.scatterplot(data=rd1, x='distance', y='duration_sec')"
   ],
   "metadata": {
    "collapsed": false
   },
   "id": "52d218210e812ca9",
   "execution_count": null
  },
  {
   "cell_type": "code",
   "outputs": [],
   "source": [
    "rd1.distance.max()"
   ],
   "metadata": {
    "collapsed": false
   },
   "id": "4d082a7ebe34b6ee",
   "execution_count": null
  },
  {
   "cell_type": "code",
   "outputs": [],
   "source": [
    "rd1.where(rd1.distance == rd1.distance.max()).dropna()"
   ],
   "metadata": {
    "collapsed": false
   },
   "id": "5688e8e571ede782",
   "execution_count": null
  },
  {
   "cell_type": "code",
   "outputs": [],
   "source": [
    "Q1_dis = rd1.distance.quantile(0.25) - 1.5 * (rd1.distance.quantile(0.75) - rd1.distance.quantile(0.25))\n",
    "rd1[rd1.distance < Q1_dis]"
   ],
   "metadata": {
    "collapsed": false
   },
   "id": "fbbaff5789b4db12",
   "execution_count": null
  },
  {
   "cell_type": "markdown",
   "source": [
    "#### Видно, что значение по скорости и времени сильно различаются с зафиксированными значениями (столбец distance_diff), скорее всего зафиксированное значение неверно"
   ],
   "metadata": {
    "collapsed": false
   },
   "id": "17fb0a3f576dc474"
  },
  {
   "cell_type": "code",
   "outputs": [],
   "source": [
    "mask = (rd1.distance < Q1_dis) | (rd1.distance > 1000000)\n",
    "rd1.loc[mask, 'distance'] = rd1.groupby('go')['distance'].transform('mean')\n",
    "rd1.loc[mask, 'duration_sec'] = rd1.groupby('go')['duration_sec'].transform('mean')\n",
    "sns.scatterplot(data=rd1, x='distance', y='duration_sec')"
   ],
   "metadata": {
    "collapsed": false
   },
   "id": "dfa36603bbbbda6e",
   "execution_count": null
  },
  {
   "cell_type": "code",
   "outputs": [],
   "source": [
    "rd1[rd1.duration_sec > 1000000]"
   ],
   "metadata": {
    "collapsed": false
   },
   "id": "ff932525fa7af748",
   "execution_count": null
  },
  {
   "cell_type": "code",
   "outputs": [],
   "source": [
    "rd1.to_csv('rides_final.csv')"
   ],
   "metadata": {
    "collapsed": false
   },
   "id": "1c619bfa0eae1889",
   "execution_count": null
  },
  {
   "cell_type": "markdown",
   "source": [
    "# Очистим от выбросов и пропусков weather"
   ],
   "metadata": {
    "collapsed": false
   },
   "id": "e5401f4c3d59fd62"
  },
  {
   "cell_type": "code",
   "outputs": [],
   "source": [
    "wt1 = wt.drop(wt.index[0]).copy()"
   ],
   "metadata": {
    "collapsed": false,
    "ExecuteTime": {
     "end_time": "2024-04-18T20:17:13.601475400Z",
     "start_time": "2024-04-18T20:17:13.331758800Z"
    }
   },
   "id": "fa1be256d124b3b",
   "execution_count": 59
  },
  {
   "cell_type": "code",
   "outputs": [
    {
     "data": {
      "text/plain": "      unnamed:_0             datetime temperature precipitation_total  \\\n363          363  2023-04-16 02:00:00         NaN                 0.3   \n364          364  2023-04-16 03:00:00         NaN                 0.4   \n365          365  2023-04-16 04:00:00         NaN                 0.4   \n366          366  2023-04-16 05:00:00         NaN                 0.3   \n367          367  2023-04-16 06:00:00         NaN                 0.2   \n368          368  2023-04-16 07:00:00         NaN                 0.3   \n369          369  2023-04-16 08:00:00         NaN                 0.2   \n370          370  2023-04-16 09:00:00         NaN                 0.2   \n371          371  2023-04-16 10:00:00         NaN                 0.2   \n372          372  2023-04-16 11:00:00         NaN                 0.3   \n1006        1006  2023-05-12 21:00:00         NaN                   0   \n1007        1007  2023-05-12 22:00:00         NaN                   0   \n1008        1008  2023-05-12 23:00:00         NaN                   0   \n1009        1009  2023-05-13 00:00:00         NaN                   0   \n1010        1010  2023-05-13 01:00:00         NaN                   0   \n1011        1011  2023-05-13 02:00:00         NaN                   0   \n1012        1012  2023-05-13 03:00:00         NaN                   0   \n1013        1013  2023-05-13 04:00:00         NaN                   0   \n1116        1116  2023-05-17 11:00:00         NaN                   0   \n1117        1117  2023-05-17 12:00:00         NaN                   0   \n1118        1118  2023-05-17 13:00:00         NaN                   0   \n2506        2506  2023-07-14 09:00:00         NaN                   0   \n2507        2507  2023-07-14 10:00:00         NaN                   0   \n2508        2508  2023-07-14 11:00:00         NaN                   0   \n2509        2509  2023-07-14 12:00:00         NaN                   0   \n2510        2510  2023-07-14 13:00:00         NaN                   0   \n2511        2511  2023-07-14 14:00:00         NaN                   0   \n2521        2521  2023-07-15 00:00:00         NaN                   0   \n2522        2522  2023-07-15 01:00:00         NaN                   0   \n2523        2523  2023-07-15 02:00:00         NaN                   0   \n2524        2524  2023-07-15 03:00:00         NaN                   0   \n2525        2525  2023-07-15 04:00:00         NaN                   0   \n3054        3054  2023-08-06 05:00:00         NaN                 0.8   \n3055        3055  2023-08-06 06:00:00         NaN                 0.8   \n3056        3056  2023-08-06 07:00:00         NaN                 0.6   \n3057        3057  2023-08-06 08:00:00         NaN                 0.4   \n3058        3058  2023-08-06 09:00:00         NaN                 0.4   \n3059        3059  2023-08-06 10:00:00         NaN                 0.6   \n3060        3060  2023-08-06 11:00:00         NaN                 0.9   \n3061        3061  2023-08-06 12:00:00         NaN                 0.5   \n3062        3062  2023-08-06 13:00:00         NaN                 0.3   \n3063        3063  2023-08-06 14:00:00         NaN                 0.2   \n3064        3064  2023-08-06 15:00:00         NaN                 0.1   \n3065        3065  2023-08-06 16:00:00         NaN                 0.4   \n3066        3066  2023-08-06 17:00:00         NaN                 0.2   \n3067        3067  2023-08-06 18:00:00         NaN                   0   \n3068        3068  2023-08-06 19:00:00         NaN                   0   \n3069        3069  2023-08-06 20:00:00         NaN                   0   \n3070        3070  2023-08-06 21:00:00         NaN                   0   \n3071        3071  2023-08-06 22:00:00         NaN                   0   \n3072        3072  2023-08-06 23:00:00         NaN                   0   \n3073        3073  2023-08-07 00:00:00         NaN                   0   \n3074        3074  2023-08-07 01:00:00         NaN                   0   \n3075        3075  2023-08-07 02:00:00         NaN                   0   \n3076        3076  2023-08-07 03:00:00         NaN                   0   \n\n       wind_gust wind_speed cloud_cover_total sunshine_duration  \n363        13.32   3.671294               100                 0  \n364        13.32   4.452954                98                 0  \n365        13.32   4.802999               100                 0  \n366    13.679999   4.379589               100                 0  \n367         14.4  5.0528407               100                 0  \n368   15.4800005   6.379216               100                 0  \n369        19.08   9.957108               100                 0  \n370        24.48  10.383987               100                 0  \n371        24.48  7.7043357               100                 0  \n372        24.84   8.534353                91         4.8484864  \n1006   12.959999  6.5693827                20                 0  \n1007       14.04    7.24486                38                 0  \n1008       14.04  6.6185193                38                 0  \n1009   13.679999   7.729527                25                 0  \n1010   12.959999   7.172949              23.7                 0  \n1011   12.599999   8.557102              23.1                 0  \n1012   11.159999   6.725354                59                 0  \n1013   10.799999   6.638072                77         1.4407407  \n1116   41.399998  19.586119                71         16.969696  \n1117   41.399998      19.08                85           8.48485  \n1118   42.839996  19.022177                95         2.4242413  \n2506       17.28  5.1544156         28.500002         42.727272  \n2507        19.8  4.8433046              28.2         42.909096  \n2508       20.16  3.9763298         24.900002         44.909092  \n2509       19.44  2.8799999                11         53.333332  \n2510       18.72   4.198285                 6         56.363636  \n2511   20.880001       6.12         15.000001         50.909096  \n2521       17.64  5.0142193                11                 0  \n2522       17.28   4.829907                23                 0  \n2523   16.919998  5.1919937                13                 0  \n2524   16.919998   5.991594                15                 0  \n2525   16.919998  5.8048253                 5         14.353199  \n3054   50.399998  20.447239                81          8.866667  \n3055   52.199997  21.900904                77         13.333332  \n3056   50.399998  21.900904                88          6.666666  \n3057   50.399998  23.263912                94         3.0303025  \n3058   52.199997   22.73707               100                 0  \n3059       52.92   20.63023                95         2.4242413  \n3060   50.399998   21.09305                96         1.8181801  \n3061        46.8  21.129885                99                 0  \n3062       51.12  20.037485                91         4.8484864  \n3063   58.679996  20.275385                78         12.727271  \n3064       61.56  20.833395                71         16.969696  \n3065   60.120003   19.70815                45         32.727272  \n3066   50.039997  17.731598                30          41.81818  \n3067       39.96  15.124284                41         35.151512  \n3068       35.28  12.429127                34         39.142258  \n3069   30.239998   10.30883                29                 0  \n3070   25.919998    10.1887                31                 0  \n3071   25.199999   9.511088                53                 0  \n3072       26.28  10.009036                47                 0  \n3073       26.28  10.233123                56                 0  \n3074       24.84   9.885262                45                 0  \n3075   23.759998   9.585739                39                 0  \n3076       21.96   8.435069                45                 0  ",
      "text/html": "<div>\n<style scoped>\n    .dataframe tbody tr th:only-of-type {\n        vertical-align: middle;\n    }\n\n    .dataframe tbody tr th {\n        vertical-align: top;\n    }\n\n    .dataframe thead th {\n        text-align: right;\n    }\n</style>\n<table border=\"1\" class=\"dataframe\">\n  <thead>\n    <tr style=\"text-align: right;\">\n      <th></th>\n      <th>unnamed:_0</th>\n      <th>datetime</th>\n      <th>temperature</th>\n      <th>precipitation_total</th>\n      <th>wind_gust</th>\n      <th>wind_speed</th>\n      <th>cloud_cover_total</th>\n      <th>sunshine_duration</th>\n    </tr>\n  </thead>\n  <tbody>\n    <tr>\n      <th>363</th>\n      <td>363</td>\n      <td>2023-04-16 02:00:00</td>\n      <td>NaN</td>\n      <td>0.3</td>\n      <td>13.32</td>\n      <td>3.671294</td>\n      <td>100</td>\n      <td>0</td>\n    </tr>\n    <tr>\n      <th>364</th>\n      <td>364</td>\n      <td>2023-04-16 03:00:00</td>\n      <td>NaN</td>\n      <td>0.4</td>\n      <td>13.32</td>\n      <td>4.452954</td>\n      <td>98</td>\n      <td>0</td>\n    </tr>\n    <tr>\n      <th>365</th>\n      <td>365</td>\n      <td>2023-04-16 04:00:00</td>\n      <td>NaN</td>\n      <td>0.4</td>\n      <td>13.32</td>\n      <td>4.802999</td>\n      <td>100</td>\n      <td>0</td>\n    </tr>\n    <tr>\n      <th>366</th>\n      <td>366</td>\n      <td>2023-04-16 05:00:00</td>\n      <td>NaN</td>\n      <td>0.3</td>\n      <td>13.679999</td>\n      <td>4.379589</td>\n      <td>100</td>\n      <td>0</td>\n    </tr>\n    <tr>\n      <th>367</th>\n      <td>367</td>\n      <td>2023-04-16 06:00:00</td>\n      <td>NaN</td>\n      <td>0.2</td>\n      <td>14.4</td>\n      <td>5.0528407</td>\n      <td>100</td>\n      <td>0</td>\n    </tr>\n    <tr>\n      <th>368</th>\n      <td>368</td>\n      <td>2023-04-16 07:00:00</td>\n      <td>NaN</td>\n      <td>0.3</td>\n      <td>15.4800005</td>\n      <td>6.379216</td>\n      <td>100</td>\n      <td>0</td>\n    </tr>\n    <tr>\n      <th>369</th>\n      <td>369</td>\n      <td>2023-04-16 08:00:00</td>\n      <td>NaN</td>\n      <td>0.2</td>\n      <td>19.08</td>\n      <td>9.957108</td>\n      <td>100</td>\n      <td>0</td>\n    </tr>\n    <tr>\n      <th>370</th>\n      <td>370</td>\n      <td>2023-04-16 09:00:00</td>\n      <td>NaN</td>\n      <td>0.2</td>\n      <td>24.48</td>\n      <td>10.383987</td>\n      <td>100</td>\n      <td>0</td>\n    </tr>\n    <tr>\n      <th>371</th>\n      <td>371</td>\n      <td>2023-04-16 10:00:00</td>\n      <td>NaN</td>\n      <td>0.2</td>\n      <td>24.48</td>\n      <td>7.7043357</td>\n      <td>100</td>\n      <td>0</td>\n    </tr>\n    <tr>\n      <th>372</th>\n      <td>372</td>\n      <td>2023-04-16 11:00:00</td>\n      <td>NaN</td>\n      <td>0.3</td>\n      <td>24.84</td>\n      <td>8.534353</td>\n      <td>91</td>\n      <td>4.8484864</td>\n    </tr>\n    <tr>\n      <th>1006</th>\n      <td>1006</td>\n      <td>2023-05-12 21:00:00</td>\n      <td>NaN</td>\n      <td>0</td>\n      <td>12.959999</td>\n      <td>6.5693827</td>\n      <td>20</td>\n      <td>0</td>\n    </tr>\n    <tr>\n      <th>1007</th>\n      <td>1007</td>\n      <td>2023-05-12 22:00:00</td>\n      <td>NaN</td>\n      <td>0</td>\n      <td>14.04</td>\n      <td>7.24486</td>\n      <td>38</td>\n      <td>0</td>\n    </tr>\n    <tr>\n      <th>1008</th>\n      <td>1008</td>\n      <td>2023-05-12 23:00:00</td>\n      <td>NaN</td>\n      <td>0</td>\n      <td>14.04</td>\n      <td>6.6185193</td>\n      <td>38</td>\n      <td>0</td>\n    </tr>\n    <tr>\n      <th>1009</th>\n      <td>1009</td>\n      <td>2023-05-13 00:00:00</td>\n      <td>NaN</td>\n      <td>0</td>\n      <td>13.679999</td>\n      <td>7.729527</td>\n      <td>25</td>\n      <td>0</td>\n    </tr>\n    <tr>\n      <th>1010</th>\n      <td>1010</td>\n      <td>2023-05-13 01:00:00</td>\n      <td>NaN</td>\n      <td>0</td>\n      <td>12.959999</td>\n      <td>7.172949</td>\n      <td>23.7</td>\n      <td>0</td>\n    </tr>\n    <tr>\n      <th>1011</th>\n      <td>1011</td>\n      <td>2023-05-13 02:00:00</td>\n      <td>NaN</td>\n      <td>0</td>\n      <td>12.599999</td>\n      <td>8.557102</td>\n      <td>23.1</td>\n      <td>0</td>\n    </tr>\n    <tr>\n      <th>1012</th>\n      <td>1012</td>\n      <td>2023-05-13 03:00:00</td>\n      <td>NaN</td>\n      <td>0</td>\n      <td>11.159999</td>\n      <td>6.725354</td>\n      <td>59</td>\n      <td>0</td>\n    </tr>\n    <tr>\n      <th>1013</th>\n      <td>1013</td>\n      <td>2023-05-13 04:00:00</td>\n      <td>NaN</td>\n      <td>0</td>\n      <td>10.799999</td>\n      <td>6.638072</td>\n      <td>77</td>\n      <td>1.4407407</td>\n    </tr>\n    <tr>\n      <th>1116</th>\n      <td>1116</td>\n      <td>2023-05-17 11:00:00</td>\n      <td>NaN</td>\n      <td>0</td>\n      <td>41.399998</td>\n      <td>19.586119</td>\n      <td>71</td>\n      <td>16.969696</td>\n    </tr>\n    <tr>\n      <th>1117</th>\n      <td>1117</td>\n      <td>2023-05-17 12:00:00</td>\n      <td>NaN</td>\n      <td>0</td>\n      <td>41.399998</td>\n      <td>19.08</td>\n      <td>85</td>\n      <td>8.48485</td>\n    </tr>\n    <tr>\n      <th>1118</th>\n      <td>1118</td>\n      <td>2023-05-17 13:00:00</td>\n      <td>NaN</td>\n      <td>0</td>\n      <td>42.839996</td>\n      <td>19.022177</td>\n      <td>95</td>\n      <td>2.4242413</td>\n    </tr>\n    <tr>\n      <th>2506</th>\n      <td>2506</td>\n      <td>2023-07-14 09:00:00</td>\n      <td>NaN</td>\n      <td>0</td>\n      <td>17.28</td>\n      <td>5.1544156</td>\n      <td>28.500002</td>\n      <td>42.727272</td>\n    </tr>\n    <tr>\n      <th>2507</th>\n      <td>2507</td>\n      <td>2023-07-14 10:00:00</td>\n      <td>NaN</td>\n      <td>0</td>\n      <td>19.8</td>\n      <td>4.8433046</td>\n      <td>28.2</td>\n      <td>42.909096</td>\n    </tr>\n    <tr>\n      <th>2508</th>\n      <td>2508</td>\n      <td>2023-07-14 11:00:00</td>\n      <td>NaN</td>\n      <td>0</td>\n      <td>20.16</td>\n      <td>3.9763298</td>\n      <td>24.900002</td>\n      <td>44.909092</td>\n    </tr>\n    <tr>\n      <th>2509</th>\n      <td>2509</td>\n      <td>2023-07-14 12:00:00</td>\n      <td>NaN</td>\n      <td>0</td>\n      <td>19.44</td>\n      <td>2.8799999</td>\n      <td>11</td>\n      <td>53.333332</td>\n    </tr>\n    <tr>\n      <th>2510</th>\n      <td>2510</td>\n      <td>2023-07-14 13:00:00</td>\n      <td>NaN</td>\n      <td>0</td>\n      <td>18.72</td>\n      <td>4.198285</td>\n      <td>6</td>\n      <td>56.363636</td>\n    </tr>\n    <tr>\n      <th>2511</th>\n      <td>2511</td>\n      <td>2023-07-14 14:00:00</td>\n      <td>NaN</td>\n      <td>0</td>\n      <td>20.880001</td>\n      <td>6.12</td>\n      <td>15.000001</td>\n      <td>50.909096</td>\n    </tr>\n    <tr>\n      <th>2521</th>\n      <td>2521</td>\n      <td>2023-07-15 00:00:00</td>\n      <td>NaN</td>\n      <td>0</td>\n      <td>17.64</td>\n      <td>5.0142193</td>\n      <td>11</td>\n      <td>0</td>\n    </tr>\n    <tr>\n      <th>2522</th>\n      <td>2522</td>\n      <td>2023-07-15 01:00:00</td>\n      <td>NaN</td>\n      <td>0</td>\n      <td>17.28</td>\n      <td>4.829907</td>\n      <td>23</td>\n      <td>0</td>\n    </tr>\n    <tr>\n      <th>2523</th>\n      <td>2523</td>\n      <td>2023-07-15 02:00:00</td>\n      <td>NaN</td>\n      <td>0</td>\n      <td>16.919998</td>\n      <td>5.1919937</td>\n      <td>13</td>\n      <td>0</td>\n    </tr>\n    <tr>\n      <th>2524</th>\n      <td>2524</td>\n      <td>2023-07-15 03:00:00</td>\n      <td>NaN</td>\n      <td>0</td>\n      <td>16.919998</td>\n      <td>5.991594</td>\n      <td>15</td>\n      <td>0</td>\n    </tr>\n    <tr>\n      <th>2525</th>\n      <td>2525</td>\n      <td>2023-07-15 04:00:00</td>\n      <td>NaN</td>\n      <td>0</td>\n      <td>16.919998</td>\n      <td>5.8048253</td>\n      <td>5</td>\n      <td>14.353199</td>\n    </tr>\n    <tr>\n      <th>3054</th>\n      <td>3054</td>\n      <td>2023-08-06 05:00:00</td>\n      <td>NaN</td>\n      <td>0.8</td>\n      <td>50.399998</td>\n      <td>20.447239</td>\n      <td>81</td>\n      <td>8.866667</td>\n    </tr>\n    <tr>\n      <th>3055</th>\n      <td>3055</td>\n      <td>2023-08-06 06:00:00</td>\n      <td>NaN</td>\n      <td>0.8</td>\n      <td>52.199997</td>\n      <td>21.900904</td>\n      <td>77</td>\n      <td>13.333332</td>\n    </tr>\n    <tr>\n      <th>3056</th>\n      <td>3056</td>\n      <td>2023-08-06 07:00:00</td>\n      <td>NaN</td>\n      <td>0.6</td>\n      <td>50.399998</td>\n      <td>21.900904</td>\n      <td>88</td>\n      <td>6.666666</td>\n    </tr>\n    <tr>\n      <th>3057</th>\n      <td>3057</td>\n      <td>2023-08-06 08:00:00</td>\n      <td>NaN</td>\n      <td>0.4</td>\n      <td>50.399998</td>\n      <td>23.263912</td>\n      <td>94</td>\n      <td>3.0303025</td>\n    </tr>\n    <tr>\n      <th>3058</th>\n      <td>3058</td>\n      <td>2023-08-06 09:00:00</td>\n      <td>NaN</td>\n      <td>0.4</td>\n      <td>52.199997</td>\n      <td>22.73707</td>\n      <td>100</td>\n      <td>0</td>\n    </tr>\n    <tr>\n      <th>3059</th>\n      <td>3059</td>\n      <td>2023-08-06 10:00:00</td>\n      <td>NaN</td>\n      <td>0.6</td>\n      <td>52.92</td>\n      <td>20.63023</td>\n      <td>95</td>\n      <td>2.4242413</td>\n    </tr>\n    <tr>\n      <th>3060</th>\n      <td>3060</td>\n      <td>2023-08-06 11:00:00</td>\n      <td>NaN</td>\n      <td>0.9</td>\n      <td>50.399998</td>\n      <td>21.09305</td>\n      <td>96</td>\n      <td>1.8181801</td>\n    </tr>\n    <tr>\n      <th>3061</th>\n      <td>3061</td>\n      <td>2023-08-06 12:00:00</td>\n      <td>NaN</td>\n      <td>0.5</td>\n      <td>46.8</td>\n      <td>21.129885</td>\n      <td>99</td>\n      <td>0</td>\n    </tr>\n    <tr>\n      <th>3062</th>\n      <td>3062</td>\n      <td>2023-08-06 13:00:00</td>\n      <td>NaN</td>\n      <td>0.3</td>\n      <td>51.12</td>\n      <td>20.037485</td>\n      <td>91</td>\n      <td>4.8484864</td>\n    </tr>\n    <tr>\n      <th>3063</th>\n      <td>3063</td>\n      <td>2023-08-06 14:00:00</td>\n      <td>NaN</td>\n      <td>0.2</td>\n      <td>58.679996</td>\n      <td>20.275385</td>\n      <td>78</td>\n      <td>12.727271</td>\n    </tr>\n    <tr>\n      <th>3064</th>\n      <td>3064</td>\n      <td>2023-08-06 15:00:00</td>\n      <td>NaN</td>\n      <td>0.1</td>\n      <td>61.56</td>\n      <td>20.833395</td>\n      <td>71</td>\n      <td>16.969696</td>\n    </tr>\n    <tr>\n      <th>3065</th>\n      <td>3065</td>\n      <td>2023-08-06 16:00:00</td>\n      <td>NaN</td>\n      <td>0.4</td>\n      <td>60.120003</td>\n      <td>19.70815</td>\n      <td>45</td>\n      <td>32.727272</td>\n    </tr>\n    <tr>\n      <th>3066</th>\n      <td>3066</td>\n      <td>2023-08-06 17:00:00</td>\n      <td>NaN</td>\n      <td>0.2</td>\n      <td>50.039997</td>\n      <td>17.731598</td>\n      <td>30</td>\n      <td>41.81818</td>\n    </tr>\n    <tr>\n      <th>3067</th>\n      <td>3067</td>\n      <td>2023-08-06 18:00:00</td>\n      <td>NaN</td>\n      <td>0</td>\n      <td>39.96</td>\n      <td>15.124284</td>\n      <td>41</td>\n      <td>35.151512</td>\n    </tr>\n    <tr>\n      <th>3068</th>\n      <td>3068</td>\n      <td>2023-08-06 19:00:00</td>\n      <td>NaN</td>\n      <td>0</td>\n      <td>35.28</td>\n      <td>12.429127</td>\n      <td>34</td>\n      <td>39.142258</td>\n    </tr>\n    <tr>\n      <th>3069</th>\n      <td>3069</td>\n      <td>2023-08-06 20:00:00</td>\n      <td>NaN</td>\n      <td>0</td>\n      <td>30.239998</td>\n      <td>10.30883</td>\n      <td>29</td>\n      <td>0</td>\n    </tr>\n    <tr>\n      <th>3070</th>\n      <td>3070</td>\n      <td>2023-08-06 21:00:00</td>\n      <td>NaN</td>\n      <td>0</td>\n      <td>25.919998</td>\n      <td>10.1887</td>\n      <td>31</td>\n      <td>0</td>\n    </tr>\n    <tr>\n      <th>3071</th>\n      <td>3071</td>\n      <td>2023-08-06 22:00:00</td>\n      <td>NaN</td>\n      <td>0</td>\n      <td>25.199999</td>\n      <td>9.511088</td>\n      <td>53</td>\n      <td>0</td>\n    </tr>\n    <tr>\n      <th>3072</th>\n      <td>3072</td>\n      <td>2023-08-06 23:00:00</td>\n      <td>NaN</td>\n      <td>0</td>\n      <td>26.28</td>\n      <td>10.009036</td>\n      <td>47</td>\n      <td>0</td>\n    </tr>\n    <tr>\n      <th>3073</th>\n      <td>3073</td>\n      <td>2023-08-07 00:00:00</td>\n      <td>NaN</td>\n      <td>0</td>\n      <td>26.28</td>\n      <td>10.233123</td>\n      <td>56</td>\n      <td>0</td>\n    </tr>\n    <tr>\n      <th>3074</th>\n      <td>3074</td>\n      <td>2023-08-07 01:00:00</td>\n      <td>NaN</td>\n      <td>0</td>\n      <td>24.84</td>\n      <td>9.885262</td>\n      <td>45</td>\n      <td>0</td>\n    </tr>\n    <tr>\n      <th>3075</th>\n      <td>3075</td>\n      <td>2023-08-07 02:00:00</td>\n      <td>NaN</td>\n      <td>0</td>\n      <td>23.759998</td>\n      <td>9.585739</td>\n      <td>39</td>\n      <td>0</td>\n    </tr>\n    <tr>\n      <th>3076</th>\n      <td>3076</td>\n      <td>2023-08-07 03:00:00</td>\n      <td>NaN</td>\n      <td>0</td>\n      <td>21.96</td>\n      <td>8.435069</td>\n      <td>45</td>\n      <td>0</td>\n    </tr>\n  </tbody>\n</table>\n</div>"
     },
     "execution_count": 60,
     "metadata": {},
     "output_type": "execute_result"
    }
   ],
   "source": [
    "wt1[wt1.temperature.isnull()]"
   ],
   "metadata": {
    "collapsed": false,
    "ExecuteTime": {
     "end_time": "2024-04-18T20:17:13.897260400Z",
     "start_time": "2024-04-18T20:17:13.609498300Z"
    }
   },
   "id": "cacc386e9d17e1b5",
   "execution_count": 60
  },
  {
   "cell_type": "code",
   "outputs": [
    {
     "data": {
      "text/plain": "      unnamed:_0             datetime temperature precipitation_total  \\\n935          935  2023-05-09 22:00:00   13.900246                 0.5   \n936          936  2023-05-09 23:00:00   13.780245                 0.1   \n937          937  2023-05-10 00:00:00   13.490245                   0   \n938          938  2023-05-10 01:00:00   13.290245                   0   \n1296        1296  2023-05-24 23:00:00   10.470245                   0   \n...          ...                  ...         ...                 ...   \n2792        2792  2023-07-26 07:00:00   14.240245                 0.5   \n2841        2841  2023-07-28 08:00:00   23.130245                   0   \n2842        2842  2023-07-28 09:00:00   24.820246                   0   \n2843        2843  2023-07-28 10:00:00   25.320246                   0   \n2844        2844  2023-07-28 11:00:00   25.280245                   0   \n\n      wind_gust wind_speed cloud_cover_total sunshine_duration  \n935   30.960001        NaN                94                 0  \n936   30.599998        NaN                76                 0  \n937       31.68        NaN                91                 0  \n938   33.839996        NaN                62                 0  \n1296  23.039999        NaN                57                 0  \n...         ...        ...               ...               ...  \n2792       23.4   8.404285               NaN         7.2727275  \n2841  27.359999  11.480557                29               NaN  \n2842  29.519999   13.18308                42               NaN  \n2843      39.96  15.807239                40               NaN  \n2844      51.12  12.413476                37               NaN  \n\n[77 rows x 8 columns]",
      "text/html": "<div>\n<style scoped>\n    .dataframe tbody tr th:only-of-type {\n        vertical-align: middle;\n    }\n\n    .dataframe tbody tr th {\n        vertical-align: top;\n    }\n\n    .dataframe thead th {\n        text-align: right;\n    }\n</style>\n<table border=\"1\" class=\"dataframe\">\n  <thead>\n    <tr style=\"text-align: right;\">\n      <th></th>\n      <th>unnamed:_0</th>\n      <th>datetime</th>\n      <th>temperature</th>\n      <th>precipitation_total</th>\n      <th>wind_gust</th>\n      <th>wind_speed</th>\n      <th>cloud_cover_total</th>\n      <th>sunshine_duration</th>\n    </tr>\n  </thead>\n  <tbody>\n    <tr>\n      <th>935</th>\n      <td>935</td>\n      <td>2023-05-09 22:00:00</td>\n      <td>13.900246</td>\n      <td>0.5</td>\n      <td>30.960001</td>\n      <td>NaN</td>\n      <td>94</td>\n      <td>0</td>\n    </tr>\n    <tr>\n      <th>936</th>\n      <td>936</td>\n      <td>2023-05-09 23:00:00</td>\n      <td>13.780245</td>\n      <td>0.1</td>\n      <td>30.599998</td>\n      <td>NaN</td>\n      <td>76</td>\n      <td>0</td>\n    </tr>\n    <tr>\n      <th>937</th>\n      <td>937</td>\n      <td>2023-05-10 00:00:00</td>\n      <td>13.490245</td>\n      <td>0</td>\n      <td>31.68</td>\n      <td>NaN</td>\n      <td>91</td>\n      <td>0</td>\n    </tr>\n    <tr>\n      <th>938</th>\n      <td>938</td>\n      <td>2023-05-10 01:00:00</td>\n      <td>13.290245</td>\n      <td>0</td>\n      <td>33.839996</td>\n      <td>NaN</td>\n      <td>62</td>\n      <td>0</td>\n    </tr>\n    <tr>\n      <th>1296</th>\n      <td>1296</td>\n      <td>2023-05-24 23:00:00</td>\n      <td>10.470245</td>\n      <td>0</td>\n      <td>23.039999</td>\n      <td>NaN</td>\n      <td>57</td>\n      <td>0</td>\n    </tr>\n    <tr>\n      <th>...</th>\n      <td>...</td>\n      <td>...</td>\n      <td>...</td>\n      <td>...</td>\n      <td>...</td>\n      <td>...</td>\n      <td>...</td>\n      <td>...</td>\n    </tr>\n    <tr>\n      <th>2792</th>\n      <td>2792</td>\n      <td>2023-07-26 07:00:00</td>\n      <td>14.240245</td>\n      <td>0.5</td>\n      <td>23.4</td>\n      <td>8.404285</td>\n      <td>NaN</td>\n      <td>7.2727275</td>\n    </tr>\n    <tr>\n      <th>2841</th>\n      <td>2841</td>\n      <td>2023-07-28 08:00:00</td>\n      <td>23.130245</td>\n      <td>0</td>\n      <td>27.359999</td>\n      <td>11.480557</td>\n      <td>29</td>\n      <td>NaN</td>\n    </tr>\n    <tr>\n      <th>2842</th>\n      <td>2842</td>\n      <td>2023-07-28 09:00:00</td>\n      <td>24.820246</td>\n      <td>0</td>\n      <td>29.519999</td>\n      <td>13.18308</td>\n      <td>42</td>\n      <td>NaN</td>\n    </tr>\n    <tr>\n      <th>2843</th>\n      <td>2843</td>\n      <td>2023-07-28 10:00:00</td>\n      <td>25.320246</td>\n      <td>0</td>\n      <td>39.96</td>\n      <td>15.807239</td>\n      <td>40</td>\n      <td>NaN</td>\n    </tr>\n    <tr>\n      <th>2844</th>\n      <td>2844</td>\n      <td>2023-07-28 11:00:00</td>\n      <td>25.280245</td>\n      <td>0</td>\n      <td>51.12</td>\n      <td>12.413476</td>\n      <td>37</td>\n      <td>NaN</td>\n    </tr>\n  </tbody>\n</table>\n<p>77 rows × 8 columns</p>\n</div>"
     },
     "execution_count": 61,
     "metadata": {},
     "output_type": "execute_result"
    }
   ],
   "source": [
    "wt1.dropna(subset=['temperature'], how='all').loc[wt1.drop(columns='temperature').isnull().any(axis=1)]"
   ],
   "metadata": {
    "collapsed": false,
    "ExecuteTime": {
     "end_time": "2024-04-18T20:17:13.969453Z",
     "start_time": "2024-04-18T20:17:13.714776800Z"
    }
   },
   "id": "842f8b75d3462a2b",
   "execution_count": 61
  },
  {
   "cell_type": "markdown",
   "source": [
    "#### Видно, что есть достаточно много пустых значений, стоящих рядом, поэтому заполнять будем регрессией, а не интерполяцией или по соседним значениям"
   ],
   "metadata": {
    "collapsed": false
   },
   "id": "b6817960686aa87c"
  },
  {
   "cell_type": "code",
   "outputs": [],
   "source": [
    "wt1['datetime'] = pd.to_datetime(wt1['datetime'])\n",
    "wt1['day'] = wt1['datetime'].dt.day\n",
    "wt1['hour'] = wt1['datetime'].dt.hour\n",
    "wt1['month'] = wt1['datetime'].dt.month\n",
    "wt1['hour_total'] = wt1['datetime'].dt.hour + wt1.datetime.dt.dayofyear * 24\n",
    "bins = [-1, 6, 12, 18, 23]\n",
    "\n",
    "from sklearn.preprocessing import OneHotEncoder\n",
    "\n",
    "# Categorize the 'hour' column into specific labels\n",
    "labels = ['night', 'morning', 'evening', 'afternoon']\n",
    "wt1['hour_category'] = pd.cut(wt1['hour'], bins=bins, labels=labels, right=False, ordered=False)\n",
    "\n",
    "# Initialize OneHotEncoder\n",
    "encoder = OneHotEncoder()\n",
    "\n",
    "# Fit and transform the 'hour_category' column\n",
    "hour_category_encoded = encoder.fit_transform(wt1[['hour_category']].astype(str))\n",
    "\n",
    "# Convert the encoded data into a DataFrame\n",
    "hour_category_encoded_df = pd.DataFrame(hour_category_encoded.toarray(), columns=encoder.get_feature_names_out(['hour_category']))\n",
    "\n",
    "# Concatenate the encoded hour category data with the original data\n",
    "wt1 = pd.concat([wt1, hour_category_encoded_df], axis=1)\n",
    "\n",
    "# Drop the original 'hour_category' column\n",
    "wt1 = wt1.drop('hour_category', axis=1)"
   ],
   "metadata": {
    "collapsed": false,
    "ExecuteTime": {
     "end_time": "2024-04-18T20:17:14.169987Z",
     "start_time": "2024-04-18T20:17:13.954413Z"
    }
   },
   "id": "79ca46a994bc997e",
   "execution_count": 62
  },
  {
   "cell_type": "code",
   "outputs": [],
   "source": [
    "# Map months to seasons\n",
    "month_to_season = {1: 'winter', 2: 'winter', 3: 'spring', 4: 'spring', 5: 'spring', 6: 'summer', 7: 'summer', 8: 'summer', 9: 'fall', 10: 'fall', 11: 'fall', 12: 'winter'}\n",
    "\n",
    "# Replace 'month' column with 'season'\n",
    "wt1['season'] = wt1['month'].map(month_to_season)\n",
    "\n",
    "# Initialize OneHotEncoder\n",
    "encoder = OneHotEncoder()\n",
    "\n",
    "# Fit and transform the 'season' column\n",
    "season_encoded = encoder.fit_transform(wt1[['season']])\n",
    "\n",
    "# Convert the encoded data into a DataFrame\n",
    "season_encoded_df = pd.DataFrame(season_encoded.toarray(), columns=encoder.get_feature_names_out(['season']))\n",
    "\n",
    "# Concatenate the encoded season data with the original data\n",
    "wt1 = pd.concat([wt1, season_encoded_df], axis=1)\n",
    "\n",
    "# Drop the original 'season' column\n",
    "wt1 = wt1.drop('season', axis=1)"
   ],
   "metadata": {
    "collapsed": false,
    "ExecuteTime": {
     "end_time": "2024-04-18T20:17:14.463832700Z",
     "start_time": "2024-04-18T20:17:14.147927100Z"
    }
   },
   "id": "73a42fb81d95591a",
   "execution_count": 63
  },
  {
   "cell_type": "code",
   "outputs": [
    {
     "data": {
      "text/plain": "Index(['unnamed:_0', 'datetime', 'temperature', 'precipitation_total',\n       'wind_gust', 'wind_speed', 'cloud_cover_total', 'sunshine_duration',\n       'day', 'hour', 'month', 'hour_total', 'hour_category_afternoon',\n       'hour_category_evening', 'hour_category_morning', 'hour_category_nan',\n       'hour_category_night', 'season_spring', 'season_summer', 'season_nan'],\n      dtype='object')"
     },
     "execution_count": 64,
     "metadata": {},
     "output_type": "execute_result"
    }
   ],
   "source": [
    "wt1.columns"
   ],
   "metadata": {
    "collapsed": false,
    "ExecuteTime": {
     "end_time": "2024-04-18T20:17:14.705769600Z",
     "start_time": "2024-04-18T20:17:14.423717100Z"
    }
   },
   "id": "46229a0502a13956",
   "execution_count": 64
  },
  {
   "cell_type": "code",
   "outputs": [
    {
     "name": "stdout",
     "output_type": "stream",
     "text": [
      "Mean Squared Error: 11.952225916284547\n",
      "R-squared Score: 0.7483157520461342\n"
     ]
    }
   ],
   "source": [
    "from sklearn.model_selection import train_test_split\n",
    "from sklearn.linear_model import LinearRegression\n",
    "from sklearn.metrics import mean_squared_error, r2_score\n",
    "from sklearn.impute import SimpleImputer\n",
    "from sklearn.pipeline import make_pipeline\n",
    "\n",
    "# Separate data with and without missing temperature values\n",
    "train_data = wt1.dropna(subset=['temperature'])\n",
    "\n",
    "# Define the features and target\n",
    "X = train_data['precipitation_total,wind_gust,cloud_cover_total,sunshine_duration,day,hour,month,season_spring,season_summer,hour_category_night,hour_category_morning,hour_category_evening,hour_category_afternoon,hour_total'.split(',')]  # Specify your features\n",
    "y = train_data['temperature']\n",
    "\n",
    "X_train, X_test, y_train, y_test = train_test_split(X, y, test_size=0.2, random_state=42)\n",
    "\n",
    "model = make_pipeline(SimpleImputer(), LinearRegression())\n",
    "model.fit(X_train, y_train)\n",
    "\n",
    "y_pred = model.predict(X_test)\n",
    "mse = mean_squared_error(y_test, y_pred)\n",
    "r2 = r2_score(y_test, y_pred)\n",
    "\n",
    "if mse > 0.5 or r2 < 0.5:\n",
    "    print(\"Mean Squared Error:\", mse)\n",
    "    print(\"R-squared Score:\", r2)\n",
    "    features_for_prediction = ['precipitation_total', 'wind_gust', 'cloud_cover_total', 'sunshine_duration',\n",
    "                               'day', 'hour', 'month', 'season_spring', 'season_summer',\n",
    "                               'hour_category_night', 'hour_category_morning', 'hour_category_evening', 'hour_category_afternoon', 'hour_total']\n",
    "\n",
    "# Make predictions for all values in the DataFrame using the selected features\n",
    "    all_predictions = model.predict(wt1[features_for_prediction])\n",
    "\n",
    "# Store the predictions in the 'temperature_predictions' column\n",
    "    wt1['temperature_predictions'] = all_predictions\n",
    "\n",
    "else:\n",
    "    # Predict missing values\n",
    "    X_missing = wt1.loc[wt1['temperature'].isnull(), ['precipitation_total,wind_gust,cloud_cover_total,sunshine_duration,day,hour,month,season_spring,season_summer,hour_category_night,hour_category_morning,hour_category_evening,hour_category_afternoon'.split(',')]]\n",
    "    predicted_temperatures = model.predict(X_missing)\n",
    "\n",
    "    # Fill in the missing temperature values\n",
    "    wt1.loc[wt1['temperature'].isnull(), 'temperature'] = predicted_temperatures\n",
    "\n",
    "\n",
    "wt1['temperature_interpolated'] = wt1['temperature'].interpolate(method='quadratic', limit=100)"
   ],
   "metadata": {
    "collapsed": false,
    "ExecuteTime": {
     "end_time": "2024-04-18T20:17:15.153313Z",
     "start_time": "2024-04-18T20:17:14.723814300Z"
    }
   },
   "id": "a237a9dd93ae794c",
   "execution_count": 65
  },
  {
   "cell_type": "code",
   "outputs": [
    {
     "ename": "KeyError",
     "evalue": "'[-1] not in index'",
     "output_type": "error",
     "traceback": [
      "\u001B[1;31m---------------------------------------------------------------------------\u001B[0m",
      "\u001B[1;31mKeyError\u001B[0m                                  Traceback (most recent call last)",
      "Cell \u001B[1;32mIn[66], line 4\u001B[0m\n\u001B[0;32m      1\u001B[0m rows_with_missing_temp \u001B[38;5;241m=\u001B[39m wt1[wt1[\u001B[38;5;124m'\u001B[39m\u001B[38;5;124mtemperature\u001B[39m\u001B[38;5;124m'\u001B[39m]\u001B[38;5;241m.\u001B[39misnull()]\n\u001B[0;32m      3\u001B[0m \u001B[38;5;66;03m# Include neighboring days (e.g., previous and next rows) for each row with missing 'temperature'\u001B[39;00m\n\u001B[1;32m----> 4\u001B[0m neighboring_rows \u001B[38;5;241m=\u001B[39m wt1\u001B[38;5;241m.\u001B[39mloc[rows_with_missing_temp\u001B[38;5;241m.\u001B[39mindex \u001B[38;5;241m-\u001B[39m \u001B[38;5;241m1\u001B[39m]\u001B[38;5;241m.\u001B[39mappend(wt1\u001B[38;5;241m.\u001B[39mloc[rows_with_missing_temp\u001B[38;5;241m.\u001B[39mindex])\u001B[38;5;241m.\u001B[39mappend(wt1\u001B[38;5;241m.\u001B[39mloc[rows_with_missing_temp\u001B[38;5;241m.\u001B[39mindex \u001B[38;5;241m+\u001B[39m \u001B[38;5;241m24\u001B[39m])\n\u001B[0;32m      6\u001B[0m \u001B[38;5;66;03m# Display the rows with missing 'temperature' and neighboring days\u001B[39;00m\n\u001B[0;32m      7\u001B[0m \u001B[38;5;28mprint\u001B[39m(neighboring_rows)\n",
      "File \u001B[1;32m~\\anaconda3\\Lib\\site-packages\\pandas\\core\\indexing.py:1103\u001B[0m, in \u001B[0;36m_LocationIndexer.__getitem__\u001B[1;34m(self, key)\u001B[0m\n\u001B[0;32m   1100\u001B[0m axis \u001B[38;5;241m=\u001B[39m \u001B[38;5;28mself\u001B[39m\u001B[38;5;241m.\u001B[39maxis \u001B[38;5;129;01mor\u001B[39;00m \u001B[38;5;241m0\u001B[39m\n\u001B[0;32m   1102\u001B[0m maybe_callable \u001B[38;5;241m=\u001B[39m com\u001B[38;5;241m.\u001B[39mapply_if_callable(key, \u001B[38;5;28mself\u001B[39m\u001B[38;5;241m.\u001B[39mobj)\n\u001B[1;32m-> 1103\u001B[0m \u001B[38;5;28;01mreturn\u001B[39;00m \u001B[38;5;28mself\u001B[39m\u001B[38;5;241m.\u001B[39m_getitem_axis(maybe_callable, axis\u001B[38;5;241m=\u001B[39maxis)\n",
      "File \u001B[1;32m~\\anaconda3\\Lib\\site-packages\\pandas\\core\\indexing.py:1332\u001B[0m, in \u001B[0;36m_LocIndexer._getitem_axis\u001B[1;34m(self, key, axis)\u001B[0m\n\u001B[0;32m   1329\u001B[0m     \u001B[38;5;28;01mif\u001B[39;00m \u001B[38;5;28mhasattr\u001B[39m(key, \u001B[38;5;124m\"\u001B[39m\u001B[38;5;124mndim\u001B[39m\u001B[38;5;124m\"\u001B[39m) \u001B[38;5;129;01mand\u001B[39;00m key\u001B[38;5;241m.\u001B[39mndim \u001B[38;5;241m>\u001B[39m \u001B[38;5;241m1\u001B[39m:\n\u001B[0;32m   1330\u001B[0m         \u001B[38;5;28;01mraise\u001B[39;00m \u001B[38;5;167;01mValueError\u001B[39;00m(\u001B[38;5;124m\"\u001B[39m\u001B[38;5;124mCannot index with multidimensional key\u001B[39m\u001B[38;5;124m\"\u001B[39m)\n\u001B[1;32m-> 1332\u001B[0m     \u001B[38;5;28;01mreturn\u001B[39;00m \u001B[38;5;28mself\u001B[39m\u001B[38;5;241m.\u001B[39m_getitem_iterable(key, axis\u001B[38;5;241m=\u001B[39maxis)\n\u001B[0;32m   1334\u001B[0m \u001B[38;5;66;03m# nested tuple slicing\u001B[39;00m\n\u001B[0;32m   1335\u001B[0m \u001B[38;5;28;01mif\u001B[39;00m is_nested_tuple(key, labels):\n",
      "File \u001B[1;32m~\\anaconda3\\Lib\\site-packages\\pandas\\core\\indexing.py:1272\u001B[0m, in \u001B[0;36m_LocIndexer._getitem_iterable\u001B[1;34m(self, key, axis)\u001B[0m\n\u001B[0;32m   1269\u001B[0m \u001B[38;5;28mself\u001B[39m\u001B[38;5;241m.\u001B[39m_validate_key(key, axis)\n\u001B[0;32m   1271\u001B[0m \u001B[38;5;66;03m# A collection of keys\u001B[39;00m\n\u001B[1;32m-> 1272\u001B[0m keyarr, indexer \u001B[38;5;241m=\u001B[39m \u001B[38;5;28mself\u001B[39m\u001B[38;5;241m.\u001B[39m_get_listlike_indexer(key, axis)\n\u001B[0;32m   1273\u001B[0m \u001B[38;5;28;01mreturn\u001B[39;00m \u001B[38;5;28mself\u001B[39m\u001B[38;5;241m.\u001B[39mobj\u001B[38;5;241m.\u001B[39m_reindex_with_indexers(\n\u001B[0;32m   1274\u001B[0m     {axis: [keyarr, indexer]}, copy\u001B[38;5;241m=\u001B[39m\u001B[38;5;28;01mTrue\u001B[39;00m, allow_dups\u001B[38;5;241m=\u001B[39m\u001B[38;5;28;01mTrue\u001B[39;00m\n\u001B[0;32m   1275\u001B[0m )\n",
      "File \u001B[1;32m~\\anaconda3\\Lib\\site-packages\\pandas\\core\\indexing.py:1462\u001B[0m, in \u001B[0;36m_LocIndexer._get_listlike_indexer\u001B[1;34m(self, key, axis)\u001B[0m\n\u001B[0;32m   1459\u001B[0m ax \u001B[38;5;241m=\u001B[39m \u001B[38;5;28mself\u001B[39m\u001B[38;5;241m.\u001B[39mobj\u001B[38;5;241m.\u001B[39m_get_axis(axis)\n\u001B[0;32m   1460\u001B[0m axis_name \u001B[38;5;241m=\u001B[39m \u001B[38;5;28mself\u001B[39m\u001B[38;5;241m.\u001B[39mobj\u001B[38;5;241m.\u001B[39m_get_axis_name(axis)\n\u001B[1;32m-> 1462\u001B[0m keyarr, indexer \u001B[38;5;241m=\u001B[39m ax\u001B[38;5;241m.\u001B[39m_get_indexer_strict(key, axis_name)\n\u001B[0;32m   1464\u001B[0m \u001B[38;5;28;01mreturn\u001B[39;00m keyarr, indexer\n",
      "File \u001B[1;32m~\\anaconda3\\Lib\\site-packages\\pandas\\core\\indexes\\base.py:5877\u001B[0m, in \u001B[0;36mIndex._get_indexer_strict\u001B[1;34m(self, key, axis_name)\u001B[0m\n\u001B[0;32m   5874\u001B[0m \u001B[38;5;28;01melse\u001B[39;00m:\n\u001B[0;32m   5875\u001B[0m     keyarr, indexer, new_indexer \u001B[38;5;241m=\u001B[39m \u001B[38;5;28mself\u001B[39m\u001B[38;5;241m.\u001B[39m_reindex_non_unique(keyarr)\n\u001B[1;32m-> 5877\u001B[0m \u001B[38;5;28mself\u001B[39m\u001B[38;5;241m.\u001B[39m_raise_if_missing(keyarr, indexer, axis_name)\n\u001B[0;32m   5879\u001B[0m keyarr \u001B[38;5;241m=\u001B[39m \u001B[38;5;28mself\u001B[39m\u001B[38;5;241m.\u001B[39mtake(indexer)\n\u001B[0;32m   5880\u001B[0m \u001B[38;5;28;01mif\u001B[39;00m \u001B[38;5;28misinstance\u001B[39m(key, Index):\n\u001B[0;32m   5881\u001B[0m     \u001B[38;5;66;03m# GH 42790 - Preserve name from an Index\u001B[39;00m\n",
      "File \u001B[1;32m~\\anaconda3\\Lib\\site-packages\\pandas\\core\\indexes\\base.py:5941\u001B[0m, in \u001B[0;36mIndex._raise_if_missing\u001B[1;34m(self, key, indexer, axis_name)\u001B[0m\n\u001B[0;32m   5938\u001B[0m     \u001B[38;5;28;01mraise\u001B[39;00m \u001B[38;5;167;01mKeyError\u001B[39;00m(\u001B[38;5;124mf\u001B[39m\u001B[38;5;124m\"\u001B[39m\u001B[38;5;124mNone of [\u001B[39m\u001B[38;5;132;01m{\u001B[39;00mkey\u001B[38;5;132;01m}\u001B[39;00m\u001B[38;5;124m] are in the [\u001B[39m\u001B[38;5;132;01m{\u001B[39;00maxis_name\u001B[38;5;132;01m}\u001B[39;00m\u001B[38;5;124m]\u001B[39m\u001B[38;5;124m\"\u001B[39m)\n\u001B[0;32m   5940\u001B[0m not_found \u001B[38;5;241m=\u001B[39m \u001B[38;5;28mlist\u001B[39m(ensure_index(key)[missing_mask\u001B[38;5;241m.\u001B[39mnonzero()[\u001B[38;5;241m0\u001B[39m]]\u001B[38;5;241m.\u001B[39munique())\n\u001B[1;32m-> 5941\u001B[0m \u001B[38;5;28;01mraise\u001B[39;00m \u001B[38;5;167;01mKeyError\u001B[39;00m(\u001B[38;5;124mf\u001B[39m\u001B[38;5;124m\"\u001B[39m\u001B[38;5;132;01m{\u001B[39;00mnot_found\u001B[38;5;132;01m}\u001B[39;00m\u001B[38;5;124m not in index\u001B[39m\u001B[38;5;124m\"\u001B[39m)\n",
      "\u001B[1;31mKeyError\u001B[0m: '[-1] not in index'"
     ]
    }
   ],
   "source": [
    "rows_with_missing_temp = wt1[wt1['temperature'].isnull()]\n",
    "\n",
    "# Include neighboring days (e.g., previous and next rows) for each row with missing 'temperature'\n",
    "neighboring_rows = wt1.loc[rows_with_missing_temp.index - 1].append(wt1.loc[rows_with_missing_temp.index]).append(wt1.loc[rows_with_missing_temp.index + 24])\n",
    "\n",
    "# Display the rows with missing 'temperature' and neighboring days\n",
    "print(neighboring_rows)"
   ],
   "metadata": {
    "collapsed": false,
    "ExecuteTime": {
     "end_time": "2024-04-18T20:17:15.359860500Z",
     "start_time": "2024-04-18T20:17:15.009793400Z"
    }
   },
   "id": "623bd5f66e5a9514",
   "execution_count": 66
  },
  {
   "cell_type": "code",
   "outputs": [],
   "source": [
    "print(len(wt1.hour_total.unique()), len(wt1))"
   ],
   "metadata": {
    "collapsed": false,
    "ExecuteTime": {
     "start_time": "2024-04-18T20:17:15.275635900Z"
    }
   },
   "id": "d0e92a34f2d31758",
   "execution_count": null
  },
  {
   "cell_type": "code",
   "outputs": [
    {
     "data": {
      "text/plain": "      unnamed:_0            datetime temperature precipitation_total  \\\n363        363.0 2023-04-16 02:00:00         NaN                 0.3   \n364        364.0 2023-04-16 03:00:00         NaN                 0.4   \n365        365.0 2023-04-16 04:00:00         NaN                 0.4   \n366        366.0 2023-04-16 05:00:00         NaN                 0.3   \n367        367.0 2023-04-16 06:00:00         NaN                 0.2   \n368        368.0 2023-04-16 07:00:00         NaN                 0.3   \n369        369.0 2023-04-16 08:00:00         NaN                 0.2   \n370        370.0 2023-04-16 09:00:00         NaN                 0.2   \n371        371.0 2023-04-16 10:00:00         NaN                 0.2   \n372        372.0 2023-04-16 11:00:00         NaN                 0.3   \n1006      1006.0 2023-05-12 21:00:00         NaN                   0   \n1007      1007.0 2023-05-12 22:00:00         NaN                   0   \n1008      1008.0 2023-05-12 23:00:00         NaN                   0   \n1009      1009.0 2023-05-13 00:00:00         NaN                   0   \n1010      1010.0 2023-05-13 01:00:00         NaN                   0   \n1011      1011.0 2023-05-13 02:00:00         NaN                   0   \n1012      1012.0 2023-05-13 03:00:00         NaN                   0   \n1013      1013.0 2023-05-13 04:00:00         NaN                   0   \n1116      1116.0 2023-05-17 11:00:00         NaN                   0   \n1117      1117.0 2023-05-17 12:00:00         NaN                   0   \n1118      1118.0 2023-05-17 13:00:00         NaN                   0   \n2506      2506.0 2023-07-14 09:00:00         NaN                   0   \n2507      2507.0 2023-07-14 10:00:00         NaN                   0   \n2508      2508.0 2023-07-14 11:00:00         NaN                   0   \n2509      2509.0 2023-07-14 12:00:00         NaN                   0   \n2510      2510.0 2023-07-14 13:00:00         NaN                   0   \n2511      2511.0 2023-07-14 14:00:00         NaN                   0   \n2521      2521.0 2023-07-15 00:00:00         NaN                   0   \n2522      2522.0 2023-07-15 01:00:00         NaN                   0   \n2523      2523.0 2023-07-15 02:00:00         NaN                   0   \n2524      2524.0 2023-07-15 03:00:00         NaN                   0   \n2525      2525.0 2023-07-15 04:00:00         NaN                   0   \n3054      3054.0 2023-08-06 05:00:00         NaN                 0.8   \n3055      3055.0 2023-08-06 06:00:00         NaN                 0.8   \n3056      3056.0 2023-08-06 07:00:00         NaN                 0.6   \n3057      3057.0 2023-08-06 08:00:00         NaN                 0.4   \n3058      3058.0 2023-08-06 09:00:00         NaN                 0.4   \n3059      3059.0 2023-08-06 10:00:00         NaN                 0.6   \n3060      3060.0 2023-08-06 11:00:00         NaN                 0.9   \n3061      3061.0 2023-08-06 12:00:00         NaN                 0.5   \n3062      3062.0 2023-08-06 13:00:00         NaN                 0.3   \n3063      3063.0 2023-08-06 14:00:00         NaN                 0.2   \n3064      3064.0 2023-08-06 15:00:00         NaN                 0.1   \n3065      3065.0 2023-08-06 16:00:00         NaN                 0.4   \n3066      3066.0 2023-08-06 17:00:00         NaN                 0.2   \n3067      3067.0 2023-08-06 18:00:00         NaN                   0   \n3068      3068.0 2023-08-06 19:00:00         NaN                   0   \n3069      3069.0 2023-08-06 20:00:00         NaN                   0   \n3070      3070.0 2023-08-06 21:00:00         NaN                   0   \n3071      3071.0 2023-08-06 22:00:00         NaN                   0   \n3072      3072.0 2023-08-06 23:00:00         NaN                   0   \n3073      3073.0 2023-08-07 00:00:00         NaN                   0   \n3074      3074.0 2023-08-07 01:00:00         NaN                   0   \n3075      3075.0 2023-08-07 02:00:00         NaN                   0   \n3076      3076.0 2023-08-07 03:00:00         NaN                   0   \n0            NaN                 NaT         NaN                 NaN   \n\n       wind_gust wind_speed cloud_cover_total sunshine_duration   day  hour  \\\n363        13.32   3.671294               100                 0  16.0   2.0   \n364        13.32   4.452954                98                 0  16.0   3.0   \n365        13.32   4.802999               100                 0  16.0   4.0   \n366    13.679999   4.379589               100                 0  16.0   5.0   \n367         14.4  5.0528407               100                 0  16.0   6.0   \n368   15.4800005   6.379216               100                 0  16.0   7.0   \n369        19.08   9.957108               100                 0  16.0   8.0   \n370        24.48  10.383987               100                 0  16.0   9.0   \n371        24.48  7.7043357               100                 0  16.0  10.0   \n372        24.84   8.534353                91         4.8484864  16.0  11.0   \n1006   12.959999  6.5693827                20                 0  12.0  21.0   \n1007       14.04    7.24486                38                 0  12.0  22.0   \n1008       14.04  6.6185193                38                 0  12.0  23.0   \n1009   13.679999   7.729527                25                 0  13.0   0.0   \n1010   12.959999   7.172949              23.7                 0  13.0   1.0   \n1011   12.599999   8.557102              23.1                 0  13.0   2.0   \n1012   11.159999   6.725354                59                 0  13.0   3.0   \n1013   10.799999   6.638072                77         1.4407407  13.0   4.0   \n1116   41.399998  19.586119                71         16.969696  17.0  11.0   \n1117   41.399998      19.08                85           8.48485  17.0  12.0   \n1118   42.839996  19.022177                95         2.4242413  17.0  13.0   \n2506       17.28  5.1544156         28.500002         42.727272  14.0   9.0   \n2507        19.8  4.8433046              28.2         42.909096  14.0  10.0   \n2508       20.16  3.9763298         24.900002         44.909092  14.0  11.0   \n2509       19.44  2.8799999                11         53.333332  14.0  12.0   \n2510       18.72   4.198285                 6         56.363636  14.0  13.0   \n2511   20.880001       6.12         15.000001         50.909096  14.0  14.0   \n2521       17.64  5.0142193                11                 0  15.0   0.0   \n2522       17.28   4.829907                23                 0  15.0   1.0   \n2523   16.919998  5.1919937                13                 0  15.0   2.0   \n2524   16.919998   5.991594                15                 0  15.0   3.0   \n2525   16.919998  5.8048253                 5         14.353199  15.0   4.0   \n3054   50.399998  20.447239                81          8.866667   6.0   5.0   \n3055   52.199997  21.900904                77         13.333332   6.0   6.0   \n3056   50.399998  21.900904                88          6.666666   6.0   7.0   \n3057   50.399998  23.263912                94         3.0303025   6.0   8.0   \n3058   52.199997   22.73707               100                 0   6.0   9.0   \n3059       52.92   20.63023                95         2.4242413   6.0  10.0   \n3060   50.399998   21.09305                96         1.8181801   6.0  11.0   \n3061        46.8  21.129885                99                 0   6.0  12.0   \n3062       51.12  20.037485                91         4.8484864   6.0  13.0   \n3063   58.679996  20.275385                78         12.727271   6.0  14.0   \n3064       61.56  20.833395                71         16.969696   6.0  15.0   \n3065   60.120003   19.70815                45         32.727272   6.0  16.0   \n3066   50.039997  17.731598                30          41.81818   6.0  17.0   \n3067       39.96  15.124284                41         35.151512   6.0  18.0   \n3068       35.28  12.429127                34         39.142258   6.0  19.0   \n3069   30.239998   10.30883                29                 0   6.0  20.0   \n3070   25.919998    10.1887                31                 0   6.0  21.0   \n3071   25.199999   9.511088                53                 0   6.0  22.0   \n3072       26.28  10.009036                47                 0   6.0  23.0   \n3073       26.28  10.233123                56                 0   7.0   0.0   \n3074       24.84   9.885262                45                 0   7.0   1.0   \n3075   23.759998   9.585739                39                 0   7.0   2.0   \n3076       21.96   8.435069                45                 0   7.0   3.0   \n0            NaN        NaN               NaN               NaN   NaN   NaN   \n\n      ...  hour_category_afternoon  hour_category_evening  \\\n363   ...                      0.0                    0.0   \n364   ...                      0.0                    0.0   \n365   ...                      0.0                    0.0   \n366   ...                      0.0                    0.0   \n367   ...                      0.0                    0.0   \n368   ...                      0.0                    0.0   \n369   ...                      0.0                    0.0   \n370   ...                      0.0                    0.0   \n371   ...                      0.0                    0.0   \n372   ...                      0.0                    1.0   \n1006  ...                      1.0                    0.0   \n1007  ...                      0.0                    0.0   \n1008  ...                      0.0                    0.0   \n1009  ...                      0.0                    0.0   \n1010  ...                      0.0                    0.0   \n1011  ...                      0.0                    0.0   \n1012  ...                      0.0                    0.0   \n1013  ...                      0.0                    0.0   \n1116  ...                      0.0                    1.0   \n1117  ...                      0.0                    1.0   \n1118  ...                      0.0                    1.0   \n2506  ...                      0.0                    0.0   \n2507  ...                      0.0                    0.0   \n2508  ...                      0.0                    1.0   \n2509  ...                      0.0                    1.0   \n2510  ...                      0.0                    1.0   \n2511  ...                      0.0                    1.0   \n2521  ...                      0.0                    0.0   \n2522  ...                      0.0                    0.0   \n2523  ...                      0.0                    0.0   \n2524  ...                      0.0                    0.0   \n2525  ...                      0.0                    0.0   \n3054  ...                      0.0                    0.0   \n3055  ...                      0.0                    0.0   \n3056  ...                      0.0                    0.0   \n3057  ...                      0.0                    0.0   \n3058  ...                      0.0                    0.0   \n3059  ...                      0.0                    0.0   \n3060  ...                      0.0                    1.0   \n3061  ...                      0.0                    1.0   \n3062  ...                      0.0                    1.0   \n3063  ...                      0.0                    1.0   \n3064  ...                      0.0                    1.0   \n3065  ...                      0.0                    1.0   \n3066  ...                      1.0                    0.0   \n3067  ...                      1.0                    0.0   \n3068  ...                      1.0                    0.0   \n3069  ...                      1.0                    0.0   \n3070  ...                      1.0                    0.0   \n3071  ...                      0.0                    0.0   \n3072  ...                      0.0                    0.0   \n3073  ...                      0.0                    0.0   \n3074  ...                      0.0                    0.0   \n3075  ...                      0.0                    0.0   \n3076  ...                      0.0                    0.0   \n0     ...                      0.0                    0.0   \n\n      hour_category_morning  hour_category_nan  hour_category_night  \\\n363                     0.0                0.0                  1.0   \n364                     0.0                0.0                  1.0   \n365                     0.0                0.0                  1.0   \n366                     1.0                0.0                  0.0   \n367                     1.0                0.0                  0.0   \n368                     1.0                0.0                  0.0   \n369                     1.0                0.0                  0.0   \n370                     1.0                0.0                  0.0   \n371                     1.0                0.0                  0.0   \n372                     0.0                0.0                  0.0   \n1006                    0.0                0.0                  0.0   \n1007                    0.0                1.0                  0.0   \n1008                    0.0                0.0                  1.0   \n1009                    0.0                0.0                  1.0   \n1010                    0.0                0.0                  1.0   \n1011                    0.0                0.0                  1.0   \n1012                    0.0                0.0                  1.0   \n1013                    0.0                0.0                  1.0   \n1116                    0.0                0.0                  0.0   \n1117                    0.0                0.0                  0.0   \n1118                    0.0                0.0                  0.0   \n2506                    1.0                0.0                  0.0   \n2507                    1.0                0.0                  0.0   \n2508                    0.0                0.0                  0.0   \n2509                    0.0                0.0                  0.0   \n2510                    0.0                0.0                  0.0   \n2511                    0.0                0.0                  0.0   \n2521                    0.0                0.0                  1.0   \n2522                    0.0                0.0                  1.0   \n2523                    0.0                0.0                  1.0   \n2524                    0.0                0.0                  1.0   \n2525                    0.0                0.0                  1.0   \n3054                    1.0                0.0                  0.0   \n3055                    1.0                0.0                  0.0   \n3056                    1.0                0.0                  0.0   \n3057                    1.0                0.0                  0.0   \n3058                    1.0                0.0                  0.0   \n3059                    1.0                0.0                  0.0   \n3060                    0.0                0.0                  0.0   \n3061                    0.0                0.0                  0.0   \n3062                    0.0                0.0                  0.0   \n3063                    0.0                0.0                  0.0   \n3064                    0.0                0.0                  0.0   \n3065                    0.0                0.0                  0.0   \n3066                    0.0                0.0                  0.0   \n3067                    0.0                0.0                  0.0   \n3068                    0.0                0.0                  0.0   \n3069                    0.0                0.0                  0.0   \n3070                    0.0                0.0                  0.0   \n3071                    0.0                1.0                  0.0   \n3072                    0.0                0.0                  1.0   \n3073                    0.0                0.0                  1.0   \n3074                    0.0                0.0                  1.0   \n3075                    0.0                0.0                  1.0   \n3076                    0.0                0.0                  1.0   \n0                       0.0                0.0                  1.0   \n\n      season_spring  season_summer  season_nan  temperature_predictions  \\\n363             1.0            0.0         0.0                 7.528493   \n364             1.0            0.0         0.0                 7.575917   \n365             1.0            0.0         0.0                 7.688278   \n366             1.0            0.0         0.0                 6.936773   \n367             1.0            0.0         0.0                 7.085927   \n368             1.0            0.0         0.0                 7.156340   \n369             1.0            0.0         0.0                 7.335185   \n370             1.0            0.0         0.0                 7.491361   \n371             1.0            0.0         0.0                 7.591866   \n372             1.0            0.0         0.0                12.838728   \n1006            1.0            0.0         0.0                12.976110   \n1007            1.0            0.0         0.0                11.936334   \n1008            1.0            0.0         0.0                11.881912   \n1009            1.0            0.0         0.0                 9.566107   \n1010            1.0            0.0         0.0                 9.651483   \n1011            1.0            0.0         0.0                 9.744720   \n1012            1.0            0.0         0.0                10.043180   \n1013            1.0            0.0         0.0                10.413927   \n1116            1.0            0.0         0.0                17.283875   \n1117            1.0            0.0         0.0                16.482352   \n1118            1.0            0.0         0.0                15.953395   \n2506            0.0            1.0         0.0                22.698197   \n2507            0.0            1.0         0.0                22.844011   \n2508            0.0            1.0         0.0                27.835202   \n2509            0.0            1.0         0.0                28.823870   \n2510            0.0            1.0         0.0                29.239106   \n2511            0.0            1.0         0.0                28.782004   \n2521            0.0            1.0         0.0                17.706905   \n2522            0.0            1.0         0.0                17.874830   \n2523            0.0            1.0         0.0                17.912348   \n2524            0.0            1.0         0.0                18.024708   \n2525            0.0            1.0         0.0                19.732215   \n3054            0.0            1.0         0.0                17.087159   \n3055            0.0            1.0         0.0                17.701050   \n3056            0.0            1.0         0.0                17.156713   \n3057            0.0            1.0         0.0                16.953086   \n3058            0.0            1.0         0.0                16.755923   \n3059            0.0            1.0         0.0                17.033194   \n3060            0.0            1.0         0.0                21.593965   \n3061            0.0            1.0         0.0                21.628968   \n3062            0.0            1.0         0.0                22.371907   \n3063            0.0            1.0         0.0                23.429174   \n3064            0.0            1.0         0.0                24.051611   \n3065            0.0            1.0         0.0                25.688790   \n3066            0.0            1.0         0.0                24.369920   \n3067            0.0            1.0         0.0                23.740221   \n3068            0.0            1.0         0.0                24.214276   \n3069            0.0            1.0         0.0                19.689118   \n3070            0.0            1.0         0.0                19.756942   \n3071            0.0            1.0         0.0                18.722319   \n3072            0.0            1.0         0.0                18.643466   \n3073            0.0            1.0         0.0                16.461779   \n3074            0.0            1.0         0.0                16.482235   \n3075            0.0            1.0         0.0                16.536041   \n3076            0.0            1.0         0.0                16.653554   \n0               1.0            0.0         0.0                13.411746   \n\n      temperature_interpolated  \n363                        NaN  \n364                        NaN  \n365                        NaN  \n366                        NaN  \n367                        NaN  \n368                        NaN  \n369                        NaN  \n370                        NaN  \n371                        NaN  \n372                        NaN  \n1006                       NaN  \n1007                       NaN  \n1008                       NaN  \n1009                       NaN  \n1010                       NaN  \n1011                       NaN  \n1012                       NaN  \n1013                       NaN  \n1116                       NaN  \n1117                       NaN  \n1118                       NaN  \n2506                       NaN  \n2507                       NaN  \n2508                       NaN  \n2509                       NaN  \n2510                       NaN  \n2511                       NaN  \n2521                       NaN  \n2522                       NaN  \n2523                       NaN  \n2524                       NaN  \n2525                       NaN  \n3054                       NaN  \n3055                       NaN  \n3056                       NaN  \n3057                       NaN  \n3058                       NaN  \n3059                       NaN  \n3060                       NaN  \n3061                       NaN  \n3062                       NaN  \n3063                       NaN  \n3064                       NaN  \n3065                       NaN  \n3066                       NaN  \n3067                       NaN  \n3068                       NaN  \n3069                       NaN  \n3070                       NaN  \n3071                       NaN  \n3072                       NaN  \n3073                       NaN  \n3074                       NaN  \n3075                       NaN  \n3076                       NaN  \n0                          NaN  \n\n[56 rows x 22 columns]",
      "text/html": "<div>\n<style scoped>\n    .dataframe tbody tr th:only-of-type {\n        vertical-align: middle;\n    }\n\n    .dataframe tbody tr th {\n        vertical-align: top;\n    }\n\n    .dataframe thead th {\n        text-align: right;\n    }\n</style>\n<table border=\"1\" class=\"dataframe\">\n  <thead>\n    <tr style=\"text-align: right;\">\n      <th></th>\n      <th>unnamed:_0</th>\n      <th>datetime</th>\n      <th>temperature</th>\n      <th>precipitation_total</th>\n      <th>wind_gust</th>\n      <th>wind_speed</th>\n      <th>cloud_cover_total</th>\n      <th>sunshine_duration</th>\n      <th>day</th>\n      <th>hour</th>\n      <th>...</th>\n      <th>hour_category_afternoon</th>\n      <th>hour_category_evening</th>\n      <th>hour_category_morning</th>\n      <th>hour_category_nan</th>\n      <th>hour_category_night</th>\n      <th>season_spring</th>\n      <th>season_summer</th>\n      <th>season_nan</th>\n      <th>temperature_predictions</th>\n      <th>temperature_interpolated</th>\n    </tr>\n  </thead>\n  <tbody>\n    <tr>\n      <th>363</th>\n      <td>363.0</td>\n      <td>2023-04-16 02:00:00</td>\n      <td>NaN</td>\n      <td>0.3</td>\n      <td>13.32</td>\n      <td>3.671294</td>\n      <td>100</td>\n      <td>0</td>\n      <td>16.0</td>\n      <td>2.0</td>\n      <td>...</td>\n      <td>0.0</td>\n      <td>0.0</td>\n      <td>0.0</td>\n      <td>0.0</td>\n      <td>1.0</td>\n      <td>1.0</td>\n      <td>0.0</td>\n      <td>0.0</td>\n      <td>7.528493</td>\n      <td>NaN</td>\n    </tr>\n    <tr>\n      <th>364</th>\n      <td>364.0</td>\n      <td>2023-04-16 03:00:00</td>\n      <td>NaN</td>\n      <td>0.4</td>\n      <td>13.32</td>\n      <td>4.452954</td>\n      <td>98</td>\n      <td>0</td>\n      <td>16.0</td>\n      <td>3.0</td>\n      <td>...</td>\n      <td>0.0</td>\n      <td>0.0</td>\n      <td>0.0</td>\n      <td>0.0</td>\n      <td>1.0</td>\n      <td>1.0</td>\n      <td>0.0</td>\n      <td>0.0</td>\n      <td>7.575917</td>\n      <td>NaN</td>\n    </tr>\n    <tr>\n      <th>365</th>\n      <td>365.0</td>\n      <td>2023-04-16 04:00:00</td>\n      <td>NaN</td>\n      <td>0.4</td>\n      <td>13.32</td>\n      <td>4.802999</td>\n      <td>100</td>\n      <td>0</td>\n      <td>16.0</td>\n      <td>4.0</td>\n      <td>...</td>\n      <td>0.0</td>\n      <td>0.0</td>\n      <td>0.0</td>\n      <td>0.0</td>\n      <td>1.0</td>\n      <td>1.0</td>\n      <td>0.0</td>\n      <td>0.0</td>\n      <td>7.688278</td>\n      <td>NaN</td>\n    </tr>\n    <tr>\n      <th>366</th>\n      <td>366.0</td>\n      <td>2023-04-16 05:00:00</td>\n      <td>NaN</td>\n      <td>0.3</td>\n      <td>13.679999</td>\n      <td>4.379589</td>\n      <td>100</td>\n      <td>0</td>\n      <td>16.0</td>\n      <td>5.0</td>\n      <td>...</td>\n      <td>0.0</td>\n      <td>0.0</td>\n      <td>1.0</td>\n      <td>0.0</td>\n      <td>0.0</td>\n      <td>1.0</td>\n      <td>0.0</td>\n      <td>0.0</td>\n      <td>6.936773</td>\n      <td>NaN</td>\n    </tr>\n    <tr>\n      <th>367</th>\n      <td>367.0</td>\n      <td>2023-04-16 06:00:00</td>\n      <td>NaN</td>\n      <td>0.2</td>\n      <td>14.4</td>\n      <td>5.0528407</td>\n      <td>100</td>\n      <td>0</td>\n      <td>16.0</td>\n      <td>6.0</td>\n      <td>...</td>\n      <td>0.0</td>\n      <td>0.0</td>\n      <td>1.0</td>\n      <td>0.0</td>\n      <td>0.0</td>\n      <td>1.0</td>\n      <td>0.0</td>\n      <td>0.0</td>\n      <td>7.085927</td>\n      <td>NaN</td>\n    </tr>\n    <tr>\n      <th>368</th>\n      <td>368.0</td>\n      <td>2023-04-16 07:00:00</td>\n      <td>NaN</td>\n      <td>0.3</td>\n      <td>15.4800005</td>\n      <td>6.379216</td>\n      <td>100</td>\n      <td>0</td>\n      <td>16.0</td>\n      <td>7.0</td>\n      <td>...</td>\n      <td>0.0</td>\n      <td>0.0</td>\n      <td>1.0</td>\n      <td>0.0</td>\n      <td>0.0</td>\n      <td>1.0</td>\n      <td>0.0</td>\n      <td>0.0</td>\n      <td>7.156340</td>\n      <td>NaN</td>\n    </tr>\n    <tr>\n      <th>369</th>\n      <td>369.0</td>\n      <td>2023-04-16 08:00:00</td>\n      <td>NaN</td>\n      <td>0.2</td>\n      <td>19.08</td>\n      <td>9.957108</td>\n      <td>100</td>\n      <td>0</td>\n      <td>16.0</td>\n      <td>8.0</td>\n      <td>...</td>\n      <td>0.0</td>\n      <td>0.0</td>\n      <td>1.0</td>\n      <td>0.0</td>\n      <td>0.0</td>\n      <td>1.0</td>\n      <td>0.0</td>\n      <td>0.0</td>\n      <td>7.335185</td>\n      <td>NaN</td>\n    </tr>\n    <tr>\n      <th>370</th>\n      <td>370.0</td>\n      <td>2023-04-16 09:00:00</td>\n      <td>NaN</td>\n      <td>0.2</td>\n      <td>24.48</td>\n      <td>10.383987</td>\n      <td>100</td>\n      <td>0</td>\n      <td>16.0</td>\n      <td>9.0</td>\n      <td>...</td>\n      <td>0.0</td>\n      <td>0.0</td>\n      <td>1.0</td>\n      <td>0.0</td>\n      <td>0.0</td>\n      <td>1.0</td>\n      <td>0.0</td>\n      <td>0.0</td>\n      <td>7.491361</td>\n      <td>NaN</td>\n    </tr>\n    <tr>\n      <th>371</th>\n      <td>371.0</td>\n      <td>2023-04-16 10:00:00</td>\n      <td>NaN</td>\n      <td>0.2</td>\n      <td>24.48</td>\n      <td>7.7043357</td>\n      <td>100</td>\n      <td>0</td>\n      <td>16.0</td>\n      <td>10.0</td>\n      <td>...</td>\n      <td>0.0</td>\n      <td>0.0</td>\n      <td>1.0</td>\n      <td>0.0</td>\n      <td>0.0</td>\n      <td>1.0</td>\n      <td>0.0</td>\n      <td>0.0</td>\n      <td>7.591866</td>\n      <td>NaN</td>\n    </tr>\n    <tr>\n      <th>372</th>\n      <td>372.0</td>\n      <td>2023-04-16 11:00:00</td>\n      <td>NaN</td>\n      <td>0.3</td>\n      <td>24.84</td>\n      <td>8.534353</td>\n      <td>91</td>\n      <td>4.8484864</td>\n      <td>16.0</td>\n      <td>11.0</td>\n      <td>...</td>\n      <td>0.0</td>\n      <td>1.0</td>\n      <td>0.0</td>\n      <td>0.0</td>\n      <td>0.0</td>\n      <td>1.0</td>\n      <td>0.0</td>\n      <td>0.0</td>\n      <td>12.838728</td>\n      <td>NaN</td>\n    </tr>\n    <tr>\n      <th>1006</th>\n      <td>1006.0</td>\n      <td>2023-05-12 21:00:00</td>\n      <td>NaN</td>\n      <td>0</td>\n      <td>12.959999</td>\n      <td>6.5693827</td>\n      <td>20</td>\n      <td>0</td>\n      <td>12.0</td>\n      <td>21.0</td>\n      <td>...</td>\n      <td>1.0</td>\n      <td>0.0</td>\n      <td>0.0</td>\n      <td>0.0</td>\n      <td>0.0</td>\n      <td>1.0</td>\n      <td>0.0</td>\n      <td>0.0</td>\n      <td>12.976110</td>\n      <td>NaN</td>\n    </tr>\n    <tr>\n      <th>1007</th>\n      <td>1007.0</td>\n      <td>2023-05-12 22:00:00</td>\n      <td>NaN</td>\n      <td>0</td>\n      <td>14.04</td>\n      <td>7.24486</td>\n      <td>38</td>\n      <td>0</td>\n      <td>12.0</td>\n      <td>22.0</td>\n      <td>...</td>\n      <td>0.0</td>\n      <td>0.0</td>\n      <td>0.0</td>\n      <td>1.0</td>\n      <td>0.0</td>\n      <td>1.0</td>\n      <td>0.0</td>\n      <td>0.0</td>\n      <td>11.936334</td>\n      <td>NaN</td>\n    </tr>\n    <tr>\n      <th>1008</th>\n      <td>1008.0</td>\n      <td>2023-05-12 23:00:00</td>\n      <td>NaN</td>\n      <td>0</td>\n      <td>14.04</td>\n      <td>6.6185193</td>\n      <td>38</td>\n      <td>0</td>\n      <td>12.0</td>\n      <td>23.0</td>\n      <td>...</td>\n      <td>0.0</td>\n      <td>0.0</td>\n      <td>0.0</td>\n      <td>0.0</td>\n      <td>1.0</td>\n      <td>1.0</td>\n      <td>0.0</td>\n      <td>0.0</td>\n      <td>11.881912</td>\n      <td>NaN</td>\n    </tr>\n    <tr>\n      <th>1009</th>\n      <td>1009.0</td>\n      <td>2023-05-13 00:00:00</td>\n      <td>NaN</td>\n      <td>0</td>\n      <td>13.679999</td>\n      <td>7.729527</td>\n      <td>25</td>\n      <td>0</td>\n      <td>13.0</td>\n      <td>0.0</td>\n      <td>...</td>\n      <td>0.0</td>\n      <td>0.0</td>\n      <td>0.0</td>\n      <td>0.0</td>\n      <td>1.0</td>\n      <td>1.0</td>\n      <td>0.0</td>\n      <td>0.0</td>\n      <td>9.566107</td>\n      <td>NaN</td>\n    </tr>\n    <tr>\n      <th>1010</th>\n      <td>1010.0</td>\n      <td>2023-05-13 01:00:00</td>\n      <td>NaN</td>\n      <td>0</td>\n      <td>12.959999</td>\n      <td>7.172949</td>\n      <td>23.7</td>\n      <td>0</td>\n      <td>13.0</td>\n      <td>1.0</td>\n      <td>...</td>\n      <td>0.0</td>\n      <td>0.0</td>\n      <td>0.0</td>\n      <td>0.0</td>\n      <td>1.0</td>\n      <td>1.0</td>\n      <td>0.0</td>\n      <td>0.0</td>\n      <td>9.651483</td>\n      <td>NaN</td>\n    </tr>\n    <tr>\n      <th>1011</th>\n      <td>1011.0</td>\n      <td>2023-05-13 02:00:00</td>\n      <td>NaN</td>\n      <td>0</td>\n      <td>12.599999</td>\n      <td>8.557102</td>\n      <td>23.1</td>\n      <td>0</td>\n      <td>13.0</td>\n      <td>2.0</td>\n      <td>...</td>\n      <td>0.0</td>\n      <td>0.0</td>\n      <td>0.0</td>\n      <td>0.0</td>\n      <td>1.0</td>\n      <td>1.0</td>\n      <td>0.0</td>\n      <td>0.0</td>\n      <td>9.744720</td>\n      <td>NaN</td>\n    </tr>\n    <tr>\n      <th>1012</th>\n      <td>1012.0</td>\n      <td>2023-05-13 03:00:00</td>\n      <td>NaN</td>\n      <td>0</td>\n      <td>11.159999</td>\n      <td>6.725354</td>\n      <td>59</td>\n      <td>0</td>\n      <td>13.0</td>\n      <td>3.0</td>\n      <td>...</td>\n      <td>0.0</td>\n      <td>0.0</td>\n      <td>0.0</td>\n      <td>0.0</td>\n      <td>1.0</td>\n      <td>1.0</td>\n      <td>0.0</td>\n      <td>0.0</td>\n      <td>10.043180</td>\n      <td>NaN</td>\n    </tr>\n    <tr>\n      <th>1013</th>\n      <td>1013.0</td>\n      <td>2023-05-13 04:00:00</td>\n      <td>NaN</td>\n      <td>0</td>\n      <td>10.799999</td>\n      <td>6.638072</td>\n      <td>77</td>\n      <td>1.4407407</td>\n      <td>13.0</td>\n      <td>4.0</td>\n      <td>...</td>\n      <td>0.0</td>\n      <td>0.0</td>\n      <td>0.0</td>\n      <td>0.0</td>\n      <td>1.0</td>\n      <td>1.0</td>\n      <td>0.0</td>\n      <td>0.0</td>\n      <td>10.413927</td>\n      <td>NaN</td>\n    </tr>\n    <tr>\n      <th>1116</th>\n      <td>1116.0</td>\n      <td>2023-05-17 11:00:00</td>\n      <td>NaN</td>\n      <td>0</td>\n      <td>41.399998</td>\n      <td>19.586119</td>\n      <td>71</td>\n      <td>16.969696</td>\n      <td>17.0</td>\n      <td>11.0</td>\n      <td>...</td>\n      <td>0.0</td>\n      <td>1.0</td>\n      <td>0.0</td>\n      <td>0.0</td>\n      <td>0.0</td>\n      <td>1.0</td>\n      <td>0.0</td>\n      <td>0.0</td>\n      <td>17.283875</td>\n      <td>NaN</td>\n    </tr>\n    <tr>\n      <th>1117</th>\n      <td>1117.0</td>\n      <td>2023-05-17 12:00:00</td>\n      <td>NaN</td>\n      <td>0</td>\n      <td>41.399998</td>\n      <td>19.08</td>\n      <td>85</td>\n      <td>8.48485</td>\n      <td>17.0</td>\n      <td>12.0</td>\n      <td>...</td>\n      <td>0.0</td>\n      <td>1.0</td>\n      <td>0.0</td>\n      <td>0.0</td>\n      <td>0.0</td>\n      <td>1.0</td>\n      <td>0.0</td>\n      <td>0.0</td>\n      <td>16.482352</td>\n      <td>NaN</td>\n    </tr>\n    <tr>\n      <th>1118</th>\n      <td>1118.0</td>\n      <td>2023-05-17 13:00:00</td>\n      <td>NaN</td>\n      <td>0</td>\n      <td>42.839996</td>\n      <td>19.022177</td>\n      <td>95</td>\n      <td>2.4242413</td>\n      <td>17.0</td>\n      <td>13.0</td>\n      <td>...</td>\n      <td>0.0</td>\n      <td>1.0</td>\n      <td>0.0</td>\n      <td>0.0</td>\n      <td>0.0</td>\n      <td>1.0</td>\n      <td>0.0</td>\n      <td>0.0</td>\n      <td>15.953395</td>\n      <td>NaN</td>\n    </tr>\n    <tr>\n      <th>2506</th>\n      <td>2506.0</td>\n      <td>2023-07-14 09:00:00</td>\n      <td>NaN</td>\n      <td>0</td>\n      <td>17.28</td>\n      <td>5.1544156</td>\n      <td>28.500002</td>\n      <td>42.727272</td>\n      <td>14.0</td>\n      <td>9.0</td>\n      <td>...</td>\n      <td>0.0</td>\n      <td>0.0</td>\n      <td>1.0</td>\n      <td>0.0</td>\n      <td>0.0</td>\n      <td>0.0</td>\n      <td>1.0</td>\n      <td>0.0</td>\n      <td>22.698197</td>\n      <td>NaN</td>\n    </tr>\n    <tr>\n      <th>2507</th>\n      <td>2507.0</td>\n      <td>2023-07-14 10:00:00</td>\n      <td>NaN</td>\n      <td>0</td>\n      <td>19.8</td>\n      <td>4.8433046</td>\n      <td>28.2</td>\n      <td>42.909096</td>\n      <td>14.0</td>\n      <td>10.0</td>\n      <td>...</td>\n      <td>0.0</td>\n      <td>0.0</td>\n      <td>1.0</td>\n      <td>0.0</td>\n      <td>0.0</td>\n      <td>0.0</td>\n      <td>1.0</td>\n      <td>0.0</td>\n      <td>22.844011</td>\n      <td>NaN</td>\n    </tr>\n    <tr>\n      <th>2508</th>\n      <td>2508.0</td>\n      <td>2023-07-14 11:00:00</td>\n      <td>NaN</td>\n      <td>0</td>\n      <td>20.16</td>\n      <td>3.9763298</td>\n      <td>24.900002</td>\n      <td>44.909092</td>\n      <td>14.0</td>\n      <td>11.0</td>\n      <td>...</td>\n      <td>0.0</td>\n      <td>1.0</td>\n      <td>0.0</td>\n      <td>0.0</td>\n      <td>0.0</td>\n      <td>0.0</td>\n      <td>1.0</td>\n      <td>0.0</td>\n      <td>27.835202</td>\n      <td>NaN</td>\n    </tr>\n    <tr>\n      <th>2509</th>\n      <td>2509.0</td>\n      <td>2023-07-14 12:00:00</td>\n      <td>NaN</td>\n      <td>0</td>\n      <td>19.44</td>\n      <td>2.8799999</td>\n      <td>11</td>\n      <td>53.333332</td>\n      <td>14.0</td>\n      <td>12.0</td>\n      <td>...</td>\n      <td>0.0</td>\n      <td>1.0</td>\n      <td>0.0</td>\n      <td>0.0</td>\n      <td>0.0</td>\n      <td>0.0</td>\n      <td>1.0</td>\n      <td>0.0</td>\n      <td>28.823870</td>\n      <td>NaN</td>\n    </tr>\n    <tr>\n      <th>2510</th>\n      <td>2510.0</td>\n      <td>2023-07-14 13:00:00</td>\n      <td>NaN</td>\n      <td>0</td>\n      <td>18.72</td>\n      <td>4.198285</td>\n      <td>6</td>\n      <td>56.363636</td>\n      <td>14.0</td>\n      <td>13.0</td>\n      <td>...</td>\n      <td>0.0</td>\n      <td>1.0</td>\n      <td>0.0</td>\n      <td>0.0</td>\n      <td>0.0</td>\n      <td>0.0</td>\n      <td>1.0</td>\n      <td>0.0</td>\n      <td>29.239106</td>\n      <td>NaN</td>\n    </tr>\n    <tr>\n      <th>2511</th>\n      <td>2511.0</td>\n      <td>2023-07-14 14:00:00</td>\n      <td>NaN</td>\n      <td>0</td>\n      <td>20.880001</td>\n      <td>6.12</td>\n      <td>15.000001</td>\n      <td>50.909096</td>\n      <td>14.0</td>\n      <td>14.0</td>\n      <td>...</td>\n      <td>0.0</td>\n      <td>1.0</td>\n      <td>0.0</td>\n      <td>0.0</td>\n      <td>0.0</td>\n      <td>0.0</td>\n      <td>1.0</td>\n      <td>0.0</td>\n      <td>28.782004</td>\n      <td>NaN</td>\n    </tr>\n    <tr>\n      <th>2521</th>\n      <td>2521.0</td>\n      <td>2023-07-15 00:00:00</td>\n      <td>NaN</td>\n      <td>0</td>\n      <td>17.64</td>\n      <td>5.0142193</td>\n      <td>11</td>\n      <td>0</td>\n      <td>15.0</td>\n      <td>0.0</td>\n      <td>...</td>\n      <td>0.0</td>\n      <td>0.0</td>\n      <td>0.0</td>\n      <td>0.0</td>\n      <td>1.0</td>\n      <td>0.0</td>\n      <td>1.0</td>\n      <td>0.0</td>\n      <td>17.706905</td>\n      <td>NaN</td>\n    </tr>\n    <tr>\n      <th>2522</th>\n      <td>2522.0</td>\n      <td>2023-07-15 01:00:00</td>\n      <td>NaN</td>\n      <td>0</td>\n      <td>17.28</td>\n      <td>4.829907</td>\n      <td>23</td>\n      <td>0</td>\n      <td>15.0</td>\n      <td>1.0</td>\n      <td>...</td>\n      <td>0.0</td>\n      <td>0.0</td>\n      <td>0.0</td>\n      <td>0.0</td>\n      <td>1.0</td>\n      <td>0.0</td>\n      <td>1.0</td>\n      <td>0.0</td>\n      <td>17.874830</td>\n      <td>NaN</td>\n    </tr>\n    <tr>\n      <th>2523</th>\n      <td>2523.0</td>\n      <td>2023-07-15 02:00:00</td>\n      <td>NaN</td>\n      <td>0</td>\n      <td>16.919998</td>\n      <td>5.1919937</td>\n      <td>13</td>\n      <td>0</td>\n      <td>15.0</td>\n      <td>2.0</td>\n      <td>...</td>\n      <td>0.0</td>\n      <td>0.0</td>\n      <td>0.0</td>\n      <td>0.0</td>\n      <td>1.0</td>\n      <td>0.0</td>\n      <td>1.0</td>\n      <td>0.0</td>\n      <td>17.912348</td>\n      <td>NaN</td>\n    </tr>\n    <tr>\n      <th>2524</th>\n      <td>2524.0</td>\n      <td>2023-07-15 03:00:00</td>\n      <td>NaN</td>\n      <td>0</td>\n      <td>16.919998</td>\n      <td>5.991594</td>\n      <td>15</td>\n      <td>0</td>\n      <td>15.0</td>\n      <td>3.0</td>\n      <td>...</td>\n      <td>0.0</td>\n      <td>0.0</td>\n      <td>0.0</td>\n      <td>0.0</td>\n      <td>1.0</td>\n      <td>0.0</td>\n      <td>1.0</td>\n      <td>0.0</td>\n      <td>18.024708</td>\n      <td>NaN</td>\n    </tr>\n    <tr>\n      <th>2525</th>\n      <td>2525.0</td>\n      <td>2023-07-15 04:00:00</td>\n      <td>NaN</td>\n      <td>0</td>\n      <td>16.919998</td>\n      <td>5.8048253</td>\n      <td>5</td>\n      <td>14.353199</td>\n      <td>15.0</td>\n      <td>4.0</td>\n      <td>...</td>\n      <td>0.0</td>\n      <td>0.0</td>\n      <td>0.0</td>\n      <td>0.0</td>\n      <td>1.0</td>\n      <td>0.0</td>\n      <td>1.0</td>\n      <td>0.0</td>\n      <td>19.732215</td>\n      <td>NaN</td>\n    </tr>\n    <tr>\n      <th>3054</th>\n      <td>3054.0</td>\n      <td>2023-08-06 05:00:00</td>\n      <td>NaN</td>\n      <td>0.8</td>\n      <td>50.399998</td>\n      <td>20.447239</td>\n      <td>81</td>\n      <td>8.866667</td>\n      <td>6.0</td>\n      <td>5.0</td>\n      <td>...</td>\n      <td>0.0</td>\n      <td>0.0</td>\n      <td>1.0</td>\n      <td>0.0</td>\n      <td>0.0</td>\n      <td>0.0</td>\n      <td>1.0</td>\n      <td>0.0</td>\n      <td>17.087159</td>\n      <td>NaN</td>\n    </tr>\n    <tr>\n      <th>3055</th>\n      <td>3055.0</td>\n      <td>2023-08-06 06:00:00</td>\n      <td>NaN</td>\n      <td>0.8</td>\n      <td>52.199997</td>\n      <td>21.900904</td>\n      <td>77</td>\n      <td>13.333332</td>\n      <td>6.0</td>\n      <td>6.0</td>\n      <td>...</td>\n      <td>0.0</td>\n      <td>0.0</td>\n      <td>1.0</td>\n      <td>0.0</td>\n      <td>0.0</td>\n      <td>0.0</td>\n      <td>1.0</td>\n      <td>0.0</td>\n      <td>17.701050</td>\n      <td>NaN</td>\n    </tr>\n    <tr>\n      <th>3056</th>\n      <td>3056.0</td>\n      <td>2023-08-06 07:00:00</td>\n      <td>NaN</td>\n      <td>0.6</td>\n      <td>50.399998</td>\n      <td>21.900904</td>\n      <td>88</td>\n      <td>6.666666</td>\n      <td>6.0</td>\n      <td>7.0</td>\n      <td>...</td>\n      <td>0.0</td>\n      <td>0.0</td>\n      <td>1.0</td>\n      <td>0.0</td>\n      <td>0.0</td>\n      <td>0.0</td>\n      <td>1.0</td>\n      <td>0.0</td>\n      <td>17.156713</td>\n      <td>NaN</td>\n    </tr>\n    <tr>\n      <th>3057</th>\n      <td>3057.0</td>\n      <td>2023-08-06 08:00:00</td>\n      <td>NaN</td>\n      <td>0.4</td>\n      <td>50.399998</td>\n      <td>23.263912</td>\n      <td>94</td>\n      <td>3.0303025</td>\n      <td>6.0</td>\n      <td>8.0</td>\n      <td>...</td>\n      <td>0.0</td>\n      <td>0.0</td>\n      <td>1.0</td>\n      <td>0.0</td>\n      <td>0.0</td>\n      <td>0.0</td>\n      <td>1.0</td>\n      <td>0.0</td>\n      <td>16.953086</td>\n      <td>NaN</td>\n    </tr>\n    <tr>\n      <th>3058</th>\n      <td>3058.0</td>\n      <td>2023-08-06 09:00:00</td>\n      <td>NaN</td>\n      <td>0.4</td>\n      <td>52.199997</td>\n      <td>22.73707</td>\n      <td>100</td>\n      <td>0</td>\n      <td>6.0</td>\n      <td>9.0</td>\n      <td>...</td>\n      <td>0.0</td>\n      <td>0.0</td>\n      <td>1.0</td>\n      <td>0.0</td>\n      <td>0.0</td>\n      <td>0.0</td>\n      <td>1.0</td>\n      <td>0.0</td>\n      <td>16.755923</td>\n      <td>NaN</td>\n    </tr>\n    <tr>\n      <th>3059</th>\n      <td>3059.0</td>\n      <td>2023-08-06 10:00:00</td>\n      <td>NaN</td>\n      <td>0.6</td>\n      <td>52.92</td>\n      <td>20.63023</td>\n      <td>95</td>\n      <td>2.4242413</td>\n      <td>6.0</td>\n      <td>10.0</td>\n      <td>...</td>\n      <td>0.0</td>\n      <td>0.0</td>\n      <td>1.0</td>\n      <td>0.0</td>\n      <td>0.0</td>\n      <td>0.0</td>\n      <td>1.0</td>\n      <td>0.0</td>\n      <td>17.033194</td>\n      <td>NaN</td>\n    </tr>\n    <tr>\n      <th>3060</th>\n      <td>3060.0</td>\n      <td>2023-08-06 11:00:00</td>\n      <td>NaN</td>\n      <td>0.9</td>\n      <td>50.399998</td>\n      <td>21.09305</td>\n      <td>96</td>\n      <td>1.8181801</td>\n      <td>6.0</td>\n      <td>11.0</td>\n      <td>...</td>\n      <td>0.0</td>\n      <td>1.0</td>\n      <td>0.0</td>\n      <td>0.0</td>\n      <td>0.0</td>\n      <td>0.0</td>\n      <td>1.0</td>\n      <td>0.0</td>\n      <td>21.593965</td>\n      <td>NaN</td>\n    </tr>\n    <tr>\n      <th>3061</th>\n      <td>3061.0</td>\n      <td>2023-08-06 12:00:00</td>\n      <td>NaN</td>\n      <td>0.5</td>\n      <td>46.8</td>\n      <td>21.129885</td>\n      <td>99</td>\n      <td>0</td>\n      <td>6.0</td>\n      <td>12.0</td>\n      <td>...</td>\n      <td>0.0</td>\n      <td>1.0</td>\n      <td>0.0</td>\n      <td>0.0</td>\n      <td>0.0</td>\n      <td>0.0</td>\n      <td>1.0</td>\n      <td>0.0</td>\n      <td>21.628968</td>\n      <td>NaN</td>\n    </tr>\n    <tr>\n      <th>3062</th>\n      <td>3062.0</td>\n      <td>2023-08-06 13:00:00</td>\n      <td>NaN</td>\n      <td>0.3</td>\n      <td>51.12</td>\n      <td>20.037485</td>\n      <td>91</td>\n      <td>4.8484864</td>\n      <td>6.0</td>\n      <td>13.0</td>\n      <td>...</td>\n      <td>0.0</td>\n      <td>1.0</td>\n      <td>0.0</td>\n      <td>0.0</td>\n      <td>0.0</td>\n      <td>0.0</td>\n      <td>1.0</td>\n      <td>0.0</td>\n      <td>22.371907</td>\n      <td>NaN</td>\n    </tr>\n    <tr>\n      <th>3063</th>\n      <td>3063.0</td>\n      <td>2023-08-06 14:00:00</td>\n      <td>NaN</td>\n      <td>0.2</td>\n      <td>58.679996</td>\n      <td>20.275385</td>\n      <td>78</td>\n      <td>12.727271</td>\n      <td>6.0</td>\n      <td>14.0</td>\n      <td>...</td>\n      <td>0.0</td>\n      <td>1.0</td>\n      <td>0.0</td>\n      <td>0.0</td>\n      <td>0.0</td>\n      <td>0.0</td>\n      <td>1.0</td>\n      <td>0.0</td>\n      <td>23.429174</td>\n      <td>NaN</td>\n    </tr>\n    <tr>\n      <th>3064</th>\n      <td>3064.0</td>\n      <td>2023-08-06 15:00:00</td>\n      <td>NaN</td>\n      <td>0.1</td>\n      <td>61.56</td>\n      <td>20.833395</td>\n      <td>71</td>\n      <td>16.969696</td>\n      <td>6.0</td>\n      <td>15.0</td>\n      <td>...</td>\n      <td>0.0</td>\n      <td>1.0</td>\n      <td>0.0</td>\n      <td>0.0</td>\n      <td>0.0</td>\n      <td>0.0</td>\n      <td>1.0</td>\n      <td>0.0</td>\n      <td>24.051611</td>\n      <td>NaN</td>\n    </tr>\n    <tr>\n      <th>3065</th>\n      <td>3065.0</td>\n      <td>2023-08-06 16:00:00</td>\n      <td>NaN</td>\n      <td>0.4</td>\n      <td>60.120003</td>\n      <td>19.70815</td>\n      <td>45</td>\n      <td>32.727272</td>\n      <td>6.0</td>\n      <td>16.0</td>\n      <td>...</td>\n      <td>0.0</td>\n      <td>1.0</td>\n      <td>0.0</td>\n      <td>0.0</td>\n      <td>0.0</td>\n      <td>0.0</td>\n      <td>1.0</td>\n      <td>0.0</td>\n      <td>25.688790</td>\n      <td>NaN</td>\n    </tr>\n    <tr>\n      <th>3066</th>\n      <td>3066.0</td>\n      <td>2023-08-06 17:00:00</td>\n      <td>NaN</td>\n      <td>0.2</td>\n      <td>50.039997</td>\n      <td>17.731598</td>\n      <td>30</td>\n      <td>41.81818</td>\n      <td>6.0</td>\n      <td>17.0</td>\n      <td>...</td>\n      <td>1.0</td>\n      <td>0.0</td>\n      <td>0.0</td>\n      <td>0.0</td>\n      <td>0.0</td>\n      <td>0.0</td>\n      <td>1.0</td>\n      <td>0.0</td>\n      <td>24.369920</td>\n      <td>NaN</td>\n    </tr>\n    <tr>\n      <th>3067</th>\n      <td>3067.0</td>\n      <td>2023-08-06 18:00:00</td>\n      <td>NaN</td>\n      <td>0</td>\n      <td>39.96</td>\n      <td>15.124284</td>\n      <td>41</td>\n      <td>35.151512</td>\n      <td>6.0</td>\n      <td>18.0</td>\n      <td>...</td>\n      <td>1.0</td>\n      <td>0.0</td>\n      <td>0.0</td>\n      <td>0.0</td>\n      <td>0.0</td>\n      <td>0.0</td>\n      <td>1.0</td>\n      <td>0.0</td>\n      <td>23.740221</td>\n      <td>NaN</td>\n    </tr>\n    <tr>\n      <th>3068</th>\n      <td>3068.0</td>\n      <td>2023-08-06 19:00:00</td>\n      <td>NaN</td>\n      <td>0</td>\n      <td>35.28</td>\n      <td>12.429127</td>\n      <td>34</td>\n      <td>39.142258</td>\n      <td>6.0</td>\n      <td>19.0</td>\n      <td>...</td>\n      <td>1.0</td>\n      <td>0.0</td>\n      <td>0.0</td>\n      <td>0.0</td>\n      <td>0.0</td>\n      <td>0.0</td>\n      <td>1.0</td>\n      <td>0.0</td>\n      <td>24.214276</td>\n      <td>NaN</td>\n    </tr>\n    <tr>\n      <th>3069</th>\n      <td>3069.0</td>\n      <td>2023-08-06 20:00:00</td>\n      <td>NaN</td>\n      <td>0</td>\n      <td>30.239998</td>\n      <td>10.30883</td>\n      <td>29</td>\n      <td>0</td>\n      <td>6.0</td>\n      <td>20.0</td>\n      <td>...</td>\n      <td>1.0</td>\n      <td>0.0</td>\n      <td>0.0</td>\n      <td>0.0</td>\n      <td>0.0</td>\n      <td>0.0</td>\n      <td>1.0</td>\n      <td>0.0</td>\n      <td>19.689118</td>\n      <td>NaN</td>\n    </tr>\n    <tr>\n      <th>3070</th>\n      <td>3070.0</td>\n      <td>2023-08-06 21:00:00</td>\n      <td>NaN</td>\n      <td>0</td>\n      <td>25.919998</td>\n      <td>10.1887</td>\n      <td>31</td>\n      <td>0</td>\n      <td>6.0</td>\n      <td>21.0</td>\n      <td>...</td>\n      <td>1.0</td>\n      <td>0.0</td>\n      <td>0.0</td>\n      <td>0.0</td>\n      <td>0.0</td>\n      <td>0.0</td>\n      <td>1.0</td>\n      <td>0.0</td>\n      <td>19.756942</td>\n      <td>NaN</td>\n    </tr>\n    <tr>\n      <th>3071</th>\n      <td>3071.0</td>\n      <td>2023-08-06 22:00:00</td>\n      <td>NaN</td>\n      <td>0</td>\n      <td>25.199999</td>\n      <td>9.511088</td>\n      <td>53</td>\n      <td>0</td>\n      <td>6.0</td>\n      <td>22.0</td>\n      <td>...</td>\n      <td>0.0</td>\n      <td>0.0</td>\n      <td>0.0</td>\n      <td>1.0</td>\n      <td>0.0</td>\n      <td>0.0</td>\n      <td>1.0</td>\n      <td>0.0</td>\n      <td>18.722319</td>\n      <td>NaN</td>\n    </tr>\n    <tr>\n      <th>3072</th>\n      <td>3072.0</td>\n      <td>2023-08-06 23:00:00</td>\n      <td>NaN</td>\n      <td>0</td>\n      <td>26.28</td>\n      <td>10.009036</td>\n      <td>47</td>\n      <td>0</td>\n      <td>6.0</td>\n      <td>23.0</td>\n      <td>...</td>\n      <td>0.0</td>\n      <td>0.0</td>\n      <td>0.0</td>\n      <td>0.0</td>\n      <td>1.0</td>\n      <td>0.0</td>\n      <td>1.0</td>\n      <td>0.0</td>\n      <td>18.643466</td>\n      <td>NaN</td>\n    </tr>\n    <tr>\n      <th>3073</th>\n      <td>3073.0</td>\n      <td>2023-08-07 00:00:00</td>\n      <td>NaN</td>\n      <td>0</td>\n      <td>26.28</td>\n      <td>10.233123</td>\n      <td>56</td>\n      <td>0</td>\n      <td>7.0</td>\n      <td>0.0</td>\n      <td>...</td>\n      <td>0.0</td>\n      <td>0.0</td>\n      <td>0.0</td>\n      <td>0.0</td>\n      <td>1.0</td>\n      <td>0.0</td>\n      <td>1.0</td>\n      <td>0.0</td>\n      <td>16.461779</td>\n      <td>NaN</td>\n    </tr>\n    <tr>\n      <th>3074</th>\n      <td>3074.0</td>\n      <td>2023-08-07 01:00:00</td>\n      <td>NaN</td>\n      <td>0</td>\n      <td>24.84</td>\n      <td>9.885262</td>\n      <td>45</td>\n      <td>0</td>\n      <td>7.0</td>\n      <td>1.0</td>\n      <td>...</td>\n      <td>0.0</td>\n      <td>0.0</td>\n      <td>0.0</td>\n      <td>0.0</td>\n      <td>1.0</td>\n      <td>0.0</td>\n      <td>1.0</td>\n      <td>0.0</td>\n      <td>16.482235</td>\n      <td>NaN</td>\n    </tr>\n    <tr>\n      <th>3075</th>\n      <td>3075.0</td>\n      <td>2023-08-07 02:00:00</td>\n      <td>NaN</td>\n      <td>0</td>\n      <td>23.759998</td>\n      <td>9.585739</td>\n      <td>39</td>\n      <td>0</td>\n      <td>7.0</td>\n      <td>2.0</td>\n      <td>...</td>\n      <td>0.0</td>\n      <td>0.0</td>\n      <td>0.0</td>\n      <td>0.0</td>\n      <td>1.0</td>\n      <td>0.0</td>\n      <td>1.0</td>\n      <td>0.0</td>\n      <td>16.536041</td>\n      <td>NaN</td>\n    </tr>\n    <tr>\n      <th>3076</th>\n      <td>3076.0</td>\n      <td>2023-08-07 03:00:00</td>\n      <td>NaN</td>\n      <td>0</td>\n      <td>21.96</td>\n      <td>8.435069</td>\n      <td>45</td>\n      <td>0</td>\n      <td>7.0</td>\n      <td>3.0</td>\n      <td>...</td>\n      <td>0.0</td>\n      <td>0.0</td>\n      <td>0.0</td>\n      <td>0.0</td>\n      <td>1.0</td>\n      <td>0.0</td>\n      <td>1.0</td>\n      <td>0.0</td>\n      <td>16.653554</td>\n      <td>NaN</td>\n    </tr>\n    <tr>\n      <th>0</th>\n      <td>NaN</td>\n      <td>NaT</td>\n      <td>NaN</td>\n      <td>NaN</td>\n      <td>NaN</td>\n      <td>NaN</td>\n      <td>NaN</td>\n      <td>NaN</td>\n      <td>NaN</td>\n      <td>NaN</td>\n      <td>...</td>\n      <td>0.0</td>\n      <td>0.0</td>\n      <td>0.0</td>\n      <td>0.0</td>\n      <td>1.0</td>\n      <td>1.0</td>\n      <td>0.0</td>\n      <td>0.0</td>\n      <td>13.411746</td>\n      <td>NaN</td>\n    </tr>\n  </tbody>\n</table>\n<p>56 rows × 22 columns</p>\n</div>"
     },
     "execution_count": 67,
     "metadata": {},
     "output_type": "execute_result"
    }
   ],
   "source": [
    "rows_with_missing_temp"
   ],
   "metadata": {
    "collapsed": false,
    "ExecuteTime": {
     "end_time": "2024-04-18T20:17:15.713805300Z",
     "start_time": "2024-04-18T20:17:15.366880800Z"
    }
   },
   "id": "26f917a4f2df3a55",
   "execution_count": 67
  },
  {
   "cell_type": "code",
   "outputs": [
    {
     "data": {
      "text/plain": "      unnamed:_0            datetime temperature precipitation_total  \\\n1            1.0 2023-04-01 00:00:00    8.740245                 0.1   \n2            2.0 2023-04-01 01:00:00    9.040245                 0.2   \n3            3.0 2023-04-01 02:00:00    8.880245                 0.3   \n4            4.0 2023-04-01 03:00:00    8.690246                 0.3   \n5            5.0 2023-04-01 04:00:00    8.630245                 0.3   \n...          ...                 ...         ...                 ...   \n3669      3669.0 2023-08-31 20:00:00   16.630245                   0   \n3670      3670.0 2023-08-31 21:00:00   17.080246                 0.1   \n3671      3671.0 2023-08-31 22:00:00   17.180244                   0   \n3672      3672.0 2023-08-31 23:00:00   17.360245                   0   \n0            NaN                 NaT         NaN                 NaN   \n\n      wind_gust wind_speed cloud_cover_total sunshine_duration   day  hour  \\\n1          48.6  21.638964                90                 0   1.0   0.0   \n2         55.44  22.493519                74                 0   1.0   1.0   \n3          55.8   22.26477                72                 0   1.0   2.0   \n4         55.44   21.94524                77                 0   1.0   3.0   \n5         48.96   22.42427                78                 0   1.0   4.0   \n...         ...        ...               ...               ...   ...   ...   \n3669  11.159999  1.1384199                83                 0  31.0  20.0   \n3670      17.64   3.396233                82                 0  31.0  21.0   \n3671  21.599998  7.2359104                80                 0  31.0  22.0   \n3672      21.24  7.2359104                67                 0  31.0  23.0   \n0           NaN        NaN               NaN               NaN   NaN   NaN   \n\n      ...  hour_category_afternoon  hour_category_evening  \\\n1     ...                      0.0                    0.0   \n2     ...                      0.0                    0.0   \n3     ...                      0.0                    0.0   \n4     ...                      0.0                    0.0   \n5     ...                      0.0                    0.0   \n...   ...                      ...                    ...   \n3669  ...                      1.0                    0.0   \n3670  ...                      1.0                    0.0   \n3671  ...                      0.0                    0.0   \n3672  ...                      NaN                    NaN   \n0     ...                      0.0                    0.0   \n\n      hour_category_morning  hour_category_nan  hour_category_night  \\\n1                       0.0                0.0                  1.0   \n2                       0.0                0.0                  1.0   \n3                       0.0                0.0                  1.0   \n4                       0.0                0.0                  1.0   \n5                       0.0                0.0                  1.0   \n...                     ...                ...                  ...   \n3669                    0.0                0.0                  0.0   \n3670                    0.0                0.0                  0.0   \n3671                    0.0                1.0                  0.0   \n3672                    NaN                NaN                  NaN   \n0                       0.0                0.0                  1.0   \n\n      season_spring  season_summer  season_nan  temperature_predictions  \\\n1               1.0            0.0         0.0                 6.565627   \n2               1.0            0.0         0.0                 6.600581   \n3               1.0            0.0         0.0                 6.651716   \n4               1.0            0.0         0.0                 6.778148   \n5               1.0            0.0         0.0                 6.817776   \n...             ...            ...         ...                      ...   \n3669            0.0            1.0         0.0                21.727081   \n3670            0.0            1.0         0.0                21.847237   \n3671            0.0            1.0         0.0                20.759827   \n3672            0.0            0.0         1.0                18.531996   \n0               1.0            0.0         0.0                13.411746   \n\n      temperature_interpolated  \n1                     8.740245  \n2                     9.040245  \n3                     8.880245  \n4                     8.690246  \n5                     8.630245  \n...                        ...  \n3669                 16.630245  \n3670                 17.080246  \n3671                 17.180244  \n3672                 17.360245  \n0                          NaN  \n\n[3673 rows x 22 columns]",
      "text/html": "<div>\n<style scoped>\n    .dataframe tbody tr th:only-of-type {\n        vertical-align: middle;\n    }\n\n    .dataframe tbody tr th {\n        vertical-align: top;\n    }\n\n    .dataframe thead th {\n        text-align: right;\n    }\n</style>\n<table border=\"1\" class=\"dataframe\">\n  <thead>\n    <tr style=\"text-align: right;\">\n      <th></th>\n      <th>unnamed:_0</th>\n      <th>datetime</th>\n      <th>temperature</th>\n      <th>precipitation_total</th>\n      <th>wind_gust</th>\n      <th>wind_speed</th>\n      <th>cloud_cover_total</th>\n      <th>sunshine_duration</th>\n      <th>day</th>\n      <th>hour</th>\n      <th>...</th>\n      <th>hour_category_afternoon</th>\n      <th>hour_category_evening</th>\n      <th>hour_category_morning</th>\n      <th>hour_category_nan</th>\n      <th>hour_category_night</th>\n      <th>season_spring</th>\n      <th>season_summer</th>\n      <th>season_nan</th>\n      <th>temperature_predictions</th>\n      <th>temperature_interpolated</th>\n    </tr>\n  </thead>\n  <tbody>\n    <tr>\n      <th>1</th>\n      <td>1.0</td>\n      <td>2023-04-01 00:00:00</td>\n      <td>8.740245</td>\n      <td>0.1</td>\n      <td>48.6</td>\n      <td>21.638964</td>\n      <td>90</td>\n      <td>0</td>\n      <td>1.0</td>\n      <td>0.0</td>\n      <td>...</td>\n      <td>0.0</td>\n      <td>0.0</td>\n      <td>0.0</td>\n      <td>0.0</td>\n      <td>1.0</td>\n      <td>1.0</td>\n      <td>0.0</td>\n      <td>0.0</td>\n      <td>6.565627</td>\n      <td>8.740245</td>\n    </tr>\n    <tr>\n      <th>2</th>\n      <td>2.0</td>\n      <td>2023-04-01 01:00:00</td>\n      <td>9.040245</td>\n      <td>0.2</td>\n      <td>55.44</td>\n      <td>22.493519</td>\n      <td>74</td>\n      <td>0</td>\n      <td>1.0</td>\n      <td>1.0</td>\n      <td>...</td>\n      <td>0.0</td>\n      <td>0.0</td>\n      <td>0.0</td>\n      <td>0.0</td>\n      <td>1.0</td>\n      <td>1.0</td>\n      <td>0.0</td>\n      <td>0.0</td>\n      <td>6.600581</td>\n      <td>9.040245</td>\n    </tr>\n    <tr>\n      <th>3</th>\n      <td>3.0</td>\n      <td>2023-04-01 02:00:00</td>\n      <td>8.880245</td>\n      <td>0.3</td>\n      <td>55.8</td>\n      <td>22.26477</td>\n      <td>72</td>\n      <td>0</td>\n      <td>1.0</td>\n      <td>2.0</td>\n      <td>...</td>\n      <td>0.0</td>\n      <td>0.0</td>\n      <td>0.0</td>\n      <td>0.0</td>\n      <td>1.0</td>\n      <td>1.0</td>\n      <td>0.0</td>\n      <td>0.0</td>\n      <td>6.651716</td>\n      <td>8.880245</td>\n    </tr>\n    <tr>\n      <th>4</th>\n      <td>4.0</td>\n      <td>2023-04-01 03:00:00</td>\n      <td>8.690246</td>\n      <td>0.3</td>\n      <td>55.44</td>\n      <td>21.94524</td>\n      <td>77</td>\n      <td>0</td>\n      <td>1.0</td>\n      <td>3.0</td>\n      <td>...</td>\n      <td>0.0</td>\n      <td>0.0</td>\n      <td>0.0</td>\n      <td>0.0</td>\n      <td>1.0</td>\n      <td>1.0</td>\n      <td>0.0</td>\n      <td>0.0</td>\n      <td>6.778148</td>\n      <td>8.690246</td>\n    </tr>\n    <tr>\n      <th>5</th>\n      <td>5.0</td>\n      <td>2023-04-01 04:00:00</td>\n      <td>8.630245</td>\n      <td>0.3</td>\n      <td>48.96</td>\n      <td>22.42427</td>\n      <td>78</td>\n      <td>0</td>\n      <td>1.0</td>\n      <td>4.0</td>\n      <td>...</td>\n      <td>0.0</td>\n      <td>0.0</td>\n      <td>0.0</td>\n      <td>0.0</td>\n      <td>1.0</td>\n      <td>1.0</td>\n      <td>0.0</td>\n      <td>0.0</td>\n      <td>6.817776</td>\n      <td>8.630245</td>\n    </tr>\n    <tr>\n      <th>...</th>\n      <td>...</td>\n      <td>...</td>\n      <td>...</td>\n      <td>...</td>\n      <td>...</td>\n      <td>...</td>\n      <td>...</td>\n      <td>...</td>\n      <td>...</td>\n      <td>...</td>\n      <td>...</td>\n      <td>...</td>\n      <td>...</td>\n      <td>...</td>\n      <td>...</td>\n      <td>...</td>\n      <td>...</td>\n      <td>...</td>\n      <td>...</td>\n      <td>...</td>\n      <td>...</td>\n    </tr>\n    <tr>\n      <th>3669</th>\n      <td>3669.0</td>\n      <td>2023-08-31 20:00:00</td>\n      <td>16.630245</td>\n      <td>0</td>\n      <td>11.159999</td>\n      <td>1.1384199</td>\n      <td>83</td>\n      <td>0</td>\n      <td>31.0</td>\n      <td>20.0</td>\n      <td>...</td>\n      <td>1.0</td>\n      <td>0.0</td>\n      <td>0.0</td>\n      <td>0.0</td>\n      <td>0.0</td>\n      <td>0.0</td>\n      <td>1.0</td>\n      <td>0.0</td>\n      <td>21.727081</td>\n      <td>16.630245</td>\n    </tr>\n    <tr>\n      <th>3670</th>\n      <td>3670.0</td>\n      <td>2023-08-31 21:00:00</td>\n      <td>17.080246</td>\n      <td>0.1</td>\n      <td>17.64</td>\n      <td>3.396233</td>\n      <td>82</td>\n      <td>0</td>\n      <td>31.0</td>\n      <td>21.0</td>\n      <td>...</td>\n      <td>1.0</td>\n      <td>0.0</td>\n      <td>0.0</td>\n      <td>0.0</td>\n      <td>0.0</td>\n      <td>0.0</td>\n      <td>1.0</td>\n      <td>0.0</td>\n      <td>21.847237</td>\n      <td>17.080246</td>\n    </tr>\n    <tr>\n      <th>3671</th>\n      <td>3671.0</td>\n      <td>2023-08-31 22:00:00</td>\n      <td>17.180244</td>\n      <td>0</td>\n      <td>21.599998</td>\n      <td>7.2359104</td>\n      <td>80</td>\n      <td>0</td>\n      <td>31.0</td>\n      <td>22.0</td>\n      <td>...</td>\n      <td>0.0</td>\n      <td>0.0</td>\n      <td>0.0</td>\n      <td>1.0</td>\n      <td>0.0</td>\n      <td>0.0</td>\n      <td>1.0</td>\n      <td>0.0</td>\n      <td>20.759827</td>\n      <td>17.180244</td>\n    </tr>\n    <tr>\n      <th>3672</th>\n      <td>3672.0</td>\n      <td>2023-08-31 23:00:00</td>\n      <td>17.360245</td>\n      <td>0</td>\n      <td>21.24</td>\n      <td>7.2359104</td>\n      <td>67</td>\n      <td>0</td>\n      <td>31.0</td>\n      <td>23.0</td>\n      <td>...</td>\n      <td>NaN</td>\n      <td>NaN</td>\n      <td>NaN</td>\n      <td>NaN</td>\n      <td>NaN</td>\n      <td>0.0</td>\n      <td>0.0</td>\n      <td>1.0</td>\n      <td>18.531996</td>\n      <td>17.360245</td>\n    </tr>\n    <tr>\n      <th>0</th>\n      <td>NaN</td>\n      <td>NaT</td>\n      <td>NaN</td>\n      <td>NaN</td>\n      <td>NaN</td>\n      <td>NaN</td>\n      <td>NaN</td>\n      <td>NaN</td>\n      <td>NaN</td>\n      <td>NaN</td>\n      <td>...</td>\n      <td>0.0</td>\n      <td>0.0</td>\n      <td>0.0</td>\n      <td>0.0</td>\n      <td>1.0</td>\n      <td>1.0</td>\n      <td>0.0</td>\n      <td>0.0</td>\n      <td>13.411746</td>\n      <td>NaN</td>\n    </tr>\n  </tbody>\n</table>\n<p>3673 rows × 22 columns</p>\n</div>"
     },
     "execution_count": 68,
     "metadata": {},
     "output_type": "execute_result"
    }
   ],
   "source": [
    "wt1"
   ],
   "metadata": {
    "collapsed": false,
    "ExecuteTime": {
     "end_time": "2024-04-18T20:17:15.859188700Z",
     "start_time": "2024-04-18T20:17:15.586471500Z"
    }
   },
   "id": "d1499c673d2d39ff",
   "execution_count": 68
  },
  {
   "cell_type": "code",
   "outputs": [
    {
     "data": {
      "text/plain": "Empty DataFrame\nColumns: [unnamed:_0, datetime, temperature, precipitation_total, wind_gust, wind_speed, cloud_cover_total, sunshine_duration, day, hour, month, hour_total, hour_category_afternoon, hour_category_evening, hour_category_morning, hour_category_nan, hour_category_night, season_spring, season_summer, season_nan, temperature_predictions, temperature_interpolated]\nIndex: []\n\n[0 rows x 22 columns]",
      "text/html": "<div>\n<style scoped>\n    .dataframe tbody tr th:only-of-type {\n        vertical-align: middle;\n    }\n\n    .dataframe tbody tr th {\n        vertical-align: top;\n    }\n\n    .dataframe thead th {\n        text-align: right;\n    }\n</style>\n<table border=\"1\" class=\"dataframe\">\n  <thead>\n    <tr style=\"text-align: right;\">\n      <th></th>\n      <th>unnamed:_0</th>\n      <th>datetime</th>\n      <th>temperature</th>\n      <th>precipitation_total</th>\n      <th>wind_gust</th>\n      <th>wind_speed</th>\n      <th>cloud_cover_total</th>\n      <th>sunshine_duration</th>\n      <th>day</th>\n      <th>hour</th>\n      <th>...</th>\n      <th>hour_category_afternoon</th>\n      <th>hour_category_evening</th>\n      <th>hour_category_morning</th>\n      <th>hour_category_nan</th>\n      <th>hour_category_night</th>\n      <th>season_spring</th>\n      <th>season_summer</th>\n      <th>season_nan</th>\n      <th>temperature_predictions</th>\n      <th>temperature_interpolated</th>\n    </tr>\n  </thead>\n  <tbody>\n  </tbody>\n</table>\n<p>0 rows × 22 columns</p>\n</div>"
     },
     "execution_count": 69,
     "metadata": {},
     "output_type": "execute_result"
    }
   ],
   "source": [
    "wt1[wt1.temperature_predictions.isnull()]"
   ],
   "metadata": {
    "collapsed": false,
    "ExecuteTime": {
     "end_time": "2024-04-18T20:17:15.935387900Z",
     "start_time": "2024-04-18T20:17:15.737865500Z"
    }
   },
   "id": "a74f18c03703a463",
   "execution_count": 69
  },
  {
   "cell_type": "code",
   "outputs": [],
   "source": [
    "wt1.to_csv('kpolyakov.spb.csv')"
   ],
   "metadata": {
    "collapsed": false,
    "ExecuteTime": {
     "end_time": "2024-04-18T20:17:16.248219400Z",
     "start_time": "2024-04-18T20:17:15.921353800Z"
    }
   },
   "id": "29174f5e83dcf699",
   "execution_count": 70
  },
  {
   "cell_type": "code",
   "outputs": [],
   "source": [],
   "metadata": {
    "collapsed": false,
    "ExecuteTime": {
     "end_time": "2024-04-18T20:17:16.448969100Z",
     "start_time": "2024-04-18T20:17:16.158984300Z"
    }
   },
   "id": "6c8f2c6d7784a9df",
   "execution_count": 70
  }
 ],
 "metadata": {
  "kernelspec": {
   "display_name": "Python 3",
   "language": "python",
   "name": "python3"
  },
  "language_info": {
   "codemirror_mode": {
    "name": "ipython",
    "version": 2
   },
   "file_extension": ".py",
   "mimetype": "text/x-python",
   "name": "python",
   "nbconvert_exporter": "python",
   "pygments_lexer": "ipython2",
   "version": "2.7.6"
  }
 },
 "nbformat": 4,
 "nbformat_minor": 5
}
