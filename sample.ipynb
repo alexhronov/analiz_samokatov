{
 "cells": [
  {
   "cell_type": "code",
   "execution_count": 5,
   "id": "initial_id",
   "metadata": {
    "collapsed": true,
    "ExecuteTime": {
     "end_time": "2024-04-04T17:50:20.765473Z",
     "start_time": "2024-04-04T17:50:18.852592Z"
    }
   },
   "outputs": [],
   "source": [
    "import pandas as pd\n",
    "import datetime as dt\n",
    "\n",
    "rd = pd.read_csv('rides.csv', sep=',', skipinitialspace=True)\n",
    "wt = pd.read_csv('weather.csv', sep=',', skipinitialspace=True)"
   ]
  },
  {
   "cell_type": "code",
   "outputs": [
    {
     "data": {
      "text/plain": "            Id           Start Date             End Date Start Location  \\\n0       100340  2023-04-22 09:01:03  2023-04-22 09:24:45       Шевченко   \n1       100341  2023-04-22 09:01:07  2023-04-22 09:29:32         Чехова   \n2       100342  2023-04-22 09:04:27  2023-04-22 09:42:46      Буденного   \n3       100343  2023-04-22 09:06:34  2023-04-22 09:38:23          Труда   \n4       100344  2023-04-22 09:09:27  2023-04-22 09:40:07   Первомайская   \n...        ...                  ...                  ...            ...   \n102250  197707  2023-07-31 23:45:06  2023-08-01 00:06:55        Озерная   \n102251  197708  2023-07-31 23:46:01  2023-08-01 00:25:35       Мичурина   \n102252  197709  2023-07-31 23:48:04  2023-08-01 00:09:21     Лермонтова   \n102253  197710  2023-07-31 23:51:41  2023-08-01 00:38:04      Рябиновая   \n102254  197711  2023-07-31 23:57:01  2023-08-01 00:19:03     Молодежная   \n\n         Start District  End Location     End District  Distance  Promo  \n0         Юго-Восточный       Майская      Октябрьский    4069.0      0  \n1              заречный    Спортивная      октябрьский    4515.0      0  \n2           Октябрьский      Суворова        ленинский    4520.0      0  \n3           Центральный       Рабочая  Северо-Западный    3881.0      0  \n4       Северо-Западный     Юбилейная    Юго-Восточный    4029.0      0  \n...                 ...           ...              ...       ...    ...  \n102250    Юго-Восточный  Первомайская  Северо-Западный    3302.0      0  \n102251        Ленинский       Садовая         Заречный    4992.0      0  \n102252        ленинский     Куйбышева      Центральный    2781.0      0  \n102253  Северо-Западный   Энергетиков    Юго-Восточный    6466.0      0  \n102254    Юго-Восточный   Маяковского      Центральный    3561.0      0  \n\n[102255 rows x 9 columns]",
      "text/html": "<div>\n<style scoped>\n    .dataframe tbody tr th:only-of-type {\n        vertical-align: middle;\n    }\n\n    .dataframe tbody tr th {\n        vertical-align: top;\n    }\n\n    .dataframe thead th {\n        text-align: right;\n    }\n</style>\n<table border=\"1\" class=\"dataframe\">\n  <thead>\n    <tr style=\"text-align: right;\">\n      <th></th>\n      <th>Id</th>\n      <th>Start Date</th>\n      <th>End Date</th>\n      <th>Start Location</th>\n      <th>Start District</th>\n      <th>End Location</th>\n      <th>End District</th>\n      <th>Distance</th>\n      <th>Promo</th>\n    </tr>\n  </thead>\n  <tbody>\n    <tr>\n      <th>0</th>\n      <td>100340</td>\n      <td>2023-04-22 09:01:03</td>\n      <td>2023-04-22 09:24:45</td>\n      <td>Шевченко</td>\n      <td>Юго-Восточный</td>\n      <td>Майская</td>\n      <td>Октябрьский</td>\n      <td>4069.0</td>\n      <td>0</td>\n    </tr>\n    <tr>\n      <th>1</th>\n      <td>100341</td>\n      <td>2023-04-22 09:01:07</td>\n      <td>2023-04-22 09:29:32</td>\n      <td>Чехова</td>\n      <td>заречный</td>\n      <td>Спортивная</td>\n      <td>октябрьский</td>\n      <td>4515.0</td>\n      <td>0</td>\n    </tr>\n    <tr>\n      <th>2</th>\n      <td>100342</td>\n      <td>2023-04-22 09:04:27</td>\n      <td>2023-04-22 09:42:46</td>\n      <td>Буденного</td>\n      <td>Октябрьский</td>\n      <td>Суворова</td>\n      <td>ленинский</td>\n      <td>4520.0</td>\n      <td>0</td>\n    </tr>\n    <tr>\n      <th>3</th>\n      <td>100343</td>\n      <td>2023-04-22 09:06:34</td>\n      <td>2023-04-22 09:38:23</td>\n      <td>Труда</td>\n      <td>Центральный</td>\n      <td>Рабочая</td>\n      <td>Северо-Западный</td>\n      <td>3881.0</td>\n      <td>0</td>\n    </tr>\n    <tr>\n      <th>4</th>\n      <td>100344</td>\n      <td>2023-04-22 09:09:27</td>\n      <td>2023-04-22 09:40:07</td>\n      <td>Первомайская</td>\n      <td>Северо-Западный</td>\n      <td>Юбилейная</td>\n      <td>Юго-Восточный</td>\n      <td>4029.0</td>\n      <td>0</td>\n    </tr>\n    <tr>\n      <th>...</th>\n      <td>...</td>\n      <td>...</td>\n      <td>...</td>\n      <td>...</td>\n      <td>...</td>\n      <td>...</td>\n      <td>...</td>\n      <td>...</td>\n      <td>...</td>\n    </tr>\n    <tr>\n      <th>102250</th>\n      <td>197707</td>\n      <td>2023-07-31 23:45:06</td>\n      <td>2023-08-01 00:06:55</td>\n      <td>Озерная</td>\n      <td>Юго-Восточный</td>\n      <td>Первомайская</td>\n      <td>Северо-Западный</td>\n      <td>3302.0</td>\n      <td>0</td>\n    </tr>\n    <tr>\n      <th>102251</th>\n      <td>197708</td>\n      <td>2023-07-31 23:46:01</td>\n      <td>2023-08-01 00:25:35</td>\n      <td>Мичурина</td>\n      <td>Ленинский</td>\n      <td>Садовая</td>\n      <td>Заречный</td>\n      <td>4992.0</td>\n      <td>0</td>\n    </tr>\n    <tr>\n      <th>102252</th>\n      <td>197709</td>\n      <td>2023-07-31 23:48:04</td>\n      <td>2023-08-01 00:09:21</td>\n      <td>Лермонтова</td>\n      <td>ленинский</td>\n      <td>Куйбышева</td>\n      <td>Центральный</td>\n      <td>2781.0</td>\n      <td>0</td>\n    </tr>\n    <tr>\n      <th>102253</th>\n      <td>197710</td>\n      <td>2023-07-31 23:51:41</td>\n      <td>2023-08-01 00:38:04</td>\n      <td>Рябиновая</td>\n      <td>Северо-Западный</td>\n      <td>Энергетиков</td>\n      <td>Юго-Восточный</td>\n      <td>6466.0</td>\n      <td>0</td>\n    </tr>\n    <tr>\n      <th>102254</th>\n      <td>197711</td>\n      <td>2023-07-31 23:57:01</td>\n      <td>2023-08-01 00:19:03</td>\n      <td>Молодежная</td>\n      <td>Юго-Восточный</td>\n      <td>Маяковского</td>\n      <td>Центральный</td>\n      <td>3561.0</td>\n      <td>0</td>\n    </tr>\n  </tbody>\n</table>\n<p>102255 rows × 9 columns</p>\n</div>"
     },
     "execution_count": 6,
     "metadata": {},
     "output_type": "execute_result"
    }
   ],
   "source": [
    "rd"
   ],
   "metadata": {
    "collapsed": false,
    "ExecuteTime": {
     "end_time": "2024-04-04T17:50:22.136360Z",
     "start_time": "2024-04-04T17:50:22.055170Z"
    }
   },
   "id": "ce2af55ac730ac9c",
   "execution_count": 6
  },
  {
   "cell_type": "code",
   "outputs": [
    {
     "ename": "NameError",
     "evalue": "name 'wt' is not defined",
     "output_type": "error",
     "traceback": [
      "\u001B[1;31m---------------------------------------------------------------------------\u001B[0m",
      "\u001B[1;31mNameError\u001B[0m                                 Traceback (most recent call last)",
      "Cell \u001B[1;32mIn[2], line 1\u001B[0m\n\u001B[1;32m----> 1\u001B[0m \u001B[43mwt\u001B[49m\n",
      "\u001B[1;31mNameError\u001B[0m: name 'wt' is not defined"
     ]
    }
   ],
   "source": [],
   "metadata": {
    "collapsed": false,
    "ExecuteTime": {
     "end_time": "2024-04-04T17:49:59.794631Z",
     "start_time": "2024-04-04T17:49:59.739349Z"
    }
   },
   "id": "d97f5b4b0a7bda03",
   "execution_count": 2
  },
  {
   "cell_type": "code",
   "outputs": [],
   "source": [],
   "metadata": {
    "collapsed": false
   },
   "id": "75a66611c23000d9"
  }
 ],
 "metadata": {
  "kernelspec": {
   "display_name": "Python 3",
   "language": "python",
   "name": "python3"
  },
  "language_info": {
   "codemirror_mode": {
    "name": "ipython",
    "version": 2
   },
   "file_extension": ".py",
   "mimetype": "text/x-python",
   "name": "python",
   "nbconvert_exporter": "python",
   "pygments_lexer": "ipython2",
   "version": "2.7.6"
  }
 },
 "nbformat": 4,
 "nbformat_minor": 5
}
