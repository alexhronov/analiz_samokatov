{
 "cells": [
  {
   "cell_type": "code",
   "execution_count": 21,
   "id": "initial_id",
   "metadata": {
    "collapsed": true,
    "ExecuteTime": {
     "end_time": "2024-04-04T18:46:48.102684Z",
     "start_time": "2024-04-04T18:46:41.127817Z"
    }
   },
   "outputs": [],
   "source": [
    "import pandas as pd\n",
    "import datetime as dt\n",
    "\n",
    "rd = pd.read_csv('rides.csv', sep=',', skipinitialspace=True)\n",
    "wt = pd.read_csv('weather.csv', sep=',', skipinitialspace=True)\n",
    "rd.columns = [i.lower().replace(' ', '_') for i in rd.columns]\n",
    "wt.columns = [i.lower().replace(' ', '_') for i in wt.columns]\n",
    "rd.end_date = rd.end_date.astype(str).apply(lambda x: dt.datetime.strptime(x, '%Y-%m-%d %H:%M:%S') if len(x) == 19 else pd.NA)\n",
    "rd.start_date = rd.start_date.astype(str).apply(lambda x: dt.datetime.strptime(x, '%Y-%m-%d %H:%M:%S') if len(x) == 19 else pd.NA)\n",
    "wt.datetime = wt.datetime.astype(str).apply(lambda x: dt.datetime.strptime(x, '%Y-%m-%dT%H:%M:%S') if len(x) == 19 else pd.NA)"
   ]
  },
  {
   "cell_type": "code",
   "outputs": [
    {
     "data": {
      "text/plain": "            id          start_date             end_date start_location  \\\n0       100340 2023-04-22 09:01:03  2023-04-22 09:24:45       Шевченко   \n1       100341 2023-04-22 09:01:07  2023-04-22 09:29:32         Чехова   \n2       100342 2023-04-22 09:04:27  2023-04-22 09:42:46      Буденного   \n3       100343 2023-04-22 09:06:34  2023-04-22 09:38:23          Труда   \n4       100344 2023-04-22 09:09:27  2023-04-22 09:40:07   Первомайская   \n...        ...                 ...                  ...            ...   \n102250  197707 2023-07-31 23:45:06  2023-08-01 00:06:55        Озерная   \n102251  197708 2023-07-31 23:46:01  2023-08-01 00:25:35       Мичурина   \n102252  197709 2023-07-31 23:48:04  2023-08-01 00:09:21     Лермонтова   \n102253  197710 2023-07-31 23:51:41  2023-08-01 00:38:04      Рябиновая   \n102254  197711 2023-07-31 23:57:01  2023-08-01 00:19:03     Молодежная   \n\n         start_district  end_location     end_district  distance  promo  \n0         Юго-Восточный       Майская      Октябрьский    4069.0      0  \n1              заречный    Спортивная      октябрьский    4515.0      0  \n2           Октябрьский      Суворова        ленинский    4520.0      0  \n3           Центральный       Рабочая  Северо-Западный    3881.0      0  \n4       Северо-Западный     Юбилейная    Юго-Восточный    4029.0      0  \n...                 ...           ...              ...       ...    ...  \n102250    Юго-Восточный  Первомайская  Северо-Западный    3302.0      0  \n102251        Ленинский       Садовая         Заречный    4992.0      0  \n102252        ленинский     Куйбышева      Центральный    2781.0      0  \n102253  Северо-Западный   Энергетиков    Юго-Восточный    6466.0      0  \n102254    Юго-Восточный   Маяковского      Центральный    3561.0      0  \n\n[102255 rows x 9 columns]",
      "text/html": "<div>\n<style scoped>\n    .dataframe tbody tr th:only-of-type {\n        vertical-align: middle;\n    }\n\n    .dataframe tbody tr th {\n        vertical-align: top;\n    }\n\n    .dataframe thead th {\n        text-align: right;\n    }\n</style>\n<table border=\"1\" class=\"dataframe\">\n  <thead>\n    <tr style=\"text-align: right;\">\n      <th></th>\n      <th>id</th>\n      <th>start_date</th>\n      <th>end_date</th>\n      <th>start_location</th>\n      <th>start_district</th>\n      <th>end_location</th>\n      <th>end_district</th>\n      <th>distance</th>\n      <th>promo</th>\n    </tr>\n  </thead>\n  <tbody>\n    <tr>\n      <th>0</th>\n      <td>100340</td>\n      <td>2023-04-22 09:01:03</td>\n      <td>2023-04-22 09:24:45</td>\n      <td>Шевченко</td>\n      <td>Юго-Восточный</td>\n      <td>Майская</td>\n      <td>Октябрьский</td>\n      <td>4069.0</td>\n      <td>0</td>\n    </tr>\n    <tr>\n      <th>1</th>\n      <td>100341</td>\n      <td>2023-04-22 09:01:07</td>\n      <td>2023-04-22 09:29:32</td>\n      <td>Чехова</td>\n      <td>заречный</td>\n      <td>Спортивная</td>\n      <td>октябрьский</td>\n      <td>4515.0</td>\n      <td>0</td>\n    </tr>\n    <tr>\n      <th>2</th>\n      <td>100342</td>\n      <td>2023-04-22 09:04:27</td>\n      <td>2023-04-22 09:42:46</td>\n      <td>Буденного</td>\n      <td>Октябрьский</td>\n      <td>Суворова</td>\n      <td>ленинский</td>\n      <td>4520.0</td>\n      <td>0</td>\n    </tr>\n    <tr>\n      <th>3</th>\n      <td>100343</td>\n      <td>2023-04-22 09:06:34</td>\n      <td>2023-04-22 09:38:23</td>\n      <td>Труда</td>\n      <td>Центральный</td>\n      <td>Рабочая</td>\n      <td>Северо-Западный</td>\n      <td>3881.0</td>\n      <td>0</td>\n    </tr>\n    <tr>\n      <th>4</th>\n      <td>100344</td>\n      <td>2023-04-22 09:09:27</td>\n      <td>2023-04-22 09:40:07</td>\n      <td>Первомайская</td>\n      <td>Северо-Западный</td>\n      <td>Юбилейная</td>\n      <td>Юго-Восточный</td>\n      <td>4029.0</td>\n      <td>0</td>\n    </tr>\n    <tr>\n      <th>...</th>\n      <td>...</td>\n      <td>...</td>\n      <td>...</td>\n      <td>...</td>\n      <td>...</td>\n      <td>...</td>\n      <td>...</td>\n      <td>...</td>\n      <td>...</td>\n    </tr>\n    <tr>\n      <th>102250</th>\n      <td>197707</td>\n      <td>2023-07-31 23:45:06</td>\n      <td>2023-08-01 00:06:55</td>\n      <td>Озерная</td>\n      <td>Юго-Восточный</td>\n      <td>Первомайская</td>\n      <td>Северо-Западный</td>\n      <td>3302.0</td>\n      <td>0</td>\n    </tr>\n    <tr>\n      <th>102251</th>\n      <td>197708</td>\n      <td>2023-07-31 23:46:01</td>\n      <td>2023-08-01 00:25:35</td>\n      <td>Мичурина</td>\n      <td>Ленинский</td>\n      <td>Садовая</td>\n      <td>Заречный</td>\n      <td>4992.0</td>\n      <td>0</td>\n    </tr>\n    <tr>\n      <th>102252</th>\n      <td>197709</td>\n      <td>2023-07-31 23:48:04</td>\n      <td>2023-08-01 00:09:21</td>\n      <td>Лермонтова</td>\n      <td>ленинский</td>\n      <td>Куйбышева</td>\n      <td>Центральный</td>\n      <td>2781.0</td>\n      <td>0</td>\n    </tr>\n    <tr>\n      <th>102253</th>\n      <td>197710</td>\n      <td>2023-07-31 23:51:41</td>\n      <td>2023-08-01 00:38:04</td>\n      <td>Рябиновая</td>\n      <td>Северо-Западный</td>\n      <td>Энергетиков</td>\n      <td>Юго-Восточный</td>\n      <td>6466.0</td>\n      <td>0</td>\n    </tr>\n    <tr>\n      <th>102254</th>\n      <td>197711</td>\n      <td>2023-07-31 23:57:01</td>\n      <td>2023-08-01 00:19:03</td>\n      <td>Молодежная</td>\n      <td>Юго-Восточный</td>\n      <td>Маяковского</td>\n      <td>Центральный</td>\n      <td>3561.0</td>\n      <td>0</td>\n    </tr>\n  </tbody>\n</table>\n<p>102255 rows × 9 columns</p>\n</div>"
     },
     "execution_count": 19,
     "metadata": {},
     "output_type": "execute_result"
    }
   ],
   "source": [
    "rd"
   ],
   "metadata": {
    "collapsed": false,
    "ExecuteTime": {
     "end_time": "2024-04-04T18:44:26.668815Z",
     "start_time": "2024-04-04T18:44:26.626820Z"
    }
   },
   "id": "ce2af55ac730ac9c",
   "execution_count": 19
  },
  {
   "cell_type": "code",
   "outputs": [
    {
     "data": {
      "text/plain": "                 datetime temperature precipitation_total  wind_gust  \\\n0                    <NA>          °C                  mm       km/h   \n1     2023-04-01 00:00:00    8.740245                 0.1       48.6   \n2     2023-04-01 01:00:00    9.040245                 0.2      55.44   \n3     2023-04-01 02:00:00    8.880245                 0.3       55.8   \n4     2023-04-01 03:00:00    8.690246                 0.3      55.44   \n...                   ...         ...                 ...        ...   \n3668  2023-08-31 19:00:00   16.940245                   0  10.799999   \n3669  2023-08-31 20:00:00   16.630245                   0  11.159999   \n3670  2023-08-31 21:00:00   17.080246                 0.1      17.64   \n3671  2023-08-31 22:00:00   17.180244                   0  21.599998   \n3672  2023-08-31 23:00:00   17.360245                   0      21.24   \n\n     wind_speed cloud_cover_total sunshine_duration  \n0          km/h                 %               min  \n1     21.638964                90                 0  \n2     22.493519                74                 0  \n3      22.26477                72                 0  \n4      21.94524                77                 0  \n...         ...               ...               ...  \n3668       1.08                89         1.4999998  \n3669  1.1384199                83                 0  \n3670   3.396233                82                 0  \n3671  7.2359104                80                 0  \n3672  7.2359104                67                 0  \n\n[3673 rows x 7 columns]",
      "text/html": "<div>\n<style scoped>\n    .dataframe tbody tr th:only-of-type {\n        vertical-align: middle;\n    }\n\n    .dataframe tbody tr th {\n        vertical-align: top;\n    }\n\n    .dataframe thead th {\n        text-align: right;\n    }\n</style>\n<table border=\"1\" class=\"dataframe\">\n  <thead>\n    <tr style=\"text-align: right;\">\n      <th></th>\n      <th>datetime</th>\n      <th>temperature</th>\n      <th>precipitation_total</th>\n      <th>wind_gust</th>\n      <th>wind_speed</th>\n      <th>cloud_cover_total</th>\n      <th>sunshine_duration</th>\n    </tr>\n  </thead>\n  <tbody>\n    <tr>\n      <th>0</th>\n      <td>&lt;NA&gt;</td>\n      <td>°C</td>\n      <td>mm</td>\n      <td>km/h</td>\n      <td>km/h</td>\n      <td>%</td>\n      <td>min</td>\n    </tr>\n    <tr>\n      <th>1</th>\n      <td>2023-04-01 00:00:00</td>\n      <td>8.740245</td>\n      <td>0.1</td>\n      <td>48.6</td>\n      <td>21.638964</td>\n      <td>90</td>\n      <td>0</td>\n    </tr>\n    <tr>\n      <th>2</th>\n      <td>2023-04-01 01:00:00</td>\n      <td>9.040245</td>\n      <td>0.2</td>\n      <td>55.44</td>\n      <td>22.493519</td>\n      <td>74</td>\n      <td>0</td>\n    </tr>\n    <tr>\n      <th>3</th>\n      <td>2023-04-01 02:00:00</td>\n      <td>8.880245</td>\n      <td>0.3</td>\n      <td>55.8</td>\n      <td>22.26477</td>\n      <td>72</td>\n      <td>0</td>\n    </tr>\n    <tr>\n      <th>4</th>\n      <td>2023-04-01 03:00:00</td>\n      <td>8.690246</td>\n      <td>0.3</td>\n      <td>55.44</td>\n      <td>21.94524</td>\n      <td>77</td>\n      <td>0</td>\n    </tr>\n    <tr>\n      <th>...</th>\n      <td>...</td>\n      <td>...</td>\n      <td>...</td>\n      <td>...</td>\n      <td>...</td>\n      <td>...</td>\n      <td>...</td>\n    </tr>\n    <tr>\n      <th>3668</th>\n      <td>2023-08-31 19:00:00</td>\n      <td>16.940245</td>\n      <td>0</td>\n      <td>10.799999</td>\n      <td>1.08</td>\n      <td>89</td>\n      <td>1.4999998</td>\n    </tr>\n    <tr>\n      <th>3669</th>\n      <td>2023-08-31 20:00:00</td>\n      <td>16.630245</td>\n      <td>0</td>\n      <td>11.159999</td>\n      <td>1.1384199</td>\n      <td>83</td>\n      <td>0</td>\n    </tr>\n    <tr>\n      <th>3670</th>\n      <td>2023-08-31 21:00:00</td>\n      <td>17.080246</td>\n      <td>0.1</td>\n      <td>17.64</td>\n      <td>3.396233</td>\n      <td>82</td>\n      <td>0</td>\n    </tr>\n    <tr>\n      <th>3671</th>\n      <td>2023-08-31 22:00:00</td>\n      <td>17.180244</td>\n      <td>0</td>\n      <td>21.599998</td>\n      <td>7.2359104</td>\n      <td>80</td>\n      <td>0</td>\n    </tr>\n    <tr>\n      <th>3672</th>\n      <td>2023-08-31 23:00:00</td>\n      <td>17.360245</td>\n      <td>0</td>\n      <td>21.24</td>\n      <td>7.2359104</td>\n      <td>67</td>\n      <td>0</td>\n    </tr>\n  </tbody>\n</table>\n<p>3673 rows × 7 columns</p>\n</div>"
     },
     "execution_count": 20,
     "metadata": {},
     "output_type": "execute_result"
    }
   ],
   "source": [
    "wt"
   ],
   "metadata": {
    "collapsed": false,
    "ExecuteTime": {
     "end_time": "2024-04-04T18:44:30.045092Z",
     "start_time": "2024-04-04T18:44:30.000093Z"
    }
   },
   "id": "d97f5b4b0a7bda03",
   "execution_count": 20
  },
  {
   "cell_type": "code",
   "outputs": [],
   "source": [],
   "metadata": {
    "collapsed": false
   },
   "id": "75a66611c23000d9"
  }
 ],
 "metadata": {
  "kernelspec": {
   "display_name": "Python 3",
   "language": "python",
   "name": "python3"
  },
  "language_info": {
   "codemirror_mode": {
    "name": "ipython",
    "version": 2
   },
   "file_extension": ".py",
   "mimetype": "text/x-python",
   "name": "python",
   "nbconvert_exporter": "python",
   "pygments_lexer": "ipython2",
   "version": "2.7.6"
  }
 },
 "nbformat": 4,
 "nbformat_minor": 5
}
