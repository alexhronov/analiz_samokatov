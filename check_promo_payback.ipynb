{
 "cells": [
  {
   "cell_type": "code",
   "execution_count": 61,
   "metadata": {},
   "outputs": [
    {
     "data": {
      "text/html": [
       "<div>\n",
       "<style scoped>\n",
       "    .dataframe tbody tr th:only-of-type {\n",
       "        vertical-align: middle;\n",
       "    }\n",
       "\n",
       "    .dataframe tbody tr th {\n",
       "        vertical-align: top;\n",
       "    }\n",
       "\n",
       "    .dataframe thead th {\n",
       "        text-align: right;\n",
       "    }\n",
       "</style>\n",
       "<table border=\"1\" class=\"dataframe\">\n",
       "  <thead>\n",
       "    <tr style=\"text-align: right;\">\n",
       "      <th></th>\n",
       "      <th>Unnamed: 0</th>\n",
       "      <th>unnamed:_0</th>\n",
       "      <th>id</th>\n",
       "      <th>start_date</th>\n",
       "      <th>end_date</th>\n",
       "      <th>start_location</th>\n",
       "      <th>start_district</th>\n",
       "      <th>end_location</th>\n",
       "      <th>end_district</th>\n",
       "      <th>distance</th>\n",
       "      <th>promo</th>\n",
       "      <th>duration_sec</th>\n",
       "      <th>speed</th>\n",
       "      <th>speed_var</th>\n",
       "      <th>go</th>\n",
       "      <th>time_quantile</th>\n",
       "      <th>distance_diff</th>\n",
       "    </tr>\n",
       "  </thead>\n",
       "  <tbody>\n",
       "    <tr>\n",
       "      <th>0</th>\n",
       "      <td>0</td>\n",
       "      <td>0</td>\n",
       "      <td>100340</td>\n",
       "      <td>2023-04-22 09:01:03</td>\n",
       "      <td>2023-04-22 09:24:45</td>\n",
       "      <td>шевченко</td>\n",
       "      <td>юго-восточный</td>\n",
       "      <td>майская</td>\n",
       "      <td>октябрьский</td>\n",
       "      <td>4069.0</td>\n",
       "      <td>0</td>\n",
       "      <td>1422.0</td>\n",
       "      <td>2.861463</td>\n",
       "      <td>normal</td>\n",
       "      <td>майскаяоктябрьскиймайскаяоктябрьский</td>\n",
       "      <td>5.0</td>\n",
       "      <td>0.000000e+00</td>\n",
       "    </tr>\n",
       "    <tr>\n",
       "      <th>1</th>\n",
       "      <td>1</td>\n",
       "      <td>1</td>\n",
       "      <td>100341</td>\n",
       "      <td>2023-04-22 09:01:07</td>\n",
       "      <td>2023-04-22 09:29:32</td>\n",
       "      <td>чехова</td>\n",
       "      <td>заречный</td>\n",
       "      <td>спортивная</td>\n",
       "      <td>октябрьский</td>\n",
       "      <td>4515.0</td>\n",
       "      <td>0</td>\n",
       "      <td>1705.0</td>\n",
       "      <td>2.648094</td>\n",
       "      <td>normal</td>\n",
       "      <td>спортивнаяоктябрьскийспортивнаяоктябрьский</td>\n",
       "      <td>7.0</td>\n",
       "      <td>0.000000e+00</td>\n",
       "    </tr>\n",
       "    <tr>\n",
       "      <th>2</th>\n",
       "      <td>2</td>\n",
       "      <td>2</td>\n",
       "      <td>100342</td>\n",
       "      <td>2023-04-22 09:04:27</td>\n",
       "      <td>2023-04-22 09:42:46</td>\n",
       "      <td>буденного</td>\n",
       "      <td>октябрьский</td>\n",
       "      <td>суворова</td>\n",
       "      <td>ленинский</td>\n",
       "      <td>4520.0</td>\n",
       "      <td>0</td>\n",
       "      <td>2299.0</td>\n",
       "      <td>1.966072</td>\n",
       "      <td>normal</td>\n",
       "      <td>сувороваленинскийсувороваленинский</td>\n",
       "      <td>9.0</td>\n",
       "      <td>0.000000e+00</td>\n",
       "    </tr>\n",
       "    <tr>\n",
       "      <th>3</th>\n",
       "      <td>3</td>\n",
       "      <td>3</td>\n",
       "      <td>100343</td>\n",
       "      <td>2023-04-22 09:06:34</td>\n",
       "      <td>2023-04-22 09:38:23</td>\n",
       "      <td>труда</td>\n",
       "      <td>центральный</td>\n",
       "      <td>рабочая</td>\n",
       "      <td>северо-западный</td>\n",
       "      <td>3881.0</td>\n",
       "      <td>0</td>\n",
       "      <td>1909.0</td>\n",
       "      <td>2.033002</td>\n",
       "      <td>normal</td>\n",
       "      <td>рабочаясеверо-западныйрабочаясеверо-западный</td>\n",
       "      <td>8.0</td>\n",
       "      <td>-4.547474e-13</td>\n",
       "    </tr>\n",
       "    <tr>\n",
       "      <th>4</th>\n",
       "      <td>4</td>\n",
       "      <td>4</td>\n",
       "      <td>100344</td>\n",
       "      <td>2023-04-22 09:09:27</td>\n",
       "      <td>2023-04-22 09:40:07</td>\n",
       "      <td>первомайская</td>\n",
       "      <td>северо-западный</td>\n",
       "      <td>юбилейная</td>\n",
       "      <td>юго-восточный</td>\n",
       "      <td>4029.0</td>\n",
       "      <td>0</td>\n",
       "      <td>1840.0</td>\n",
       "      <td>2.189674</td>\n",
       "      <td>normal</td>\n",
       "      <td>юбилейнаяюго-восточныйюбилейнаяюго-восточный</td>\n",
       "      <td>8.0</td>\n",
       "      <td>0.000000e+00</td>\n",
       "    </tr>\n",
       "    <tr>\n",
       "      <th>...</th>\n",
       "      <td>...</td>\n",
       "      <td>...</td>\n",
       "      <td>...</td>\n",
       "      <td>...</td>\n",
       "      <td>...</td>\n",
       "      <td>...</td>\n",
       "      <td>...</td>\n",
       "      <td>...</td>\n",
       "      <td>...</td>\n",
       "      <td>...</td>\n",
       "      <td>...</td>\n",
       "      <td>...</td>\n",
       "      <td>...</td>\n",
       "      <td>...</td>\n",
       "      <td>...</td>\n",
       "      <td>...</td>\n",
       "      <td>...</td>\n",
       "    </tr>\n",
       "    <tr>\n",
       "      <th>97367</th>\n",
       "      <td>102250</td>\n",
       "      <td>102250</td>\n",
       "      <td>197707</td>\n",
       "      <td>2023-07-31 23:45:06</td>\n",
       "      <td>2023-08-01 00:06:55</td>\n",
       "      <td>озерная</td>\n",
       "      <td>юго-восточный</td>\n",
       "      <td>первомайская</td>\n",
       "      <td>северо-западный</td>\n",
       "      <td>3302.0</td>\n",
       "      <td>0</td>\n",
       "      <td>1309.0</td>\n",
       "      <td>2.522536</td>\n",
       "      <td>normal</td>\n",
       "      <td>первомайскаясеверо-западныйпервомайскаясеверо-...</td>\n",
       "      <td>4.0</td>\n",
       "      <td>0.000000e+00</td>\n",
       "    </tr>\n",
       "    <tr>\n",
       "      <th>97368</th>\n",
       "      <td>102251</td>\n",
       "      <td>102251</td>\n",
       "      <td>197708</td>\n",
       "      <td>2023-07-31 23:46:01</td>\n",
       "      <td>2023-08-01 00:25:35</td>\n",
       "      <td>мичурина</td>\n",
       "      <td>ленинский</td>\n",
       "      <td>садовая</td>\n",
       "      <td>заречный</td>\n",
       "      <td>4992.0</td>\n",
       "      <td>0</td>\n",
       "      <td>2374.0</td>\n",
       "      <td>2.102780</td>\n",
       "      <td>normal</td>\n",
       "      <td>садоваязаречныйсадоваязаречный</td>\n",
       "      <td>10.0</td>\n",
       "      <td>0.000000e+00</td>\n",
       "    </tr>\n",
       "    <tr>\n",
       "      <th>97369</th>\n",
       "      <td>102252</td>\n",
       "      <td>102252</td>\n",
       "      <td>197709</td>\n",
       "      <td>2023-07-31 23:48:04</td>\n",
       "      <td>2023-08-01 00:09:21</td>\n",
       "      <td>лермонтова</td>\n",
       "      <td>ленинский</td>\n",
       "      <td>куйбышева</td>\n",
       "      <td>центральный</td>\n",
       "      <td>2781.0</td>\n",
       "      <td>0</td>\n",
       "      <td>1277.0</td>\n",
       "      <td>2.177760</td>\n",
       "      <td>normal</td>\n",
       "      <td>куйбышевацентральныйкуйбышевацентральный</td>\n",
       "      <td>4.0</td>\n",
       "      <td>0.000000e+00</td>\n",
       "    </tr>\n",
       "    <tr>\n",
       "      <th>97370</th>\n",
       "      <td>102253</td>\n",
       "      <td>102253</td>\n",
       "      <td>197710</td>\n",
       "      <td>2023-07-31 23:51:41</td>\n",
       "      <td>2023-08-01 00:38:04</td>\n",
       "      <td>рябиновая</td>\n",
       "      <td>северо-западный</td>\n",
       "      <td>энергетиков</td>\n",
       "      <td>юго-восточный</td>\n",
       "      <td>6466.0</td>\n",
       "      <td>0</td>\n",
       "      <td>2783.0</td>\n",
       "      <td>2.323392</td>\n",
       "      <td>normal</td>\n",
       "      <td>энергетиковюго-восточныйэнергетиковюго-восточный</td>\n",
       "      <td>10.0</td>\n",
       "      <td>0.000000e+00</td>\n",
       "    </tr>\n",
       "    <tr>\n",
       "      <th>97371</th>\n",
       "      <td>102254</td>\n",
       "      <td>102254</td>\n",
       "      <td>197711</td>\n",
       "      <td>2023-07-31 23:57:01</td>\n",
       "      <td>2023-08-01 00:19:03</td>\n",
       "      <td>молодежная</td>\n",
       "      <td>юго-восточный</td>\n",
       "      <td>маяковского</td>\n",
       "      <td>центральный</td>\n",
       "      <td>3561.0</td>\n",
       "      <td>0</td>\n",
       "      <td>1322.0</td>\n",
       "      <td>2.693646</td>\n",
       "      <td>normal</td>\n",
       "      <td>маяковскогоцентральныймаяковскогоцентральный</td>\n",
       "      <td>4.0</td>\n",
       "      <td>0.000000e+00</td>\n",
       "    </tr>\n",
       "  </tbody>\n",
       "</table>\n",
       "<p>97372 rows × 17 columns</p>\n",
       "</div>"
      ],
      "text/plain": [
       "       Unnamed: 0  unnamed:_0      id           start_date  \\\n",
       "0               0           0  100340  2023-04-22 09:01:03   \n",
       "1               1           1  100341  2023-04-22 09:01:07   \n",
       "2               2           2  100342  2023-04-22 09:04:27   \n",
       "3               3           3  100343  2023-04-22 09:06:34   \n",
       "4               4           4  100344  2023-04-22 09:09:27   \n",
       "...           ...         ...     ...                  ...   \n",
       "97367      102250      102250  197707  2023-07-31 23:45:06   \n",
       "97368      102251      102251  197708  2023-07-31 23:46:01   \n",
       "97369      102252      102252  197709  2023-07-31 23:48:04   \n",
       "97370      102253      102253  197710  2023-07-31 23:51:41   \n",
       "97371      102254      102254  197711  2023-07-31 23:57:01   \n",
       "\n",
       "                  end_date start_location   start_district  end_location  \\\n",
       "0      2023-04-22 09:24:45       шевченко    юго-восточный       майская   \n",
       "1      2023-04-22 09:29:32         чехова         заречный    спортивная   \n",
       "2      2023-04-22 09:42:46      буденного      октябрьский      суворова   \n",
       "3      2023-04-22 09:38:23          труда      центральный       рабочая   \n",
       "4      2023-04-22 09:40:07   первомайская  северо-западный     юбилейная   \n",
       "...                    ...            ...              ...           ...   \n",
       "97367  2023-08-01 00:06:55        озерная    юго-восточный  первомайская   \n",
       "97368  2023-08-01 00:25:35       мичурина        ленинский       садовая   \n",
       "97369  2023-08-01 00:09:21     лермонтова        ленинский     куйбышева   \n",
       "97370  2023-08-01 00:38:04      рябиновая  северо-западный   энергетиков   \n",
       "97371  2023-08-01 00:19:03     молодежная    юго-восточный   маяковского   \n",
       "\n",
       "          end_district  distance  promo  duration_sec     speed speed_var  \\\n",
       "0          октябрьский    4069.0      0        1422.0  2.861463    normal   \n",
       "1          октябрьский    4515.0      0        1705.0  2.648094    normal   \n",
       "2            ленинский    4520.0      0        2299.0  1.966072    normal   \n",
       "3      северо-западный    3881.0      0        1909.0  2.033002    normal   \n",
       "4        юго-восточный    4029.0      0        1840.0  2.189674    normal   \n",
       "...                ...       ...    ...           ...       ...       ...   \n",
       "97367  северо-западный    3302.0      0        1309.0  2.522536    normal   \n",
       "97368         заречный    4992.0      0        2374.0  2.102780    normal   \n",
       "97369      центральный    2781.0      0        1277.0  2.177760    normal   \n",
       "97370    юго-восточный    6466.0      0        2783.0  2.323392    normal   \n",
       "97371      центральный    3561.0      0        1322.0  2.693646    normal   \n",
       "\n",
       "                                                      go  time_quantile  \\\n",
       "0                   майскаяоктябрьскиймайскаяоктябрьский            5.0   \n",
       "1             спортивнаяоктябрьскийспортивнаяоктябрьский            7.0   \n",
       "2                     сувороваленинскийсувороваленинский            9.0   \n",
       "3           рабочаясеверо-западныйрабочаясеверо-западный            8.0   \n",
       "4           юбилейнаяюго-восточныйюбилейнаяюго-восточный            8.0   \n",
       "...                                                  ...            ...   \n",
       "97367  первомайскаясеверо-западныйпервомайскаясеверо-...            4.0   \n",
       "97368                     садоваязаречныйсадоваязаречный           10.0   \n",
       "97369           куйбышевацентральныйкуйбышевацентральный            4.0   \n",
       "97370   энергетиковюго-восточныйэнергетиковюго-восточный           10.0   \n",
       "97371       маяковскогоцентральныймаяковскогоцентральный            4.0   \n",
       "\n",
       "       distance_diff  \n",
       "0       0.000000e+00  \n",
       "1       0.000000e+00  \n",
       "2       0.000000e+00  \n",
       "3      -4.547474e-13  \n",
       "4       0.000000e+00  \n",
       "...              ...  \n",
       "97367   0.000000e+00  \n",
       "97368   0.000000e+00  \n",
       "97369   0.000000e+00  \n",
       "97370   0.000000e+00  \n",
       "97371   0.000000e+00  \n",
       "\n",
       "[97372 rows x 17 columns]"
      ]
     },
     "execution_count": 61,
     "metadata": {},
     "output_type": "execute_result"
    }
   ],
   "source": [
    "import pandas as pd\n",
    "import datetime as dt\n",
    "import seaborn as sns\n",
    "import matplotlib.pyplot as plt\n",
    "import warnings\n",
    "from add_drive_cost import get_cost, get_dur\n",
    "\n",
    "warnings.filterwarnings(\"ignore\")\n",
    "\n",
    "\n",
    "df = pd.read_csv('rides_final.csv', sep=',', skipinitialspace=True, encoding='utf-8')\n",
    "df['end_date'] = df['end_date'].apply(lambda x: x[:19])"
   ]
  },
  {
   "cell_type": "code",
   "execution_count": 62,
   "metadata": {},
   "outputs": [
    {
     "data": {
      "text/plain": [
       "Index(['Unnamed: 0', 'unnamed:_0', 'id', 'start_date', 'end_date',\n",
       "       'start_location', 'start_district', 'end_location', 'end_district',\n",
       "       'distance', 'promo', 'duration_sec', 'speed', 'speed_var', 'go',\n",
       "       'time_quantile', 'distance_diff'],\n",
       "      dtype='object')"
      ]
     },
     "execution_count": 62,
     "metadata": {},
     "output_type": "execute_result"
    }
   ],
   "source": [
    "df.columns"
   ]
  },
  {
   "cell_type": "code",
   "execution_count": 63,
   "metadata": {},
   "outputs": [],
   "source": [
    "df['drive_dur'] = df.apply(lambda row: get_dur(*row[['start_date', 'end_date']]), axis=1)\n",
    "lower_bound = df.drive_dur.quantile(q=0.025)\n",
    "upper_bound = df.drive_dur.quantile(q=0.975)\n",
    "df['drive_dur'] = df[(lower_bound < df.drive_dur) & (df.drive_dur < upper_bound)]['drive_dur']\n",
    "df['drive_cost'] = df.apply(lambda row: get_cost(*row[['start_date', 'drive_dur', 'promo']]), axis=1)"
   ]
  },
  {
   "cell_type": "code",
   "execution_count": 64,
   "metadata": {},
   "outputs": [
    {
     "name": "stdout",
     "output_type": "stream",
     "text": [
      "(1911, 19)\n"
     ]
    }
   ],
   "source": [
    "print(df[df['promo'] == 1].shape)"
   ]
  },
  {
   "cell_type": "markdown",
   "metadata": {},
   "source": [
    "Видим, что всего промокод был использован в 2006 поездках. \n",
    "Можем посчитать, что на бесплатном старте мы потеряли 2006 * 30 = 60180 рублей"
   ]
  },
  {
   "cell_type": "code",
   "execution_count": 65,
   "metadata": {},
   "outputs": [
    {
     "name": "stdout",
     "output_type": "stream",
     "text": [
      "174292.0\n"
     ]
    }
   ],
   "source": [
    "print(df[df['promo'] == 1]['drive_cost'].sum())"
   ]
  },
  {
   "cell_type": "markdown",
   "metadata": {},
   "source": [
    "Несмотря на бесплатный старт мы все равно получили 194396 рублей выручки.\n"
   ]
  },
  {
   "cell_type": "markdown",
   "metadata": {},
   "source": [
    "Таким образом с данных поездок мы извлекли 194396 - 60180 = 134216 рублей чистой прибыли"
   ]
  },
  {
   "cell_type": "code",
   "execution_count": 66,
   "metadata": {},
   "outputs": [
    {
     "data": {
      "text/plain": [
       "<Axes: >"
      ]
     },
     "execution_count": 66,
     "metadata": {},
     "output_type": "execute_result"
    },
    {
     "data": {
      "image/png": "[encoded data removed]",
      "text/plain": [
       "<Figure size 640x480 with 1 Axes>"
      ]
     },
     "metadata": {},
     "output_type": "display_data"
    }
   ],
   "source": [
    "def get_weekday(date_str: str):\n",
    "    return dt.datetime.strptime(date_str, '%Y-%m-%d %H:%M:%S').weekday()\n",
    "\n",
    "\n",
    "def check(date_str: str):\n",
    "    date = dt.datetime.strptime(date_str, '%Y-%m-%d %H:%M:%S')\n",
    "    return 6 <= date.hour <= 9\n",
    "\n",
    "\n",
    "df_morning = df[df['start_date'].apply(check)]\n",
    "weekday = df_morning['start_date'].apply(get_weekday)\n",
    "weekdays_cnt = [len(df_morning[weekday == wd]) for wd in range(7)]\n",
    "sns.barplot(weekdays_cnt)"
   ]
  },
  {
   "cell_type": "markdown",
   "metadata": {},
   "source": [
    "Видим, что по понедельникам с 6 до 10 утра трафик действительно выше, чем в другие дни"
   ]
  },
  {
   "cell_type": "code",
   "execution_count": 67,
   "metadata": {},
   "outputs": [
    {
     "data": {
      "text/plain": [
       "<Axes: >"
      ]
     },
     "execution_count": 67,
     "metadata": {},
     "output_type": "execute_result"
    },
    {
     "data": {
      "image/png": "[encoded data removed]",
      "text/plain": [
       "<Figure size 640x480 with 1 Axes>"
      ]
     },
     "metadata": {},
     "output_type": "display_data"
    }
   ],
   "source": [
    "weekdays_sum = [df_morning[weekday == wd]['drive_cost'].sum() for wd in range(7)]\n",
    "sns.barplot(weekdays_sum)"
   ]
  },
  {
   "cell_type": "code",
   "execution_count": 68,
   "metadata": {},
   "outputs": [
    {
     "data": {
      "text/plain": [
       "<Axes: ylabel='drive_dur'>"
      ]
     },
     "execution_count": 68,
     "metadata": {},
     "output_type": "execute_result"
    },
    {
     "data": {
      "image/png": "[encoded data removed]",
      "text/plain": [
       "<Figure size 640x480 with 1 Axes>"
      ]
     },
     "metadata": {},
     "output_type": "display_data"
    }
   ],
   "source": [
    "df['weekday'] = df['start_date'].apply(get_weekday)\n",
    "sns.boxplot(data=df, y='drive_dur', hue='weekday')"
   ]
  }
 ],
 "metadata": {
  "kernelspec": {
   "display_name": ".venv",
   "language": "python",
   "name": "python3"
  },
  "language_info": {
   "codemirror_mode": {
    "name": "ipython",
    "version": 3
   },
   "file_extension": ".py",
   "mimetype": "text/x-python",
   "name": "python",
   "nbconvert_exporter": "python",
   "pygments_lexer": "ipython3",
   "version": "3.11.4"
  }
 },
 "nbformat": 4,
 "nbformat_minor": 2
}
