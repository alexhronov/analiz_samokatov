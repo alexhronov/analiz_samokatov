{
 "cells": [
  {
   "cell_type": "code",
   "execution_count": 9,
   "metadata": {},
   "outputs": [],
   "source": [
    "import pandas as pd\n",
    "import datetime as dt\n",
    "import seaborn as sns\n",
    "import matplotlib.pyplot as plt\n",
    "import warnings\n",
    "from add_drive_cost import *\n",
    "\n",
    "warnings.filterwarnings(\"ignore\")\n",
    "\n",
    "\n",
    "rd = pd.read_csv('rides_final.csv', sep=',', skipinitialspace=True, encoding='utf-8')"
   ]
  },
  {
   "cell_type": "code",
   "execution_count": 10,
   "metadata": {},
   "outputs": [],
   "source": [
    "df['drive_dur'] = df.apply(lambda row: get_dur(*row[['start_date', 'end_date']]), axis=1)\n",
    "df['drive_cost'] = df.apply(lambda row: get_cost(*row[['start_date', 'drive_dur', 'promo']]), axis=1)"
   ]
  },
  {
   "cell_type": "code",
   "execution_count": 11,
   "metadata": {},
   "outputs": [
    {
     "name": "stdout",
     "output_type": "stream",
     "text": [
      "(2006, 14)\n"
     ]
    }
   ],
   "source": [
    "print(df[df['promo'] == 1].shape)"
   ]
  },
  {
   "cell_type": "markdown",
   "metadata": {},
   "source": [
    "Видим, что всего промокод был использован в 2006 поездках. \n",
    "Можем посчитать, что на бесплатном старте мы потеряли 2006 * 30 = 60180 рублей"
   ]
  },
  {
   "cell_type": "code",
   "execution_count": 12,
   "metadata": {},
   "outputs": [
    {
     "name": "stdout",
     "output_type": "stream",
     "text": [
      "194396\n"
     ]
    }
   ],
   "source": [
    "print(df[df['promo'] == 1]['drive_cost'].sum())"
   ]
  },
  {
   "cell_type": "markdown",
   "metadata": {},
   "source": [
    "Несмотря на бесплатный старт мы все равно получили 194396 рублей выручки.\n"
   ]
  },
  {
   "cell_type": "markdown",
   "metadata": {},
   "source": [
    "Таким образом с данных поездок мы извлекли 194396 - 60180 = 134216 рублей чистой прибыли"
   ]
  },
  {
   "cell_type": "code",
   "execution_count": 19,
   "metadata": {},
   "outputs": [
    {
     "data": {
      "text/plain": [
       "<Axes: >"
      ]
     },
     "execution_count": 19,
     "metadata": {},
     "output_type": "execute_result"
    },
    {
     "data": {
      "image/png": "[encoded data removed]",
      "text/plain": [
       "<Figure size 640x480 with 1 Axes>"
      ]
     },
     "metadata": {},
     "output_type": "display_data"
    }
   ],
   "source": [
    "def get_weekday(date_str: str):\n",
    "    return dt.datetime.strptime(date_str, '%Y-%m-%d %H:%M:%S').weekday()\n",
    "\n",
    "\n",
    "def check(date_str: str):\n",
    "    date = dt.datetime.strptime(date_str, '%Y-%m-%d %H:%M:%S')\n",
    "    return 6 <= date.hour <= 9\n",
    "\n",
    "\n",
    "df_morning = df[df['start_date'].apply(check)]\n",
    "weekday = df_morning['start_date'].apply(get_weekday)\n",
    "weekdays_cnt = [len(df_morning[weekday == wd]) for wd in range(7)]\n",
    "sns.barplot(weekdays_cnt)"
   ]
  },
  {
   "cell_type": "markdown",
   "metadata": {},
   "source": [
    "Видим, что по понедельникам с 6 до 10 утра трафик действительно выше, чем в другие дни"
   ]
  }
 ],
 "metadata": {
  "kernelspec": {
   "display_name": ".venv",
   "language": "python",
   "name": "python3"
  },
  "language_info": {
   "codemirror_mode": {
    "name": "ipython",
    "version": 3
   },
   "file_extension": ".py",
   "mimetype": "text/x-python",
   "name": "python",
   "nbconvert_exporter": "python",
   "pygments_lexer": "ipython3",
   "version": "3.11.4"
  }
 },
 "nbformat": 4,
 "nbformat_minor": 2
}
