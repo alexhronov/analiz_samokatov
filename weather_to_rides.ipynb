{
 "cells": [
  {
   "cell_type": "code",
   "execution_count": 1,
   "id": "initial_id",
   "metadata": {
    "collapsed": true,
    "ExecuteTime": {
     "end_time": "2024-04-21T18:43:20.977071Z",
     "start_time": "2024-04-21T18:40:57.255938Z"
    }
   },
   "outputs": [],
   "source": [
    "import pandas as pd\n",
    "import datetime as dt\n",
    "import seaborn as sns\n",
    "import matplotlib.pyplot as plt\n",
    "from scipy.stats import *\n",
    "import warnings\n",
    "from add_drive_cost import *\n"
   ]
  },
  {
   "cell_type": "code",
   "outputs": [],
   "source": [
    "wt = pd.read_csv('kpolyakov.spb.csv')\n",
    "wt['temperature'] = wt['temperature'].fillna(wt['temperature_predictions'])\n",
    "rd = pd.read_csv('rides_final.csv')\n",
    "rd['hour_total'] = pd.to_datetime(rd['start_date']).apply(lambda x: x.hour + x.dayofyear * 24)"
   ],
   "metadata": {
    "collapsed": false,
    "ExecuteTime": {
     "end_time": "2024-04-20T19:02:45.960989800Z",
     "start_time": "2024-04-20T19:02:44.286540400Z"
    }
   },
   "id": "5e82e56aef54a037",
   "execution_count": 9
  },
  {
   "cell_type": "code",
   "outputs": [],
   "source": [
    "wt_to_rd = pd.merge(rd, wt, on='hour_total', how='inner')"
   ],
   "metadata": {
    "collapsed": false,
    "ExecuteTime": {
     "end_time": "2024-04-20T19:02:47.187822800Z",
     "start_time": "2024-04-20T19:02:47.097580600Z"
    }
   },
   "id": "98bb9dd8fdbc88a8",
   "execution_count": 10
  },
  {
   "cell_type": "code",
   "outputs": [
    {
     "data": {
      "text/plain": "       Unnamed: 0.3  Unnamed: 0.2  Unnamed: 0.1  Unnamed: 0_x  unnamed:_0_x  \\\n0                 0             0             0             0             0   \n1                 1             1             1             1             1   \n2                 2             2             2             2             2   \n3                 3             3             3             3             3   \n4                 4             4             4             4             4   \n...             ...           ...           ...           ...           ...   \n97367         97367         97367         97367        102250        102250   \n97368         97368         97368         97368        102251        102251   \n97369         97369         97369         97369        102252        102252   \n97370         97370         97370         97370        102253        102253   \n97371         97371         97371         97371        102254        102254   \n\n           id           start_date             end_date start_location  \\\n0      100340  2023-04-22 09:01:03  2023-04-22 09:24:45       шевченко   \n1      100341  2023-04-22 09:01:07  2023-04-22 09:29:32         чехова   \n2      100342  2023-04-22 09:04:27  2023-04-22 09:42:46      буденного   \n3      100343  2023-04-22 09:06:34  2023-04-22 09:38:23          труда   \n4      100344  2023-04-22 09:09:27  2023-04-22 09:40:07   первомайская   \n...       ...                  ...                  ...            ...   \n97367  197707  2023-07-31 23:45:06  2023-08-01 00:06:55        озерная   \n97368  197708  2023-07-31 23:46:01  2023-08-01 00:25:35       мичурина   \n97369  197709  2023-07-31 23:48:04  2023-08-01 00:09:21     лермонтова   \n97370  197710  2023-07-31 23:51:41  2023-08-01 00:38:04      рябиновая   \n97371  197711  2023-07-31 23:57:01  2023-08-01 00:19:03     молодежная   \n\n        start_district  ... hour_category_afternoon hour_category_evening  \\\n0        юго-восточный  ...                     0.0                   0.0   \n1             заречный  ...                     0.0                   0.0   \n2          октябрьский  ...                     0.0                   0.0   \n3          центральный  ...                     0.0                   0.0   \n4      северо-западный  ...                     0.0                   0.0   \n...                ...  ...                     ...                   ...   \n97367    юго-восточный  ...                     0.0                   0.0   \n97368        ленинский  ...                     0.0                   0.0   \n97369        ленинский  ...                     0.0                   0.0   \n97370  северо-западный  ...                     0.0                   0.0   \n97371    юго-восточный  ...                     0.0                   0.0   \n\n       hour_category_morning  hour_category_nan  hour_category_night  \\\n0                        1.0                0.0                  0.0   \n1                        1.0                0.0                  0.0   \n2                        1.0                0.0                  0.0   \n3                        1.0                0.0                  0.0   \n4                        1.0                0.0                  0.0   \n...                      ...                ...                  ...   \n97367                    0.0                0.0                  1.0   \n97368                    0.0                0.0                  1.0   \n97369                    0.0                0.0                  1.0   \n97370                    0.0                0.0                  1.0   \n97371                    0.0                0.0                  1.0   \n\n       season_spring season_summer season_nan  temperature_predictions  \\\n0                1.0           0.0        0.0                 9.786905   \n1                1.0           0.0        0.0                 9.786905   \n2                1.0           0.0        0.0                 9.786905   \n3                1.0           0.0        0.0                 9.786905   \n4                1.0           0.0        0.0                 9.786905   \n...              ...           ...        ...                      ...   \n97367            0.0           1.0        0.0                21.748336   \n97368            0.0           1.0        0.0                21.748336   \n97369            0.0           1.0        0.0                21.748336   \n97370            0.0           1.0        0.0                21.748336   \n97371            0.0           1.0        0.0                21.748336   \n\n       temperature_interpolated  \n0                     13.850245  \n1                     13.850245  \n2                     13.850245  \n3                     13.850245  \n4                     13.850245  \n...                         ...  \n97367                 20.620245  \n97368                 20.620245  \n97369                 20.620245  \n97370                 20.620245  \n97371                 20.620245  \n\n[97372 rows x 45 columns]",
      "text/html": "<div>\n<style scoped>\n    .dataframe tbody tr th:only-of-type {\n        vertical-align: middle;\n    }\n\n    .dataframe tbody tr th {\n        vertical-align: top;\n    }\n\n    .dataframe thead th {\n        text-align: right;\n    }\n</style>\n<table border=\"1\" class=\"dataframe\">\n  <thead>\n    <tr style=\"text-align: right;\">\n      <th></th>\n      <th>Unnamed: 0.3</th>\n      <th>Unnamed: 0.2</th>\n      <th>Unnamed: 0.1</th>\n      <th>Unnamed: 0_x</th>\n      <th>unnamed:_0_x</th>\n      <th>id</th>\n      <th>start_date</th>\n      <th>end_date</th>\n      <th>start_location</th>\n      <th>start_district</th>\n      <th>...</th>\n      <th>hour_category_afternoon</th>\n      <th>hour_category_evening</th>\n      <th>hour_category_morning</th>\n      <th>hour_category_nan</th>\n      <th>hour_category_night</th>\n      <th>season_spring</th>\n      <th>season_summer</th>\n      <th>season_nan</th>\n      <th>temperature_predictions</th>\n      <th>temperature_interpolated</th>\n    </tr>\n  </thead>\n  <tbody>\n    <tr>\n      <th>0</th>\n      <td>0</td>\n      <td>0</td>\n      <td>0</td>\n      <td>0</td>\n      <td>0</td>\n      <td>100340</td>\n      <td>2023-04-22 09:01:03</td>\n      <td>2023-04-22 09:24:45</td>\n      <td>шевченко</td>\n      <td>юго-восточный</td>\n      <td>...</td>\n      <td>0.0</td>\n      <td>0.0</td>\n      <td>1.0</td>\n      <td>0.0</td>\n      <td>0.0</td>\n      <td>1.0</td>\n      <td>0.0</td>\n      <td>0.0</td>\n      <td>9.786905</td>\n      <td>13.850245</td>\n    </tr>\n    <tr>\n      <th>1</th>\n      <td>1</td>\n      <td>1</td>\n      <td>1</td>\n      <td>1</td>\n      <td>1</td>\n      <td>100341</td>\n      <td>2023-04-22 09:01:07</td>\n      <td>2023-04-22 09:29:32</td>\n      <td>чехова</td>\n      <td>заречный</td>\n      <td>...</td>\n      <td>0.0</td>\n      <td>0.0</td>\n      <td>1.0</td>\n      <td>0.0</td>\n      <td>0.0</td>\n      <td>1.0</td>\n      <td>0.0</td>\n      <td>0.0</td>\n      <td>9.786905</td>\n      <td>13.850245</td>\n    </tr>\n    <tr>\n      <th>2</th>\n      <td>2</td>\n      <td>2</td>\n      <td>2</td>\n      <td>2</td>\n      <td>2</td>\n      <td>100342</td>\n      <td>2023-04-22 09:04:27</td>\n      <td>2023-04-22 09:42:46</td>\n      <td>буденного</td>\n      <td>октябрьский</td>\n      <td>...</td>\n      <td>0.0</td>\n      <td>0.0</td>\n      <td>1.0</td>\n      <td>0.0</td>\n      <td>0.0</td>\n      <td>1.0</td>\n      <td>0.0</td>\n      <td>0.0</td>\n      <td>9.786905</td>\n      <td>13.850245</td>\n    </tr>\n    <tr>\n      <th>3</th>\n      <td>3</td>\n      <td>3</td>\n      <td>3</td>\n      <td>3</td>\n      <td>3</td>\n      <td>100343</td>\n      <td>2023-04-22 09:06:34</td>\n      <td>2023-04-22 09:38:23</td>\n      <td>труда</td>\n      <td>центральный</td>\n      <td>...</td>\n      <td>0.0</td>\n      <td>0.0</td>\n      <td>1.0</td>\n      <td>0.0</td>\n      <td>0.0</td>\n      <td>1.0</td>\n      <td>0.0</td>\n      <td>0.0</td>\n      <td>9.786905</td>\n      <td>13.850245</td>\n    </tr>\n    <tr>\n      <th>4</th>\n      <td>4</td>\n      <td>4</td>\n      <td>4</td>\n      <td>4</td>\n      <td>4</td>\n      <td>100344</td>\n      <td>2023-04-22 09:09:27</td>\n      <td>2023-04-22 09:40:07</td>\n      <td>первомайская</td>\n      <td>северо-западный</td>\n      <td>...</td>\n      <td>0.0</td>\n      <td>0.0</td>\n      <td>1.0</td>\n      <td>0.0</td>\n      <td>0.0</td>\n      <td>1.0</td>\n      <td>0.0</td>\n      <td>0.0</td>\n      <td>9.786905</td>\n      <td>13.850245</td>\n    </tr>\n    <tr>\n      <th>...</th>\n      <td>...</td>\n      <td>...</td>\n      <td>...</td>\n      <td>...</td>\n      <td>...</td>\n      <td>...</td>\n      <td>...</td>\n      <td>...</td>\n      <td>...</td>\n      <td>...</td>\n      <td>...</td>\n      <td>...</td>\n      <td>...</td>\n      <td>...</td>\n      <td>...</td>\n      <td>...</td>\n      <td>...</td>\n      <td>...</td>\n      <td>...</td>\n      <td>...</td>\n      <td>...</td>\n    </tr>\n    <tr>\n      <th>97367</th>\n      <td>97367</td>\n      <td>97367</td>\n      <td>97367</td>\n      <td>102250</td>\n      <td>102250</td>\n      <td>197707</td>\n      <td>2023-07-31 23:45:06</td>\n      <td>2023-08-01 00:06:55</td>\n      <td>озерная</td>\n      <td>юго-восточный</td>\n      <td>...</td>\n      <td>0.0</td>\n      <td>0.0</td>\n      <td>0.0</td>\n      <td>0.0</td>\n      <td>1.0</td>\n      <td>0.0</td>\n      <td>1.0</td>\n      <td>0.0</td>\n      <td>21.748336</td>\n      <td>20.620245</td>\n    </tr>\n    <tr>\n      <th>97368</th>\n      <td>97368</td>\n      <td>97368</td>\n      <td>97368</td>\n      <td>102251</td>\n      <td>102251</td>\n      <td>197708</td>\n      <td>2023-07-31 23:46:01</td>\n      <td>2023-08-01 00:25:35</td>\n      <td>мичурина</td>\n      <td>ленинский</td>\n      <td>...</td>\n      <td>0.0</td>\n      <td>0.0</td>\n      <td>0.0</td>\n      <td>0.0</td>\n      <td>1.0</td>\n      <td>0.0</td>\n      <td>1.0</td>\n      <td>0.0</td>\n      <td>21.748336</td>\n      <td>20.620245</td>\n    </tr>\n    <tr>\n      <th>97369</th>\n      <td>97369</td>\n      <td>97369</td>\n      <td>97369</td>\n      <td>102252</td>\n      <td>102252</td>\n      <td>197709</td>\n      <td>2023-07-31 23:48:04</td>\n      <td>2023-08-01 00:09:21</td>\n      <td>лермонтова</td>\n      <td>ленинский</td>\n      <td>...</td>\n      <td>0.0</td>\n      <td>0.0</td>\n      <td>0.0</td>\n      <td>0.0</td>\n      <td>1.0</td>\n      <td>0.0</td>\n      <td>1.0</td>\n      <td>0.0</td>\n      <td>21.748336</td>\n      <td>20.620245</td>\n    </tr>\n    <tr>\n      <th>97370</th>\n      <td>97370</td>\n      <td>97370</td>\n      <td>97370</td>\n      <td>102253</td>\n      <td>102253</td>\n      <td>197710</td>\n      <td>2023-07-31 23:51:41</td>\n      <td>2023-08-01 00:38:04</td>\n      <td>рябиновая</td>\n      <td>северо-западный</td>\n      <td>...</td>\n      <td>0.0</td>\n      <td>0.0</td>\n      <td>0.0</td>\n      <td>0.0</td>\n      <td>1.0</td>\n      <td>0.0</td>\n      <td>1.0</td>\n      <td>0.0</td>\n      <td>21.748336</td>\n      <td>20.620245</td>\n    </tr>\n    <tr>\n      <th>97371</th>\n      <td>97371</td>\n      <td>97371</td>\n      <td>97371</td>\n      <td>102254</td>\n      <td>102254</td>\n      <td>197711</td>\n      <td>2023-07-31 23:57:01</td>\n      <td>2023-08-01 00:19:03</td>\n      <td>молодежная</td>\n      <td>юго-восточный</td>\n      <td>...</td>\n      <td>0.0</td>\n      <td>0.0</td>\n      <td>0.0</td>\n      <td>0.0</td>\n      <td>1.0</td>\n      <td>0.0</td>\n      <td>1.0</td>\n      <td>0.0</td>\n      <td>21.748336</td>\n      <td>20.620245</td>\n    </tr>\n  </tbody>\n</table>\n<p>97372 rows × 45 columns</p>\n</div>"
     },
     "execution_count": 11,
     "metadata": {},
     "output_type": "execute_result"
    }
   ],
   "source": [
    "wt_to_rd"
   ],
   "metadata": {
    "collapsed": false,
    "ExecuteTime": {
     "end_time": "2024-04-20T19:02:49.331476100Z",
     "start_time": "2024-04-20T19:02:49.178066900Z"
    }
   },
   "id": "8db6eb571b832aa6",
   "execution_count": 11
  },
  {
   "cell_type": "code",
   "outputs": [],
   "source": [
    "wt_to_rd = wt_to_rd[['distance','promo','duration_sec','speed','drive_cost','hour_total','temperature','precipitation_total','wind_gust','cloud_cover_total','sunshine_duration']]"
   ],
   "metadata": {
    "collapsed": false,
    "ExecuteTime": {
     "end_time": "2024-04-20T19:04:06.956203700Z",
     "start_time": "2024-04-20T19:04:06.927126900Z"
    }
   },
   "id": "11e510fd2af2559",
   "execution_count": 13
  },
  {
   "cell_type": "code",
   "outputs": [],
   "source": [
    "wt_to_rd.corr().to_excel('corr_total.xlsx')"
   ],
   "metadata": {
    "collapsed": false,
    "ExecuteTime": {
     "end_time": "2024-04-20T19:04:30.434437Z",
     "start_time": "2024-04-20T19:04:29.515996200Z"
    }
   },
   "id": "6d0f39d1dc5c0807",
   "execution_count": 14
  },
  {
   "cell_type": "code",
   "outputs": [],
   "source": [
    "sns.heatmap(wt_to_rd.corr())"
   ],
   "metadata": {
    "collapsed": false
   },
   "id": "6f98053016731595"
  }
 ],
 "metadata": {
  "kernelspec": {
   "display_name": "Python 3",
   "language": "python",
   "name": "python3"
  },
  "language_info": {
   "codemirror_mode": {
    "name": "ipython",
    "version": 2
   },
   "file_extension": ".py",
   "mimetype": "text/x-python",
   "name": "python",
   "nbconvert_exporter": "python",
   "pygments_lexer": "ipython2",
   "version": "2.7.6"
  }
 },
 "nbformat": 4,
 "nbformat_minor": 5
}
